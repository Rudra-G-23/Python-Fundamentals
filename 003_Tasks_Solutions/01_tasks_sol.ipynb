{
  "cells": [
    {
      "cell_type": "markdown",
      "metadata": {
        "id": "A05OG15VqOPF"
      },
      "source": [
        "# Task : Session 1\n",
        "Solve these questions own your own and try to test yourself what you have learned in the session.\n",
        "\n",
        "Happy Learning!"
      ]
    },
    {
      "cell_type": "markdown",
      "metadata": {
        "id": "2doIXf8bqe9_"
      },
      "source": [
        "### Q1 :- Print the given strings as per stated format.\n",
        "\n",
        "**Given strings**:\n",
        "```\n",
        "\"Data\" \"Science\" \"Mentorship\" \"Program\"\n",
        "\"By\" \"CampusX\"\n",
        "```\n",
        "**Output**:\n",
        "```\n",
        "Data-Science-Mentorship-Program-started-By-CampusX\n",
        "```\n",
        "\n",
        "Concept- [Seperator and End]"
      ]
    },
    {
      "cell_type": "code",
      "execution_count": 4,
      "metadata": {
        "colab": {
          "base_uri": "https://localhost:8080/"
        },
        "id": "-em6d3KErDtp",
        "outputId": "284c2ca4-141f-4f8d-8684-7f574c8d8142"
      },
      "outputs": [
        {
          "name": "stdout",
          "output_type": "stream",
          "text": [
            "Data-Science-Mentorship-Program-By-CampusX\n"
          ]
        }
      ],
      "source": [
        "# Write your code here\n",
        "print('Data', 'Science', 'Mentorship', 'Program', sep='-', end='-')\n",
        "print('By', 'CampusX', sep='-')"
      ]
    },
    {
      "cell_type": "markdown",
      "metadata": {
        "id": "1KUpN7ZTrC3_"
      },
      "source": [
        "### Q2:- Write a program that will convert celsius value to fahrenheit.\n",
        "\n",
        "\n",
        "Formula\t\n",
        "(0°C × 9/5) + 32 = 32°F\n",
        "\n",
        "C --> F"
      ]
    },
    {
      "cell_type": "code",
      "execution_count": 14,
      "metadata": {
        "colab": {
          "base_uri": "https://localhost:8080/"
        },
        "id": "yxKYhYQiqWfj",
        "outputId": "912cafee-db17-4805-92ed-d4e4db41e0e0"
      },
      "outputs": [
        {
          "name": "stdout",
          "output_type": "stream",
          "text": [
            "celsius value is  20.0\n",
            "Fahrenheit is : 68.0\n"
          ]
        }
      ],
      "source": [
        "# Write your code here\n",
        "\n",
        "celsius = float(input(\"What is the Celsius Value :\"))\n",
        "\n",
        "ans = 1.8 * celsius + 32\n",
        "print('celsius value is ', celsius)\n",
        "print('Fahrenheit is :', ans)"
      ]
    },
    {
      "cell_type": "markdown",
      "metadata": {
        "id": "RLrOBBJurLB2"
      },
      "source": [
        "### Q3:- Take 2 numbers as input from the user.Write a program to swap the numbers without using any special python syntax."
      ]
    },
    {
      "cell_type": "code",
      "execution_count": 20,
      "metadata": {
        "colab": {
          "base_uri": "https://localhost:8080/"
        },
        "id": "yPn7if0TrJ4F",
        "outputId": "cd952c5e-5c96-4a90-a8fb-7ce693f027e2"
      },
      "outputs": [
        {
          "name": "stdout",
          "output_type": "stream",
          "text": [
            "Before Swap\n",
            "A is : 5\n",
            "B is : 10\n",
            "After swap\n",
            "Now A is : 10\n",
            "Now A is : 5\n"
          ]
        }
      ],
      "source": [
        "# Write your code here\n",
        "a = input('Give A :')\n",
        "b = input('Give B :')\n",
        "\n",
        "print('Before Swap')\n",
        "print('A is :', a)\n",
        "print('B is :', b)\n",
        "\n",
        "c = a\n",
        "a = b \n",
        "b = c\n",
        "\n",
        "print('After swap')\n",
        "print('Now A is :', a)\n",
        "print('Now A is :', b)"
      ]
    },
    {
      "cell_type": "markdown",
      "metadata": {
        "id": "waLCP1bjr7ML"
      },
      "source": [
        "### Q4:- Write a program to find the euclidean distance between two coordinates.Take both the coordinates from the user as input."
      ]
    },
    {
      "cell_type": "markdown",
      "metadata": {},
      "source": [
        "![](https://upload.wikimedia.org/wikipedia/commons/5/55/Euclidean_distance_2d.svg)"
      ]
    },
    {
      "cell_type": "code",
      "execution_count": 25,
      "metadata": {
        "colab": {
          "base_uri": "https://localhost:8080/"
        },
        "id": "Pl1Sv-xnrxnH",
        "outputId": "59c4a7e4-c804-4dc4-80a2-3b5d5fc7d5d0"
      },
      "outputs": [
        {
          "name": "stdout",
          "output_type": "stream",
          "text": [
            "Point 1 coordinate a1 is 5 & b1 is 12 \n",
            " \n",
            "Point 2 coordinate a2 is 5 & b2 is 12 \n",
            " \n",
            "Distance is : 2050\n"
          ]
        }
      ],
      "source": [
        "# Write your code here\n",
        "\n",
        "a1 = int(input('Give the value for a1'))\n",
        "b1 = int(input('Give the value for b1'))\n",
        "print(f'Point 1 coordinate a1 is {a1} & b1 is {b1} \\n ')\n",
        "\n",
        "a2 = int(input('Give the value for a2'))\n",
        "b2 = int(input('Give the value for b2'))\n",
        "print(f'Point 2 coordinate a2 is {a1} & b2 is {b1} \\n ')\n",
        "\n",
        "distance = (a1 - a2)**2 + (b1-b2)**2\n",
        "print('Distance is :', distance)"
      ]
    },
    {
      "cell_type": "markdown",
      "metadata": {
        "id": "VLrhg-FRsHjR"
      },
      "source": [
        "### Q5:- Write a program to find the simple interest when the value of principle,rate of interest and time period is provided by the user.\n",
        "\n",
        "Hint - si = (p * t * r)/100\n"
      ]
    },
    {
      "cell_type": "code",
      "execution_count": null,
      "metadata": {
        "colab": {
          "base_uri": "https://localhost:8080/"
        },
        "id": "s40DlReZsTmY",
        "outputId": "8059d580-f7d9-474a-dc9a-08b86255d82c"
      },
      "outputs": [
        {
          "name": "stdout",
          "output_type": "stream",
          "text": [
            "Principle Amount is :5 \n",
            " Rate of  Interest is 10 \n",
            " Years is 16\n",
            "Your Total amount is  8.0\n"
          ]
        }
      ],
      "source": [
        "# Write your code here\n",
        "\n",
        "# user input \n",
        "# show the data\n",
        "# calculate\n",
        "\n",
        "# user input \n",
        "p = int(input('What is the Principle amount :'))\n",
        "r = int(input('What is the Rate of  interest :'))\n",
        "t = int(input('For how many periods (in years) :'))\n",
        "\n",
        "# show the data\n",
        "print(f'Principle Amount is : {p} \\n Rate of  Interest is : {r} \\n Years is : {t}')\n",
        "\n",
        "# calculate\n",
        "si  = (p * t * r) / 100\n",
        "print('Your Total amount is ', si)\n"
      ]
    },
    {
      "cell_type": "markdown",
      "metadata": {
        "id": "LMy0BTUktYKa"
      },
      "source": [
        "### Q6:- Write a program that will tell the number of dogs and chicken are there when the user will provide the value of total heads and legs.\n",
        "\n",
        "For example:\n",
        "Input:\n",
        "heads -> 4\n",
        "legs -> 12\n",
        "<br>\n",
        "Output:\n",
        "dogs -> 2\n",
        "chicken -> 2\n",
        "\n",
        "\n",
        "\n"
      ]
    },
    {
      "cell_type": "code",
      "execution_count": null,
      "metadata": {
        "id": "XSBvJoA4tXaG"
      },
      "outputs": [],
      "source": [
        "# Write your code here\n",
        "# loop question\n",
        "# solve later "
      ]
    },
    {
      "cell_type": "markdown",
      "metadata": {
        "id": "gJ7C5kZYt4BP"
      },
      "source": [
        "### Q7:- Write a program to find the sum of squares of first n natural numbers where n will be provided by the user.\n",
        "\n",
        "Hint - Thus, the sum of the squares of first n natural numbers =  n(n+1)(2n+1)/6"
      ]
    },
    {
      "cell_type": "code",
      "execution_count": 29,
      "metadata": {
        "colab": {
          "base_uri": "https://localhost:8080/"
        },
        "id": "_tHsmEHzt2nX",
        "outputId": "ddf56e90-7ccc-436e-98a5-c0acd0339c1c"
      },
      "outputs": [
        {
          "name": "stdout",
          "output_type": "stream",
          "text": [
            "Your Natural no is 6 \n",
            "\n",
            "Your sum is : 91.0\n"
          ]
        }
      ],
      "source": [
        "# Write your code here\n",
        "\n",
        "# user input\n",
        "n = int(input('Give the natural no :'))\n",
        "print(f'Your Natural no is {n} \\n')\n",
        "\n",
        "# calculate \n",
        "sum = (n*(n+1)*(2*n+1))/6\n",
        "\n",
        "# show \n",
        "print('Your sum is :', sum)"
      ]
    },
    {
      "cell_type": "markdown",
      "metadata": {
        "id": "FHrMM7g-yG1h"
      },
      "source": [
        "### Q8:- Given the first 2 terms of an Arithmetic Series.Find the Nth term of the series. Assume all inputs are provided by the user.\n",
        "\n",
        "Hint - an = a1 + (n – 1)d\n",
        "\n",
        "d = a2 - a1"
      ]
    },
    {
      "cell_type": "code",
      "execution_count": 30,
      "metadata": {
        "colab": {
          "base_uri": "https://localhost:8080/"
        },
        "id": "go4_kmZmyVSx",
        "outputId": "07cbf7ef-c33e-4c66-c6d2-a5577bb5f212"
      },
      "outputs": [
        {
          "name": "stdout",
          "output_type": "stream",
          "text": [
            "a1 is 5.0, a2 is 10.0\n",
            "Nth term is  30.0\n"
          ]
        }
      ],
      "source": [
        "# Write your code here\n",
        "\n",
        "# user input (a1 and a2)\n",
        "a1 = float(input('Enter the a1 :'))\n",
        "a2 = float(input('Enter the a2 :'))\n",
        "print(f'a1 is {a1}, a2 is {a2}')\n",
        "\n",
        "# find the d \n",
        "d = a2 - a1 \n",
        "\n",
        "# calculate the nth number\n",
        "n = a1 + (n - 1) * d\n",
        "print('Nth term is ', n )"
      ]
    },
    {
      "cell_type": "markdown",
      "metadata": {
        "id": "QgyRX_es1oum"
      },
      "source": [
        "### Q9:- Given 2 fractions, find the sum of those 2 fractions.Take the numerator and denominator values of the fractions from the user.\n"
      ]
    },
    {
      "cell_type": "markdown",
      "metadata": {},
      "source": [
        "\n",
        "![img](https://encrypted-tbn0.gstatic.com/images?q=tbn:ANd9GcQzHxZv8dZcjq6jLmmwhjX6-L8GAHTg3WTY4w&s)"
      ]
    },
    {
      "cell_type": "code",
      "execution_count": 32,
      "metadata": {
        "colab": {
          "base_uri": "https://localhost:8080/"
        },
        "id": "X05xqFS1yW16",
        "outputId": "c54b88d3-389d-43fd-b8aa-b1cff3724f9a"
      },
      "outputs": [
        {
          "name": "stdout",
          "output_type": "stream",
          "text": [
            "Enter the fraction 1 \n",
            "Fraction 1 is 3.0/2.0\n",
            "Enter the fraction 2 \n",
            "Fraction 1 is 6.0/1.0\n",
            "Total is 15.0/2.0\n"
          ]
        }
      ],
      "source": [
        "# Write your code here\n",
        "\n",
        "# user input\n",
        "print('Enter the fraction 1 ')\n",
        "den_1 = float(input('Enter the Denominator :'))\n",
        "num_1 = float(input('Enter the Numerator : \\n '))\n",
        "print(f'Fraction 1 is {num_1}/{den_1}')\n",
        "\n",
        "print('Enter the fraction 2 ')\n",
        "den_2 = float(input('Enter the Denominator :'))\n",
        "num_2 = float(input('Enter the Numerator : \\n'))\n",
        "print(f'Fraction 1 is {num_2}/{den_2}')\n",
        "\n",
        "# sum \n",
        "total_den = den_2 * den_1\n",
        "total_num = ( num_1 * den_2 ) + (num_2 * den_1) \n",
        "\n",
        "print(f'Total is {total_num}/{total_den}')"
      ]
    },
    {
      "cell_type": "markdown",
      "metadata": {
        "id": "eaql38ln13u7"
      },
      "source": [
        "### Q10:- Given the height, width and breath of a milk tank, you have to find out how many glasses of milk can be obtained? Assume all the inputs are provided by the user.\n",
        "\n",
        "\n",
        "\n",
        "Input:<br>\n",
        "Dimensions of the milk tank<br>\n",
        "H = 20cm, L = 20cm, B = 20cm\n",
        "<br><br>\n",
        "Dimensions of the glass<br>\n",
        "h = 3cm, r = 1cm"
      ]
    },
    {
      "cell_type": "markdown",
      "metadata": {},
      "source": [
        "![img](https://en.neurochispas.com/wp-content/uploads/2021/07/formula-for-the-volume-of-a-cylinder.png)\n",
        "![img](https://cdn-ildeonj.nitrocdn.com/aqvkkZYZbGuRYrvFWOruinqOcGLcmRRD/assets/images/optimized/rev-30dff76/thirdspacelearning.com/wp-content/uploads/2023/06/Volume-of-a-Rectangular-Prism-us-what-is-image.png)"
      ]
    },
    {
      "cell_type": "code",
      "execution_count": null,
      "metadata": {
        "colab": {
          "base_uri": "https://localhost:8080/"
        },
        "id": "FePZqno74eWv",
        "outputId": "7a3fa760-c945-4b5d-a769-f6e052ea96dc"
      },
      "outputs": [
        {
          "name": "stdout",
          "output_type": "stream",
          "text": [
            "Tank : \n",
            " Length20.0\n",
            "  width is 20.0 \n",
            " Height is 20.0\n",
            "\n",
            " Glass : \n",
            " Radius  1.0\n",
            "Height is 3.0\n",
            "glasses of milk can be obtained 1302.9315960912052\n"
          ]
        }
      ],
      "source": [
        "# Write your code here\n",
        "\n",
        "import math \n",
        "\n",
        "# user input for tank\n",
        "l = float(input('Enter the length of the tank :'))\n",
        "w = float(input('Enter the width of the tank :'))\n",
        "h = float(input('Enter the Height of the tank :'))\n",
        "print(f'Tank : \\n Length is : {l}\\n  width is {w} \\n Height is {h}')\n",
        "\n",
        "# user input for glass\n",
        "r = float(input('Enter the Radius for the Glass :'))\n",
        "height = float(input('Enter the Height for the Glass :'))\n",
        "print(f'\\n Glass : \\n Radius is : {r}\\nHeight is {height}')\n",
        "\n",
        "# formula \n",
        "glass_vol = 3.14 * r**2 + height\n",
        "tank_vol = l * w * h\n",
        "\n",
        "# show\n",
        "print('glasses of milk can be obtained', tank_vol/glass_vol)"
      ]
    },
    {
      "cell_type": "markdown",
      "metadata": {},
      "source": [
        "## Thank you\n",
        "\n",
        "22:58pm\n",
        "25-03-2-25"
      ]
    }
  ],
  "metadata": {
    "colab": {
      "provenance": []
    },
    "kernelspec": {
      "display_name": "Python 3",
      "name": "python3"
    },
    "language_info": {
      "codemirror_mode": {
        "name": "ipython",
        "version": 3
      },
      "file_extension": ".py",
      "mimetype": "text/x-python",
      "name": "python",
      "nbconvert_exporter": "python",
      "pygments_lexer": "ipython3",
      "version": "3.12.3"
    }
  },
  "nbformat": 4,
  "nbformat_minor": 0
}
