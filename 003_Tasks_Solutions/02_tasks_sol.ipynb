{
  "cells": [
    {
      "cell_type": "markdown",
      "metadata": {
        "id": "w6RlOAXV2PWh"
      },
      "source": [
        "### `Problem 1`: Write a program that will give you in hand monthly salary after deduction on CTC - HRA(10%), DA(5%), PF(3%) and taxes deduction as below:\n",
        "\n",
        "> Salary(Lakhs) : Tax(%)\n",
        "\n",
        "*   Below 5 : 0%\n",
        "*   5-10 : 10%\n",
        "*   10-20 : 20%\n",
        "*   aboove 20 : 30%"
      ]
    },
    {
      "cell_type": "code",
      "execution_count": 2,
      "metadata": {},
      "outputs": [],
      "source": [
        "from datetime import datetime as dt"
      ]
    },
    {
      "cell_type": "code",
      "execution_count": null,
      "metadata": {},
      "outputs": [],
      "source": [
        "# User input\n",
        "salary = int(input('Enter your Monthly Salary :'))  \n",
        "\n",
        "\n",
        "print(f'Your Salary is {salary} Lakhs\\n')\n",
        "\n",
        "# Tax deduction \n",
        "if salary < 5:\n",
        "    tax_rate = 0 \n",
        "elif 5 <= salary < 10:\n",
        "    tax_rate = 0.10 \n",
        "elif 10 <= salary < 20:\n",
        "    tax_rate = 0.20  \n",
        "else:\n",
        "    tax_rate = 0.30  #\n",
        "\n",
        "\n",
        "salary -= salary * tax_rate\n",
        "print(f'After tax deduction, your salary is {salary:.2f} Lakhs\\n')\n",
        "\n",
        "# Common deductions: HRA(10%), DA(5%), PF(3%) → Total 18%\n",
        "salary -= salary * 0.18\n",
        "print(f'After all deductions, your Monthly salary is {salary:.2f} Lakhs\\n')"
      ]
    },
    {
      "cell_type": "code",
      "execution_count": 35,
      "metadata": {},
      "outputs": [
        {
          "name": "stdout",
          "output_type": "stream",
          "text": [
            "Your Salary is 25 Lakhs\n",
            "\n",
            "You fall in (above 20) 30% Tax Brackets.\n",
            "\n",
            "After tax deduction, your salary is 17.50 Lakhs\n",
            "\n",
            "After all deductions, your Monthly salary is 14.35 Lakhs\n",
            "\n"
          ]
        }
      ],
      "source": [
        "# User input\n",
        "salary = int(input('Enter your Monthly Salary :'))  \n",
        "\n",
        "\n",
        "print(f'Your Salary is {salary} Lakhs\\n')\n",
        "\n",
        "# Tax deduction \n",
        "if salary < 5:\n",
        "    print(f'You fall in (0-5) -> 0% Tax Brackets.\\n')\n",
        "    tax_rate = 0 \n",
        "elif 5 <= salary < 10:\n",
        "    print(f'You fall in (5-10)) -> 10% Tax Brackets.\\n')\n",
        "    tax_rate = 0.10 \n",
        "elif 10 <= salary < 20:\n",
        "    print(f'You fall in (10-20) -> 20% Tax Brackets.\\n')\n",
        "    tax_rate = 0.20  \n",
        "else:\n",
        "    print(f'You fall in (above 20) 30% Tax Brackets.\\n')\n",
        "    tax_rate = 0.30  \n",
        "\n",
        "\n",
        "salary -= salary * tax_rate\n",
        "print(f'After tax deduction, your salary is {salary:.2f} Lakhs\\n')\n",
        "\n",
        "# Common deductions: HRA(10%), DA(5%), PF(3%) → Total 18%\n",
        "salary -= salary * 0.18\n",
        "print(f'After all deductions, your Monthly salary is {salary:.2f} Lakhs\\n')"
      ]
    },
    {
      "cell_type": "markdown",
      "metadata": {
        "id": "tYzCGqwl2hfN"
      },
      "source": [
        "### `Problem 2`: Write a program that take a user input of three angles and will find out whether it can form a triangle or not."
      ]
    },
    {
      "cell_type": "code",
      "execution_count": null,
      "metadata": {
        "id": "FYEqln-I2kxV"
      },
      "outputs": [
        {
          "name": "stdout",
          "output_type": "stream",
          "text": [
            "Your Angles are 60, 45, 90\n",
            "This is not a Triangle.\n"
          ]
        }
      ],
      "source": [
        "# Write code here\n",
        "\n",
        "# user input\n",
        "a = int(input(\"Enter 'A' Angle :\"))\n",
        "b = int(input(\"Enter 'B' Angle :\"))\n",
        "c = int(input(\"Enter 'C' Angle :\"))\n",
        "print(f'Your Angles are {a}, {b}, {c}')\n",
        "\n",
        "# triangle form logic\n",
        "if a + b + c == 180:\n",
        "    print('This is a Triangle \\n')\n",
        "else:\n",
        "    print('This is not a Triangle.')"
      ]
    },
    {
      "cell_type": "markdown",
      "metadata": {
        "id": "5vEpPh8C2pE4"
      },
      "source": [
        "### `Problem 3`: Write a program that will take user input of cost price and selling price and determines whether its a loss or a profit."
      ]
    },
    {
      "cell_type": "code",
      "execution_count": null,
      "metadata": {
        "id": "jDwBXlkO2sfl"
      },
      "outputs": [
        {
          "name": "stdout",
          "output_type": "stream",
          "text": [
            "your selling price is 20, cost price is 256 \n",
            "\n",
            "Your are in the Loss\n"
          ]
        }
      ],
      "source": [
        "# user input\n",
        "selling_price = int(input('Enter the selling price :'))\n",
        "cost_price = int(input('Enter the cost price :'))\n",
        "print(f'your selling price is {selling_price}, cost price is {cost_price} \\n')\n",
        "# condition \n",
        "if selling_price > cost_price:\n",
        "    print('Your are in profit !')\n",
        "else:\n",
        "    print('Your are in the Loss !')"
      ]
    },
    {
      "cell_type": "markdown",
      "metadata": {
        "id": "J_FG_cJW2ugT"
      },
      "source": [
        "### `Problem 4`: Write a menu-driven program -\n",
        "1. cm to ft\n",
        "2. km to miles\n",
        "3. USD to INR\n",
        "4. exit"
      ]
    },
    {
      "cell_type": "code",
      "execution_count": null,
      "metadata": {
        "id": "yBHhaCGQ2zpD"
      },
      "outputs": [
        {
          "name": "stdout",
          "output_type": "stream",
          "text": [
            "\"\n",
            "      Select the option which function want to active\n",
            "      \n",
            "      1. cm to ft\n",
            "      2. km to miles\n",
            "      3. USD to INR\n",
            "      4. exit\n",
            "      \n",
            "      \n",
            "Your cm is 2535 and That is 83.16929400000001 ft \n",
            "\n"
          ]
        }
      ],
      "source": [
        "# Write code here\n",
        "\n",
        "print(\"\"\"\"\n",
        "      Select the option which function want to active\n",
        "      \n",
        "      1. cm to ft\n",
        "      2. km to miles\n",
        "      3. USD to INR\n",
        "      4. exit\n",
        "      \n",
        "      \"\"\")\n",
        "\n",
        "option = int(input('Enter the digit from 1 to 4 \\n'))\n",
        "\n",
        "# Check the user choose the valid options\n",
        "if option < 5:\n",
        "    # Option Working \n",
        "    if option == 1:\n",
        "        cm = int(input('Enter the cm : \\n'))\n",
        "        print(f'Your cm is {cm} and That is {cm * 0.0328084} ft \\n')\n",
        "    elif option == 2:\n",
        "        km = int(input('Enter the km : \\n'))\n",
        "        print(f'Your cm is {km} and That is {km * 0.621371} miles \\n')\n",
        "    elif option == 2:\n",
        "        usd = int(input('Enter the km : \\n'))\n",
        "        print(f'Your USD is {usd} and That is {usd * 85.66} INR \\n')\n",
        "    else:\n",
        "        print('Thank you ! Visit Our service again .....')\n",
        "else:\n",
        "    print('Select the Correct Option !')"
      ]
    },
    {
      "cell_type": "markdown",
      "metadata": {
        "id": "LJJ30_Yw27ZU"
      },
      "source": [
        "### `Problem 5` - Exercise 12: Display Fibonacci series up to 10 terms.\n",
        "\n",
        "*Note: The Fibonacci Sequence is a series of numbers. The next number is found by adding up the two numbers before it. The first two numbers are 0 and 1. For example, 0, 1, 1, 2, 3, 5, 8, 13, 21. The next number in this series above is 13+21 = 34*"
      ]
    },
    {
      "cell_type": "markdown",
      "metadata": {},
      "source": [
        "<img src='https://media.geeksforgeeks.org/wp-content/uploads/20230828183030/FIBONACCI-SERIES.png' width=500, height=500>"
      ]
    },
    {
      "cell_type": "markdown",
      "metadata": {},
      "source": [
        "[How the code is work](https://pythontutor.com/render.html#mode=display)"
      ]
    },
    {
      "cell_type": "code",
      "execution_count": 71,
      "metadata": {
        "id": "ae_1rpe52-5R"
      },
      "outputs": [
        {
          "name": "stdout",
          "output_type": "stream",
          "text": [
            "0\n",
            "1\n",
            "1\n",
            "2\n",
            "3\n",
            "5\n",
            "8\n",
            "13\n",
            "21\n",
            "34\n",
            "55\n"
          ]
        }
      ],
      "source": [
        "# Write code here\n",
        "\n",
        "n1, n2 = 0, 1\n",
        "\n",
        "for i in range(11):\n",
        "    print(n1)\n",
        "    \n",
        "    next = n1 + n2\n",
        "    \n",
        "    n1 = n2 \n",
        "    n2 = next"
      ]
    },
    {
      "cell_type": "markdown",
      "metadata": {
        "id": "pk_I_S4m3PT5"
      },
      "source": [
        "### `Problem 6` - Find the factorial of a given number.\n",
        "\n",
        "Write a program to use the loop to find the factorial of a given number.\n",
        "\n",
        "The factorial (symbol: `!`) means to multiply all whole numbers from the chosen number down to 1.\n",
        "\n",
        "For example: calculate the factorial of 5\n",
        "\n",
        "```bash\n",
        "5! = 5 × 4 × 3 × 2 × 1 = 120\n",
        "```\n",
        "\n",
        "Output:\n",
        "\n",
        "```bash\n",
        "120\n",
        "```"
      ]
    },
    {
      "cell_type": "code",
      "execution_count": 12,
      "metadata": {},
      "outputs": [
        {
          "name": "stdout",
          "output_type": "stream",
          "text": [
            "Your number is 5\n",
            "your factorial is : 120\n"
          ]
        }
      ],
      "source": [
        "num = int(input('Enter a number :'))\n",
        "print(f'Your number is {num}')\n",
        "fact = 1\n",
        "\n",
        "for i in range(1, num+1):\n",
        "    fact = i*fact\n",
        "    \n",
        "print('your factorial is :', fact)"
      ]
    },
    {
      "cell_type": "markdown",
      "metadata": {
        "id": "-17IOi-g3UpU"
      },
      "source": [
        "### `Problem 7` - Reverse a given integer number.\n",
        "\n",
        "Example:\n",
        "\n",
        "`Input:`\n",
        "\n",
        "```bash\n",
        "76542\n",
        "```\n",
        "\n",
        "`Output:`\n",
        "\n",
        "```bash\n",
        "24567\n",
        "```"
      ]
    },
    {
      "cell_type": "code",
      "execution_count": 20,
      "metadata": {},
      "outputs": [
        {
          "name": "stdout",
          "output_type": "stream",
          "text": [
            "Your Integer is : 13238\n",
            "Your reverse number is : 83231\n"
          ]
        }
      ],
      "source": [
        "num = int(input('Enter a integer :'))\n",
        "print('Your Integer is :', num)\n",
        "\n",
        "rev = 0\n",
        "\n",
        "while num > 0:\n",
        "    last = num % 10\n",
        "    rev = rev * 10 + last\n",
        "    num = num // 10\n",
        "\n",
        "print('Your reverse number is :', rev)"
      ]
    },
    {
      "cell_type": "code",
      "execution_count": null,
      "metadata": {},
      "outputs": [
        {
          "data": {
            "text/plain": [
              "3"
            ]
          },
          "execution_count": 37,
          "metadata": {},
          "output_type": "execute_result"
        }
      ],
      "source": [
        "# small example what happing in the code\n",
        "n = 123\n",
        "\n",
        "l = n % 10 \n",
        "l"
      ]
    },
    {
      "cell_type": "code",
      "execution_count": 35,
      "metadata": {},
      "outputs": [
        {
          "data": {
            "text/plain": [
              "3"
            ]
          },
          "execution_count": 35,
          "metadata": {},
          "output_type": "execute_result"
        }
      ],
      "source": [
        "r = 0 * 10 + l\n",
        "r"
      ]
    },
    {
      "cell_type": "code",
      "execution_count": 36,
      "metadata": {},
      "outputs": [
        {
          "data": {
            "text/plain": [
              "12"
            ]
          },
          "execution_count": 36,
          "metadata": {},
          "output_type": "execute_result"
        }
      ],
      "source": [
        "n // 10"
      ]
    },
    {
      "cell_type": "markdown",
      "metadata": {
        "id": "-t8PJQaY3sHf"
      },
      "source": [
        "### `Problem 8`: Take a user input as integer N. Find out the sum from 1 to N. If any number if divisible by 5, then skip that number. And if the sum is greater than 300, don't need to calculate the sum further more. Print the final result. And don't use for loop to solve this problem.\n",
        "\n",
        "**Example 1:**\n",
        "\n",
        "`Input:`\n",
        "\n",
        "```bash\n",
        "30\n",
        "```\n",
        "\n",
        "`Output:`\n",
        "\n",
        "```bash\n",
        "276\n",
        "```"
      ]
    },
    {
      "cell_type": "markdown",
      "metadata": {},
      "source": [
        "Break down \n",
        "- user input\n",
        "- sum 1 to n\n",
        "\n",
        "- n // 5 then skip \n",
        "- sum is > 300 stop"
      ]
    },
    {
      "cell_type": "code",
      "execution_count": 76,
      "metadata": {
        "id": "GZB6mGMP3ujT"
      },
      "outputs": [
        {
          "name": "stdout",
          "output_type": "stream",
          "text": [
            "Your given number is 30\n",
            "\n",
            "1\n",
            "3\n",
            "6\n",
            "10\n",
            "Which number I skipped : 5\n",
            "21\n",
            "28\n",
            "36\n",
            "45\n",
            "55\n",
            "66\n",
            "78\n",
            "91\n",
            "105\n",
            "120\n",
            "136\n",
            "153\n",
            "171\n",
            "190\n",
            "210\n",
            "231\n",
            "253\n",
            "276\n",
            "your total is 300 \n",
            "\n"
          ]
        }
      ],
      "source": [
        "n = 30\n",
        "print(f'Your given number is {n}\\n')\n",
        "\n",
        "sum = 0\n",
        "\n",
        "for i in range(1, n+1):\n",
        "    sum = i + sum \n",
        "    if i == 5:\n",
        "        print('Which number I skipped :', i)\n",
        "        continue \n",
        "    elif sum >= 300:\n",
        "        break\n",
        "    \n",
        "    print(sum)\n",
        "\n",
        "print(f'your total is {sum} \\n')"
      ]
    },
    {
      "cell_type": "markdown",
      "metadata": {
        "id": "Q7ggImeA3xm4"
      },
      "source": [
        "### `Problem 9`: Write a program that keeps on accepting a number from the user until the user enters Zero. Display the sum and average of all the numbers."
      ]
    },
    {
      "cell_type": "code",
      "execution_count": 96,
      "metadata": {
        "id": "t_YDSZDe4Kdo"
      },
      "outputs": [
        {
          "name": "stdout",
          "output_type": "stream",
          "text": [
            "Your First number is 1\n",
            "\n",
            "Your 2 number is 2\n",
            "\n",
            "Your 3 number is 3\n",
            "\n",
            "Your 4 number is 0\n",
            "\n",
            "Your 3th is ZERO  so Stop  ... \n",
            "\n",
            "Your Average is : 2.0 \n",
            "\n",
            "Your Sum is 6 \n",
            "\n"
          ]
        }
      ],
      "source": [
        "# Write code here\n",
        "\n",
        "a = int(input('Enter the number :'))\n",
        "print(f'Your First number is {a}\\n')\n",
        "\n",
        "sum = a\n",
        "avg = 0\n",
        "count = 1 # already taken one from top\n",
        "\n",
        "while True:\n",
        "    a = int(input('Enter the number :'))\n",
        "    print(f'Your {count + 1} number is {a}\\n')\n",
        "    \n",
        "    if a == 0:\n",
        "        print(f'Your {count}th is ZERO  so Stop  ... \\n')\n",
        "        break\n",
        "    \n",
        "    count += 1\n",
        "    \n",
        "    sum += a\n",
        "    avg = sum / count\n",
        "    \n",
        "\n",
        "print(f'Your Average is : {avg} \\n')\n",
        "print(f'Your Sum is {sum} \\n')"
      ]
    },
    {
      "cell_type": "markdown",
      "metadata": {
        "id": "6EhvEMvm4R7s"
      },
      "source": [
        "### `Problem 9`: Write a program which will find all such numbers which are divisible by 7 but are not a multiple of 5, between 2000 and 3200 (both included). The numbers obtained should be printed in a comma-separated sequence on a single line."
      ]
    },
    {
      "cell_type": "markdown",
      "metadata": {},
      "source": [
        "> *Breakdown the Problem*\n",
        "- 2000 to 3200 both included\n",
        "-  divisible by 7\n",
        "- multiple of 5\n",
        "- comma separated "
      ]
    },
    {
      "cell_type": "code",
      "execution_count": 15,
      "metadata": {
        "id": "d6RgP1B34T6c"
      },
      "outputs": [
        {
          "name": "stdout",
          "output_type": "stream",
          "text": [
            "2002,2009,2016,2023,2037,2044,2051,2058,2072,2079,2086,2093,2107,2114,2121,2128,2142,2149,2156,2163,2177,2184,2191,2198,2212,2219,2226,2233,2247,2254,2261,2268,2282,2289,2296,2303,2317,2324,2331,2338,2352,2359,2366,2373,2387,2394,2401,2408,2422,2429,2436,2443,2457,2464,2471,2478,2492,2499,2506,2513,2527,2534,2541,2548,2562,2569,2576,2583,2597,2604,2611,2618,2632,2639,2646,2653,2667,2674,2681,2688,2702,2709,2716,2723,2737,2744,2751,2758,2772,2779,2786,2793,2807,2814,2821,2828,2842,2849,2856,2863,2877,2884,2891,2898,2912,2919,2926,2933,2947,2954,2961,2968,2982,2989,2996,3003,3017,3024,3031,3038,3052,3059,3066,3073,3087,3094,3101,3108,3122,3129,3136,3143,3157,3164,3171,3178,3192,3199\n"
          ]
        }
      ],
      "source": [
        "l = [ ]\n",
        "for i in range(2000, 3201):\n",
        "    if i % 7 == 0 and i % 5 != 0:\n",
        "        l.append(str(i))\n",
        "        \n",
        "print(\",\".join(l))"
      ]
    },
    {
      "cell_type": "markdown",
      "metadata": {
        "id": "tYvmRR-G4Vp4"
      },
      "source": [
        "### `Problem 10`: Write a program, which will find all such numbers between 1000 and 3000 (both included) such that each digit of the number is an even number. The numbers obtained should be printed in a space-separated sequence on a single line.\n",
        "\n"
      ]
    },
    {
      "cell_type": "markdown",
      "metadata": {},
      "source": [
        "> Break \n",
        "\n",
        "- 1000 to 3000 both included\n",
        "- even num (total num is divisible by 2 )\n",
        "- even digit (last int is divisible by 2)\n",
        "- space separated in single line"
      ]
    },
    {
      "cell_type": "code",
      "execution_count": 26,
      "metadata": {
        "id": "k6Gs1kIf4k19"
      },
      "outputs": [
        {
          "name": "stdout",
          "output_type": "stream",
          "text": [
            "1000,1002,1004,1006,1008,1010,1012,1014,1016,1018,1020,1022,1024,1026,1028,1030,1032,1034,1036,1038,1040,1042,1044,1046,1048,1050,1052,1054,1056,1058,1060,1062,1064,1066,1068,1070,1072,1074,1076,1078,1080,1082,1084,1086,1088,1090,1092,1094,1096,1098,1100,1102,1104,1106,1108,1110,1112,1114,1116,1118,1120,1122,1124,1126,1128,1130,1132,1134,1136,1138,1140,1142,1144,1146,1148,1150,1152,1154,1156,1158,1160,1162,1164,1166,1168,1170,1172,1174,1176,1178,1180,1182,1184,1186,1188,1190,1192,1194,1196,1198,1200,1202,1204,1206,1208,1210,1212,1214,1216,1218,1220,1222,1224,1226,1228,1230,1232,1234,1236,1238,1240,1242,1244,1246,1248,1250,1252,1254,1256,1258,1260,1262,1264,1266,1268,1270,1272,1274,1276,1278,1280,1282,1284,1286,1288,1290,1292,1294,1296,1298,1300,1302,1304,1306,1308,1310,1312,1314,1316,1318,1320,1322,1324,1326,1328,1330,1332,1334,1336,1338,1340,1342,1344,1346,1348,1350,1352,1354,1356,1358,1360,1362,1364,1366,1368,1370,1372,1374,1376,1378,1380,1382,1384,1386,1388,1390,1392,1394,1396,1398,1400,1402,1404,1406,1408,1410,1412,1414,1416,1418,1420,1422,1424,1426,1428,1430,1432,1434,1436,1438,1440,1442,1444,1446,1448,1450,1452,1454,1456,1458,1460,1462,1464,1466,1468,1470,1472,1474,1476,1478,1480,1482,1484,1486,1488,1490,1492,1494,1496,1498,1500,1502,1504,1506,1508,1510,1512,1514,1516,1518,1520,1522,1524,1526,1528,1530,1532,1534,1536,1538,1540,1542,1544,1546,1548,1550,1552,1554,1556,1558,1560,1562,1564,1566,1568,1570,1572,1574,1576,1578,1580,1582,1584,1586,1588,1590,1592,1594,1596,1598,1600,1602,1604,1606,1608,1610,1612,1614,1616,1618,1620,1622,1624,1626,1628,1630,1632,1634,1636,1638,1640,1642,1644,1646,1648,1650,1652,1654,1656,1658,1660,1662,1664,1666,1668,1670,1672,1674,1676,1678,1680,1682,1684,1686,1688,1690,1692,1694,1696,1698,1700,1702,1704,1706,1708,1710,1712,1714,1716,1718,1720,1722,1724,1726,1728,1730,1732,1734,1736,1738,1740,1742,1744,1746,1748,1750,1752,1754,1756,1758,1760,1762,1764,1766,1768,1770,1772,1774,1776,1778,1780,1782,1784,1786,1788,1790,1792,1794,1796,1798,1800,1802,1804,1806,1808,1810,1812,1814,1816,1818,1820,1822,1824,1826,1828,1830,1832,1834,1836,1838,1840,1842,1844,1846,1848,1850,1852,1854,1856,1858,1860,1862,1864,1866,1868,1870,1872,1874,1876,1878,1880,1882,1884,1886,1888,1890,1892,1894,1896,1898,1900,1902,1904,1906,1908,1910,1912,1914,1916,1918,1920,1922,1924,1926,1928,1930,1932,1934,1936,1938,1940,1942,1944,1946,1948,1950,1952,1954,1956,1958,1960,1962,1964,1966,1968,1970,1972,1974,1976,1978,1980,1982,1984,1986,1988,1990,1992,1994,1996,1998,2000,2002,2004,2006,2008,2010,2012,2014,2016,2018,2020,2022,2024,2026,2028,2030,2032,2034,2036,2038,2040,2042,2044,2046,2048,2050,2052,2054,2056,2058,2060,2062,2064,2066,2068,2070,2072,2074,2076,2078,2080,2082,2084,2086,2088,2090,2092,2094,2096,2098,2100,2102,2104,2106,2108,2110,2112,2114,2116,2118,2120,2122,2124,2126,2128,2130,2132,2134,2136,2138,2140,2142,2144,2146,2148,2150,2152,2154,2156,2158,2160,2162,2164,2166,2168,2170,2172,2174,2176,2178,2180,2182,2184,2186,2188,2190,2192,2194,2196,2198,2200,2202,2204,2206,2208,2210,2212,2214,2216,2218,2220,2222,2224,2226,2228,2230,2232,2234,2236,2238,2240,2242,2244,2246,2248,2250,2252,2254,2256,2258,2260,2262,2264,2266,2268,2270,2272,2274,2276,2278,2280,2282,2284,2286,2288,2290,2292,2294,2296,2298,2300,2302,2304,2306,2308,2310,2312,2314,2316,2318,2320,2322,2324,2326,2328,2330,2332,2334,2336,2338,2340,2342,2344,2346,2348,2350,2352,2354,2356,2358,2360,2362,2364,2366,2368,2370,2372,2374,2376,2378,2380,2382,2384,2386,2388,2390,2392,2394,2396,2398,2400,2402,2404,2406,2408,2410,2412,2414,2416,2418,2420,2422,2424,2426,2428,2430,2432,2434,2436,2438,2440,2442,2444,2446,2448,2450,2452,2454,2456,2458,2460,2462,2464,2466,2468,2470,2472,2474,2476,2478,2480,2482,2484,2486,2488,2490,2492,2494,2496,2498,2500,2502,2504,2506,2508,2510,2512,2514,2516,2518,2520,2522,2524,2526,2528,2530,2532,2534,2536,2538,2540,2542,2544,2546,2548,2550,2552,2554,2556,2558,2560,2562,2564,2566,2568,2570,2572,2574,2576,2578,2580,2582,2584,2586,2588,2590,2592,2594,2596,2598,2600,2602,2604,2606,2608,2610,2612,2614,2616,2618,2620,2622,2624,2626,2628,2630,2632,2634,2636,2638,2640,2642,2644,2646,2648,2650,2652,2654,2656,2658,2660,2662,2664,2666,2668,2670,2672,2674,2676,2678,2680,2682,2684,2686,2688,2690,2692,2694,2696,2698,2700,2702,2704,2706,2708,2710,2712,2714,2716,2718,2720,2722,2724,2726,2728,2730,2732,2734,2736,2738,2740,2742,2744,2746,2748,2750,2752,2754,2756,2758,2760,2762,2764,2766,2768,2770,2772,2774,2776,2778,2780,2782,2784,2786,2788,2790,2792,2794,2796,2798,2800,2802,2804,2806,2808,2810,2812,2814,2816,2818,2820,2822,2824,2826,2828,2830,2832,2834,2836,2838,2840,2842,2844,2846,2848,2850,2852,2854,2856,2858,2860,2862,2864,2866,2868,2870,2872,2874,2876,2878,2880,2882,2884,2886,2888,2890,2892,2894,2896,2898,2900,2902,2904,2906,2908,2910,2912,2914,2916,2918,2920,2922,2924,2926,2928,2930,2932,2934,2936,2938,2940,2942,2944,2946,2948,2950,2952,2954,2956,2958,2960,2962,2964,2966,2968,2970,2972,2974,2976,2978,2980,2982,2984,2986,2988,2990,2992,2994,2996,2998,3000\n"
          ]
        }
      ],
      "source": [
        "\n",
        "l = []\n",
        "last = [2, 4, 6, 8]\n",
        "\n",
        "for i in range (1000, 3001):\n",
        "    if i % 2 == 0:\n",
        "        l.append(str(i))\n",
        "\n",
        "print(','.join(l))"
      ]
    },
    {
      "cell_type": "markdown",
      "metadata": {
        "id": "GV18IINT4mf5"
      },
      "source": [
        "### `Problem 11`: A robot moves in a plane starting from the original point (0,0). The robot can move toward UP, DOWN, LEFT and RIGHT with a given steps.\n",
        "The trace of robot movement is shown as the following:\n",
        "```\n",
        "UP 5\n",
        "DOWN 3\n",
        "LEFT 3\n",
        "RIGHT 2\n",
        "!\n",
        "```\n",
        "> The numbers after the direction are steps.\n",
        "\n",
        "> `!` means robot stop there.\n",
        "\n",
        "**Please write a program to compute the distance from current position after a sequence of movement and original point.**\n",
        "\n",
        "*If the distance is a float, then just print the nearest integer.*\n",
        "\n",
        "Example:\n",
        "\n",
        "`Input`:\n",
        "```\n",
        "UP 5\n",
        "DOWN 3\n",
        "LEFT 3\n",
        "RIGHT 2\n",
        "!\n",
        "```\n",
        "`Output`:\n",
        "```\n",
        "2\n",
        "```"
      ]
    },
    {
      "cell_type": "code",
      "execution_count": null,
      "metadata": {},
      "outputs": [
        {
          "data": {
            "text/plain": [
              "datetime.datetime(2025, 3, 28, 7, 35, 54, 270919)"
            ]
          },
          "execution_count": 24,
          "metadata": {},
          "output_type": "execute_result"
        }
      ],
      "source": [
        "dt.now()"
      ]
    },
    {
      "cell_type": "markdown",
      "metadata": {},
      "source": [
        "| **Direction** | **Effect on (x, y)** |\n",
        "|--------------|---------------------|\n",
        "| UP `n`      | `y += n` (Increase y) |\n",
        "| DOWN `n`    | `y -= n` (Decrease y) |\n",
        "| LEFT `n`    | `x -= n` (Decrease x) |\n",
        "| RIGHT `n`   | `x += n` (Increase x) |"
      ]
    },
    {
      "cell_type": "code",
      "execution_count": null,
      "metadata": {
        "id": "6UNMC2aR4w5x"
      },
      "outputs": [
        {
          "name": "stdout",
          "output_type": "stream",
          "text": [
            "\n",
            "      Give steps to robot \n",
            "      \n",
            "      left or l = left\n",
            "      right or r = right \n",
            "      down or  d = down\n",
            "      up or u = up \n",
            "      \n",
            "      \n",
            "Robot moved LEFT by 2 steps. Now at (-2, 0).\n",
            "\n",
            "Robot moved RIGHT by 2 steps. Now at (0, 0).\n",
            "\n",
            "Robot move DOWN by 2. Now at(0, -2). \n",
            "\n",
            "Robot moved UP by 2 steps. Now at (0, 0).\n",
            "\n",
            "Euclidean distance : 0. \n",
            "\n"
          ]
        }
      ],
      "source": [
        "import math \n",
        "\n",
        "x = 0\n",
        "y = 0\n",
        "\n",
        "print(\"\"\"\n",
        "      \n",
        "      Give steps to robot \n",
        "      \n",
        "      left or l = left\n",
        "      right or r = right \n",
        "      down or  d = down\n",
        "      up or u = up \n",
        "      \n",
        "      Type '!' fpr STOP \n",
        "      \n",
        "      \"\"\")\n",
        "\n",
        "while True:\n",
        "    steps = input('Enter both : \\n')\n",
        "    \n",
        "    \n",
        "    if steps.lower() == '!':\n",
        "        break\n",
        "    \n",
        "    direction = steps.lower().split()[0]\n",
        "    steps = int(steps.split()[1])\n",
        "    \n",
        "    \n",
        "    if direction == 'u' or  direction ==  'UP':\n",
        "        y += steps\n",
        "        print(f'Robot moved UP by {steps} steps. Now at ({x}, {y}).\\n')\n",
        "    elif direction == 'd' or  direction ==  'DOWN':\n",
        "        y -= steps\n",
        "        print(f'Robot move DOWN by {steps}. Now at({x}, {y}). \\n')\n",
        "    elif direction == 'l' or  direction ==  'LEFT':\n",
        "        x -= steps\n",
        "        print(f'Robot moved LEFT by {steps} steps. Now at ({x}, {y}).\\n')\n",
        "    elif direction == 'r' or  direction == 'RIGHT':\n",
        "        x +=  steps\n",
        "        print(f'Robot moved RIGHT by {steps} steps. Now at ({x}, {y}).\\n')\n",
        "    \n",
        "distance = math.sqrt( (x**2) + (y**2) )\n",
        "print(f'Euclidean distance : {round(distance)}. \\n')"
      ]
    },
    {
      "cell_type": "code",
      "execution_count": 16,
      "metadata": {},
      "outputs": [
        {
          "data": {
            "text/plain": [
              "datetime.datetime(2025, 3, 28, 8, 38, 42, 709950)"
            ]
          },
          "execution_count": 16,
          "metadata": {},
          "output_type": "execute_result"
        }
      ],
      "source": [
        "dt.now()"
      ]
    },
    {
      "cell_type": "markdown",
      "metadata": {
        "id": "3fsAIAhK5GYY"
      },
      "source": [
        "### `Problem 12`:Write a program to print whether a given number is a prime number or not"
      ]
    },
    {
      "cell_type": "code",
      "execution_count": 3,
      "metadata": {},
      "outputs": [
        {
          "data": {
            "text/plain": [
              "datetime.datetime(2025, 3, 28, 22, 50, 53, 250831)"
            ]
          },
          "execution_count": 3,
          "metadata": {},
          "output_type": "execute_result"
        }
      ],
      "source": [
        "dt.now()"
      ]
    },
    {
      "cell_type": "code",
      "execution_count": 12,
      "metadata": {},
      "outputs": [
        {
          "name": "stdout",
          "output_type": "stream",
          "text": [
            "Yor given number 21 is not a Prime number.\n"
          ]
        }
      ],
      "source": [
        "num = int(input('Enter a number :'))\n",
        "\n",
        "flag = True\n",
        "\n",
        "for i in range(2, num):\n",
        "    if num % i == 0:\n",
        "        flag = False\n",
        "        break\n",
        "\n",
        "if flag == True:\n",
        "    print(f'Yor given number {num} is Prime number.')\n",
        "else:\n",
        "    print(f'Yor given number {num} is not a Prime number.')"
      ]
    },
    {
      "cell_type": "markdown",
      "metadata": {
        "id": "asAbmbK-5NHv"
      },
      "source": [
        "### `Problem 13`:Print all the Armstrong numbers in a given range.\n",
        "Range will be provided by the user<br>\n",
        "Armstrong number is a number that is equal to the sum of cubes of its digits. For example 0, 1, 153, 370, 371 and 407 are the Armstrong numbers."
      ]
    },
    {
      "cell_type": "markdown",
      "metadata": {},
      "source": [
        "<img src='https://d1m75rqqgidzqn.cloudfront.net/wp-data/2020/02/14183658/Feb-14-blog-thumbnail-armstrong-number-1.png'  width='300' height='200'>"
      ]
    },
    {
      "cell_type": "code",
      "execution_count": 14,
      "metadata": {},
      "outputs": [
        {
          "data": {
            "text/plain": [
              "datetime.datetime(2025, 3, 28, 23, 1, 6, 141985)"
            ]
          },
          "execution_count": 14,
          "metadata": {},
          "output_type": "execute_result"
        }
      ],
      "source": [
        "dt.now()"
      ]
    },
    {
      "cell_type": "code",
      "execution_count": 26,
      "metadata": {},
      "outputs": [
        {
          "name": "stdout",
          "output_type": "stream",
          "text": [
            "Your Range is 0-1236 \n",
            " \n",
            "That number is  0\n",
            "That number is  1\n",
            "That number is  2\n",
            "That number is  3\n",
            "That number is  4\n",
            "That number is  5\n",
            "That number is  6\n",
            "That number is  7\n",
            "That number is  8\n",
            "That number is  9\n",
            "That number is  153\n",
            "That number is  370\n",
            "That number is  371\n",
            "That number is  407\n"
          ]
        }
      ],
      "source": [
        "start = int(input(\"Enter the start of the range: \"))\n",
        "end = int(input(\"Enter the end of the range: \"))\n",
        "print(f'Your Range is {start} to {end} \\n ')\n",
        "\n",
        "\n",
        "for num in range(start, end+1):\n",
        "    temp = num\n",
        "    sum = 0\n",
        "    order = len(str(num))\n",
        "    while temp > 0:\n",
        "        digit = temp % 10\n",
        "        sum += digit ** order\n",
        "        temp //= 10\n",
        "    if num == sum:\n",
        "        print('That number is ', num)\n",
        "        \n",
        "\n"
      ]
    },
    {
      "cell_type": "markdown",
      "metadata": {
        "id": "ClCQZMqT7gK0"
      },
      "source": [
        "### `Problem 14`:Calculate the angle between the hour hand and minute hand.\n",
        "\n",
        "Note: There can be two angles between hands; we need to print a minimum of two. Also, we need to print the floor of the final result angle. For example, if the final angle is 10.61, we need to print 10.\n",
        "\n",
        "Input:<br>\n",
        "H = 9 , M = 0<br>\n",
        "Output:<br>\n",
        "90<br>\n",
        "Explanation:<br>\n",
        "The minimum angle between hour and minute\n",
        "hand when the time is 9 is 90 degress."
      ]
    },
    {
      "cell_type": "code",
      "execution_count": 17,
      "metadata": {},
      "outputs": [
        {
          "data": {
            "text/plain": [
              "0.5"
            ]
          },
          "execution_count": 17,
          "metadata": {},
          "output_type": "execute_result"
        }
      ],
      "source": [
        "(360/(12*60))"
      ]
    },
    {
      "cell_type": "markdown",
      "metadata": {},
      "source": [
        "📌 Example Calculation for H = 9, M = 0\n",
        "- **Hour Hand Angle**:  \n",
        " \n",
        "  (9 \\ 30) + (0 \\ 0.5) = 270°\n",
        "\n",
        "- **Minute Hand Angle**:  \n",
        "\n",
        "  times 6 = 0°\n",
        "\n",
        "- **Difference**:  \n",
        "\n",
        "  |270 - 0| = 270°\n",
        "\n",
        "- **Minimum Angle**:  \n",
        "\n",
        "  min(270, 360 - 270) = 90°\n",
        "\n",
        "- **Final Output**:  \n",
        "\n",
        "  90\n"
      ]
    },
    {
      "cell_type": "code",
      "execution_count": 26,
      "metadata": {},
      "outputs": [
        {
          "name": "stdout",
          "output_type": "stream",
          "text": [
            "You asked the angle between 9 hr and 0 min \n",
            " \n",
            "Your angle is  90\n"
          ]
        }
      ],
      "source": [
        "# input\n",
        "h= int(input('Enter the Hour hand \\n'))\n",
        "m = int(input('Enter the Minute hand \\n')) \n",
        "print(f'You asked the angle between {h} hr and {m} min \\n ')\n",
        "\n",
        "# validate the number is within the interval\n",
        "if (h < 0 or m < 0 or h > 12 or m > 60):\n",
        "    print('Wrong Input ... Try is Again . . ')\n",
        "\n",
        "m_angle = m * (360/60)\n",
        "\n",
        "h_angle = h * (360/12) + m * (360/(12*60))\n",
        "\n",
        "angle = abs(h_angle - m_angle)\n",
        "\n",
        "if angle> 180:\n",
        "    print('Your angle is ', math.floor(360-angle))\n",
        "else:\n",
        "    print('Your angle is ', math.floor(angle))"
      ]
    },
    {
      "cell_type": "code",
      "execution_count": 27,
      "metadata": {},
      "outputs": [
        {
          "data": {
            "text/plain": [
              "datetime.datetime(2025, 3, 28, 22, 3, 20, 632815)"
            ]
          },
          "execution_count": 27,
          "metadata": {},
          "output_type": "execute_result"
        }
      ],
      "source": [
        "dt.now()"
      ]
    },
    {
      "cell_type": "markdown",
      "metadata": {},
      "source": [
        "`Explaination:` This code calculates the angle between the hour and minute hand on a clock. It takes user input for the hour and minute hand positions, validates the input to make sure it is within the range of a clock (0-12 for hours and 0-60 for minutes), then calculates the angles of the hour and minute hand based on their position on the clock. It then finds the difference between the two angles and takes the absolute value of that difference. It then checks if the angle is greater than 180, if it is, it prints the difference of 360 and the angle, else it prints the angle. The final output is the angle between the hands on the clock.\n",
        "\n",
        "---"
      ]
    },
    {
      "cell_type": "markdown",
      "metadata": {
        "id": "GwacF9Co72Qc"
      },
      "source": [
        "### `Problem 15`:Given two rectangles, find if the given two rectangles overlap or not. A rectangle is denoted by providing the x and y coordinates of two points: the left top corner and the right bottom corner of the rectangle. Two rectangles sharing a side are considered overlapping. (L1 and R1 are the extreme points of the first rectangle and L2 and R2 are the extreme points of the second rectangle).\n",
        "\n",
        "Note: It may be assumed that the rectangles are parallel to the coordinate axis.\n",
        "\n",
        "<img src='https://www.geeksforgeeks.org/wp-content/uploads/rectanglesOverlap.png' width='300' height='200'>"
      ]
    },
    {
      "cell_type": "code",
      "execution_count": 21,
      "metadata": {},
      "outputs": [
        {
          "name": "stdout",
          "output_type": "stream",
          "text": [
            "Enter both Rectangel points coordinates <x y>\n",
            "L1 coordinate point is <2, 2> \n",
            "R1 coordinate point is <3, 3> \n",
            " \n",
            "L2 coordinate point is <4, 4> \n",
            "R2 coordinate point is <5, 5> \n",
            "\n",
            "Don't Overlap\n"
          ]
        }
      ],
      "source": [
        "# Write code here\n",
        "print(\"Enter both Rectangel points coordinates <x y> \\n\")\n",
        "\n",
        "l1_x, l1_y = list(map(int, input('Enter L1 coordinate value  (Two value space seperated):').split()))\n",
        "r1_x, r1_y = list(map(int, input('Enter r1 coordinate value,(Two value space seperated):').split()))\n",
        "print(f'L1 coordinate point is <{l1_x}, {l1_y}> \\nR1 coordinate point is <{r1_x}, {r1_y}> \\n ')\n",
        "\n",
        "l2_x, l2_y = list(map(int, input('Enter L2 coordinate value,(Two value space seperated):').split()))\n",
        "r2_x, r2_y = list(map(int, input('Enter r2 coordinate value,(Two value space seperated):').split()))\n",
        "print(f'L2 coordinate point is <{l2_x}, {l2_y}> \\nR2 coordinate point is <{r2_x}, {r2_y}> \\n')\n",
        "\n",
        "# if rectangle has area 0, no overlap\n",
        "if l1_x == r1_x or l1_y == r1_y or r2_x == l2_x or l2_y == r2_y:\n",
        "  print(\"Don't Overlap\")\n",
        "\n",
        "# If one rectangle is on left side of other\n",
        "elif l1_x > r2_x or l2_x > r1_x:\n",
        "  print(\"Don't Overlap\")\n",
        "\n",
        "# If one rectangle is above other\n",
        "elif r1_y > l2_y or r2_y > l1_y:\n",
        "  print(\"Don't Overlap\")\n",
        "else:\n",
        "  print(\"Overlap\")"
      ]
    }
  ],
  "metadata": {
    "colab": {
      "provenance": []
    },
    "kernelspec": {
      "display_name": "Python 3",
      "name": "python3"
    },
    "language_info": {
      "codemirror_mode": {
        "name": "ipython",
        "version": 3
      },
      "file_extension": ".py",
      "mimetype": "text/x-python",
      "name": "python",
      "nbconvert_exporter": "python",
      "pygments_lexer": "ipython3",
      "version": "3.12.3"
    }
  },
  "nbformat": 4,
  "nbformat_minor": 0
}
