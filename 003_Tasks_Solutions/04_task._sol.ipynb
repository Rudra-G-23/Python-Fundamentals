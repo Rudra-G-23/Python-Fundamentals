{
  "cells": [
    {
      "cell_type": "markdown",
      "metadata": {
        "id": "kLZ_vCeE0lsM"
      },
      "source": [
        "### `Problem 1:` Combine two lists index-wise(columns wise)\n",
        "\n",
        "Write a program to add two lists index-wise. Create a new list that contains the 0th index item from both the list, then the 1st index item, and so on till the last element. any leftover items will get added at the end of the new list.\n",
        "\n",
        "`Given List:`\n",
        "```\n",
        "list1 = [\"M\", \"na\", \"i\", \"Kh\"]\n",
        "list2 = [\"y\", \"me\", \"s\", \"an\"]\n",
        "```\n",
        "\n",
        "`Output:`\n",
        "```\n",
        "[['M','y'], ['na', me'], ['i', 's'], ['Kh', 'an']]\n",
        "```"
      ]
    },
    {
      "cell_type": "code",
      "execution_count": 1,
      "metadata": {
        "colab": {
          "base_uri": "https://localhost:8080/"
        },
        "id": "cDO3Yv6p0nnG",
        "outputId": "e8d817ee-412c-48fa-d82b-b343a8662ae8"
      },
      "outputs": [
        {
          "data": {
            "text/plain": [
              "[['M', 'y'], ['na', 'me'], ['i', 's'], ['Kh', 'an']]"
            ]
          },
          "execution_count": 1,
          "metadata": {},
          "output_type": "execute_result"
        }
      ],
      "source": [
        "list1: list[str] = [\"M\", \"na\", \"i\", \"Kh\"]\n",
        "list2: list[str] = [\"y\", \"me\", \"s\", \"an\"]\n",
        "\n",
        "[[list1, list2] for list1, list2 in zip(list1, list2)]"
      ]
    },
    {
      "cell_type": "markdown",
      "metadata": {
        "id": "bnRwRgf_0qLu"
      },
      "source": [
        "### `Problem 2:` Add new item to list after a specified item\n",
        "Write a program to add item 7000 after 6000 in the following Python List\n",
        "```\n",
        "list1 = [10, 20, [300, 400, [5000, 6000], 500], 30, 40]\n",
        "```\n",
        "`Output:`\n",
        "```\n",
        "[10, 20, [300, 400, [5000, 6000, 7000], 500], 30, 40]\n",
        "```"
      ]
    },
    {
      "cell_type": "code",
      "execution_count": 44,
      "metadata": {},
      "outputs": [
        {
          "data": {
            "text/plain": [
              "[10, 20, [300, 400, [5000, 6000, 7000], 500], 30, 40]"
            ]
          },
          "execution_count": 44,
          "metadata": {},
          "output_type": "execute_result"
        }
      ],
      "source": [
        "num_list_y: list[list | int] = [10, 20, [300, 400, [5000, 6000], 500], 30, 40]\n",
        "num_list_y[2][2].append(7000)\n",
        "num_list_y"
      ]
    },
    {
      "cell_type": "code",
      "execution_count": 45,
      "metadata": {
        "colab": {
          "base_uri": "https://localhost:8080/"
        },
        "id": "yW5lLPns00q9",
        "outputId": "d5b8e384-e36c-4463-abc6-1c5bf517e484"
      },
      "outputs": [
        {
          "data": {
            "text/plain": [
              "6000"
            ]
          },
          "execution_count": 45,
          "metadata": {},
          "output_type": "execute_result"
        }
      ],
      "source": [
        "num_list_z = [10, 20, [300, 400, [5000, 6000], 500], 30, 40]\n",
        "\n",
        "num_list_z.pop(2).pop(2).pop(1)"
      ]
    },
    {
      "cell_type": "markdown",
      "metadata": {
        "id": "w7fC8oHk02fH"
      },
      "source": [
        "###  `Problem 3:` Update no of items available\n",
        "\n",
        "Suppose you are given a list of candy and another list of same size representing no of items of respective candy.\n",
        "\n",
        "i.e -  \n",
        "```\n",
        "candy_list = ['Jelly Belly','Kit Kat','Double Bubble','Milky Way','Three Musketeers']\n",
        "no_of_items = [10,20,34,74,32]\n",
        "```\n",
        "\n",
        "Write a program to show no. of items of each candy type.\n",
        "\n",
        "`Output:`\n",
        "\n",
        "```\n",
        "Jelly Belly-10\n",
        "Kit Kat-20\n",
        "Double Bubble-34\n",
        "Milky Way-74\n",
        "Three Musketeers-32\n",
        "\n",
        "```"
      ]
    },
    {
      "cell_type": "code",
      "execution_count": 48,
      "metadata": {
        "colab": {
          "base_uri": "https://localhost:8080/"
        },
        "id": "gg5JEX1a09q8",
        "outputId": "cf5a92a3-d732-455b-a556-7f492810f228"
      },
      "outputs": [
        {
          "data": {
            "text/plain": [
              "[('Jelly Belly', 10),\n",
              " ('Kit Kat', 20),\n",
              " ('Double Bubble', 34),\n",
              " ('Milky Way', 74),\n",
              " ('Three Musketeers', 32)]"
            ]
          },
          "execution_count": 48,
          "metadata": {},
          "output_type": "execute_result"
        }
      ],
      "source": [
        "candy_list: list[str] = ['Jelly Belly','Kit Kat','Double Bubble','Milky Way','Three Musketeers']\n",
        "no_of_items: list[int] = [10,20,34,74,32]\n",
        "\n",
        "[ (i, j) for i, j in zip(candy_list, no_of_items) ]"
      ]
    },
    {
      "cell_type": "code",
      "execution_count": 52,
      "metadata": {},
      "outputs": [
        {
          "name": "stdout",
          "output_type": "stream",
          "text": [
            "Jelly Belly-10\n",
            "Jelly Belly-20\n",
            "Jelly Belly-34\n",
            "Jelly Belly-74\n",
            "Jelly Belly-32\n",
            "Kit Kat-10\n",
            "Kit Kat-20\n",
            "Kit Kat-34\n",
            "Kit Kat-74\n",
            "Kit Kat-32\n",
            "Double Bubble-10\n",
            "Double Bubble-20\n",
            "Double Bubble-34\n",
            "Double Bubble-74\n",
            "Double Bubble-32\n",
            "Milky Way-10\n",
            "Milky Way-20\n",
            "Milky Way-34\n",
            "Milky Way-74\n",
            "Milky Way-32\n",
            "Three Musketeers-10\n",
            "Three Musketeers-20\n",
            "Three Musketeers-34\n",
            "Three Musketeers-74\n",
            "Three Musketeers-32\n"
          ]
        }
      ],
      "source": [
        "candy_list: list[str] = ['Jelly Belly','Kit Kat','Double Bubble','Milky Way','Three Musketeers']\n",
        "no_of_items: list[int] = [10,20,34,74,32]\n",
        "\n",
        "for i in candy_list:\n",
        "    for j in no_of_items:\n",
        "        print(i, j, sep='-')"
      ]
    },
    {
      "cell_type": "code",
      "execution_count": 56,
      "metadata": {},
      "outputs": [
        {
          "name": "stdout",
          "output_type": "stream",
          "text": [
            "Jelly Belly-10\n",
            "Kit Kat-20\n",
            "Double Bubble-34\n",
            "Milky Way-74\n",
            "Three Musketeers-32\n"
          ]
        }
      ],
      "source": [
        "candy_list: list[str] = ['Jelly Belly','Kit Kat','Double Bubble','Milky Way','Three Musketeers']\n",
        "no_of_items: list[int] = [10,20,34,74,32]\n",
        "\n",
        "for i, j in zip(candy_list, no_of_items):\n",
        "    print(i, j, sep='-')"
      ]
    },
    {
      "cell_type": "markdown",
      "metadata": {
        "id": "mFGZAvnB1D3N"
      },
      "source": [
        "### `Problem 4:` Running Sum on list\n",
        "Write a program to print a list after performing running sum on it.\n",
        "\n",
        "i.e:\n",
        "\n",
        "`Input:`\n",
        "```\n",
        "list1 = [1,2,3,4,5,6]\n",
        "```\n",
        "`Output:`\n",
        "```\n",
        "[1,3,6,10,15,21]\n",
        "```"
      ]
    },
    {
      "cell_type": "code",
      "execution_count": 64,
      "metadata": {
        "colab": {
          "base_uri": "https://localhost:8080/"
        },
        "id": "8LPS6DaD1FTs",
        "outputId": "c42d4b44-07d8-47cd-dd07-f376db1938e8"
      },
      "outputs": [
        {
          "name": "stdout",
          "output_type": "stream",
          "text": [
            "[1, 3, 6, 10, 15, 21]\n"
          ]
        }
      ],
      "source": [
        "num_list: list[int] = [1, 2, 3, 4, 5, 6]\n",
        "running_sum: list[int] = []\n",
        "temp: int = 0\n",
        "\n",
        "for i in num_list:\n",
        "    temp += i\n",
        "    running_sum.append(temp)\n",
        "\n",
        "\n",
        "print(running_sum)"
      ]
    },
    {
      "cell_type": "markdown",
      "metadata": {
        "id": "2ztcZ-EW1HEU"
      },
      "source": [
        "### `Problem 5:` You are given a list of integers. You are asked to make a list by running through elements of the list by adding all elements greater and itself.\n",
        "\n",
        "i.e. Say given list is `[2,4,6,10,1]`\n",
        "resultant list will be `[22,20,10,23]`.\n",
        "\n",
        "For 1st element `2` ->> these are greater `(4+6+10)` values and `2` itself so on adding becomes `22`.\n",
        "\n",
        "For 2nd element `4` ->> greater elements are `(6, 10)` and `4` itself, so on adding `20`\n",
        "\n",
        "like wise for all other elememts.\n",
        "\n",
        "`[2,4,6,10,1]`-->`[22,20,16,10,23]`\n",
        "\n",
        "\n"
      ]
    },
    {
      "cell_type": "code",
      "execution_count": null,
      "metadata": {},
      "outputs": [
        {
          "name": "stdout",
          "output_type": "stream",
          "text": [
            "Your num list [1, 2] \n",
            " Output list is [3, 5]\n"
          ]
        }
      ],
      "source": [
        "num_list: list[int] = [2,4,6,10,1]\n",
        "output_list: list[int] = []\n",
        "\n",
        "\n",
        "for i in num_list:\n",
        "    total_sum: int = 0\n",
        "    for j in  num_list:\n",
        "        if i <=j:\n",
        "            total_sum += j\n",
        "        \n",
        "    output_list.append(total_sum)\n",
        "        \n",
        "        \n",
        "print(f'Your num list {num_list} \\n Output list is {output_list}')"
      ]
    },
    {
      "cell_type": "markdown",
      "metadata": {
        "id": "c9H6tYTx1ZYo"
      },
      "source": [
        "### `Problem 6:` Find list of common unique items from two list. and show in increasing order\n",
        "\n",
        "`Input`\n",
        "\n",
        "```\n",
        "num1 = [23,45,67,78,89,34]\n",
        "num2 = [34,89,55,56,39,67]\n",
        "```\n",
        "\n",
        "`Output:`\n",
        "```\n",
        "[34, 67, 89]\n",
        "```\n"
      ]
    },
    {
      "cell_type": "code",
      "execution_count": null,
      "metadata": {
        "colab": {
          "base_uri": "https://localhost:8080/"
        },
        "id": "dDxdi7eE1e1W",
        "outputId": "6a27631c-735c-4dc1-e577-0291adba944b"
      },
      "outputs": [],
      "source": [
        "num_1: list[int] = [23,45,67,78,89,34]\n",
        "num_2: list[int] = [34,89,55,56,39,67]\n",
        "\n",
        "\n"
      ]
    },
    {
      "cell_type": "code",
      "execution_count": 257,
      "metadata": {},
      "outputs": [
        {
          "name": "stdout",
          "output_type": "stream",
          "text": [
            "[34, 67, 89]\n"
          ]
        }
      ],
      "source": [
        "# Write code here\n",
        "num1 = [23,45,67,78,89,34,67]\n",
        "num2 = [34,89,55,56,39,67,67]\n",
        "\n",
        "common = []\n",
        "\n",
        "for i in num1:\n",
        "  if i in num2:\n",
        "    if i not in common:\n",
        "      common.append(i)\n",
        "      common.sort()\n",
        "\n",
        "print(common)"
      ]
    },
    {
      "cell_type": "code",
      "execution_count": 258,
      "metadata": {},
      "outputs": [
        {
          "name": "stdout",
          "output_type": "stream",
          "text": [
            "[1, 2, 3]\n"
          ]
        }
      ],
      "source": [
        "num_1: list[int] = [1, 2, 3]\n",
        "num_2: list[int] = [3, 5,]\n",
        "\n",
        "unique_items_list: list[int] = []\n",
        "\n",
        "for i in num_1:\n",
        "    unique_items_list.append(i)\n",
        "    for j in num_2:\n",
        "        unique_items_list.append(j)\n",
        "        if j in unique_items_list:\n",
        "            unique_items_list.remove(j)\n",
        "            unique_items_list.sort()        \n",
        "\n",
        "print(unique_items_list)"
      ]
    },
    {
      "cell_type": "markdown",
      "metadata": {
        "id": "i3Izok2i1gRD"
      },
      "source": [
        "### `Problem 7:` Sort a list of alphanumeric strings based on product value of numeric character in it. If in any string there is no numeric character take it's product value as 1.\n",
        "\n",
        "`Input:`\n",
        "```\n",
        "['1ac21', '23fg', '456', '098d','1','kls']\n",
        "```\n",
        "\n",
        "`Output:`\n",
        "```\n",
        "['456', '23fg', '1ac21', '1', 'kls', '098d']\n",
        "\n",
        "```"
      ]
    },
    {
      "cell_type": "code",
      "execution_count": null,
      "metadata": {
        "colab": {
          "base_uri": "https://localhost:8080/"
        },
        "id": "eiXSanG11oq6",
        "outputId": "c82c6f8b-878d-40ae-ceb9-38a957976ac4"
      },
      "outputs": [],
      "source": [
        "# Write code here\n"
      ]
    },
    {
      "cell_type": "markdown",
      "metadata": {
        "id": "McMaNSpB1zJB"
      },
      "source": [
        "`Problem 8:` Split String of list on K character.\n",
        "\n",
        "**Example :**\n",
        "\n",
        "Input:\n",
        "```bash\n",
        "['CampusX is a channel', 'for data-science', 'aspirants.']\n",
        "```\n",
        "\n",
        "Output:\n",
        "```bash\n",
        "['CampusX', 'is', 'a', 'channel', 'for', 'data-science', 'aspirants.']\n",
        "```"
      ]
    },
    {
      "cell_type": "code",
      "execution_count": 259,
      "metadata": {
        "colab": {
          "base_uri": "https://localhost:8080/"
        },
        "id": "rLg6AUhf14wI",
        "outputId": "678de92c-0595-4ec8-cde2-15d9828c3e37"
      },
      "outputs": [
        {
          "data": {
            "text/plain": [
              "['C', 'mpusX is ', ' ch', 'nnel', 'for d', 't', '-science', '', 'spir', 'nts.']"
            ]
          },
          "execution_count": 259,
          "metadata": {},
          "output_type": "execute_result"
        }
      ],
      "source": [
        "list_of_words: list[str] = ['CampusX is a channel', 'for data-science', 'aspirants.']\n",
        "separated_letter: str = 'a'\n",
        "output_list: list[str] = []\n",
        "\n",
        "for i in list_of_words:\n",
        "    output_list.extend(i.split(separated_letter))\n",
        "\n",
        "output_list"
      ]
    },
    {
      "cell_type": "markdown",
      "metadata": {
        "id": "ebqIC0Xa16dG"
      },
      "source": [
        "### `Problem 9:` Convert Character Matrix to single String using string comprehension.\n",
        "\n",
        "**Example 1:**\n",
        "\n",
        "Input:\n",
        "```bash\n",
        "[['c', 'a', 'm', 'p', 'u', 'x'], ['i', 's'], ['b', 'e', 's', 't'], ['c', 'h', 'a', 'n', 'n', 'e', 'l']]\n",
        "```\n",
        "\n",
        "Output:\n",
        "```bash\n",
        "campux is best channel\n",
        "```"
      ]
    },
    {
      "cell_type": "code",
      "execution_count": 260,
      "metadata": {},
      "outputs": [
        {
          "data": {
            "text/plain": [
              "['campux is best channel']"
            ]
          },
          "execution_count": 260,
          "metadata": {},
          "output_type": "execute_result"
        }
      ],
      "source": [
        "matrix_letters: list[list | str] = [['c', 'a', 'm', 'p', 'u', 'x'], ['i', 's'], ['b', 'e', 's', 't'], ['c', 'h', 'a', 'n', 'n', 'e', 'l']]\n",
        "output_list: list[list | str] = [ \" \".join (\"\".join(i) for i in matrix_letters)]\n",
        "\n",
        "output_list"
      ]
    },
    {
      "cell_type": "markdown",
      "metadata": {
        "id": "0v1Z3Snp2DAm"
      },
      "source": [
        "### `Problem 10:` Add Space between Potential Words.\n",
        "\n",
        "**Example:**\n",
        "\n",
        "Input:\n",
        "\n",
        "```bash\n",
        "['campusxIs', 'bestFor', 'dataScientist']\n",
        "```\n",
        "\n",
        "Output:\n",
        "```bash\n",
        "['campusx Is', 'best For', 'data Scientist']\n",
        "```"
      ]
    },
    {
      "cell_type": "code",
      "execution_count": null,
      "metadata": {},
      "outputs": [
        {
          "name": "stdout",
          "output_type": "stream",
          "text": [
            "['campusx Is', 'best For', 'data Scientist']\n"
          ]
        }
      ],
      "source": [
        "# initializing list\n",
        "test_list = [\"campusxIs\", \"bestFor\", \"dataScientist\"]\n",
        "\n",
        "res = []\n",
        "\n",
        "for i in test_list:\n",
        "    temp = [[]]\n",
        "    for char in i:\n",
        "\n",
        "        if char.isupper():\n",
        "            temp.append([])\n",
        "\n",
        "        temp[-1].append(char)\n",
        "\n",
        "    temp_string = \"\"\n",
        "    for item in temp:\n",
        "        temp_string = temp_string + \"\".join(item) + \" \"\n",
        "    res.append(temp_string[0:-1])\n",
        "\n",
        "print(res)"
      ]
    },
    {
      "cell_type": "code",
      "execution_count": 242,
      "metadata": {},
      "outputs": [
        {
          "data": {
            "text/plain": [
              "['campusxIs', 'bestFor', 'dataScientist']"
            ]
          },
          "execution_count": 242,
          "metadata": {},
          "output_type": "execute_result"
        }
      ],
      "source": [
        "words: list[str] = ['campusxIs', 'bestFor', 'dataScientist']\n",
        "\n",
        "output_list: list[str] = []\n",
        "\n",
        "\n",
        "for i in words:\n",
        "    output_list.extend(i.split())\n",
        "\n",
        "\n",
        "output_list"
      ]
    },
    {
      "cell_type": "code",
      "execution_count": 241,
      "metadata": {},
      "outputs": [
        {
          "name": "stdout",
          "output_type": "stream",
          "text": [
            "campusxIs\n",
            "bestFor\n",
            "dataScientist\n"
          ]
        },
        {
          "data": {
            "text/plain": [
              "[]"
            ]
          },
          "execution_count": 241,
          "metadata": {},
          "output_type": "execute_result"
        }
      ],
      "source": [
        "words: list[str] = ['campusxIs', 'bestFor', 'dataScientist']\n",
        "\n",
        "output_list: list[str] = []\n",
        "\n",
        "\n",
        "for i in words:\n",
        "    if i.isupper():\n",
        "        output_list.extend(i.split())\n",
        "    print(i)\n",
        "\n",
        "output_list"
      ]
    },
    {
      "cell_type": "code",
      "execution_count": 239,
      "metadata": {},
      "outputs": [
        {
          "ename": "TypeError",
          "evalue": "must be str or None, not bool",
          "output_type": "error",
          "traceback": [
            "\u001b[1;31m---------------------------------------------------------------------------\u001b[0m",
            "\u001b[1;31mTypeError\u001b[0m                                 Traceback (most recent call last)",
            "Cell \u001b[1;32mIn[239], line 7\u001b[0m\n\u001b[0;32m      3\u001b[0m output_list: \u001b[38;5;28mlist\u001b[39m[\u001b[38;5;28mstr\u001b[39m] \u001b[38;5;241m=\u001b[39m []\n\u001b[0;32m      6\u001b[0m \u001b[38;5;28;01mfor\u001b[39;00m i \u001b[38;5;129;01min\u001b[39;00m words:\n\u001b[1;32m----> 7\u001b[0m     output_list\u001b[38;5;241m.\u001b[39mextend(\u001b[43mi\u001b[49m\u001b[38;5;241;43m.\u001b[39;49m\u001b[43msplit\u001b[49m\u001b[43m(\u001b[49m\u001b[43mi\u001b[49m\u001b[38;5;241;43m.\u001b[39;49m\u001b[43misupper\u001b[49m\u001b[43m(\u001b[49m\u001b[43m)\u001b[49m\u001b[43m)\u001b[49m)\n\u001b[0;32m      8\u001b[0m     \u001b[38;5;28mprint\u001b[39m(i)\n\u001b[0;32m     10\u001b[0m output_list\n",
            "\u001b[1;31mTypeError\u001b[0m: must be str or None, not bool"
          ]
        }
      ],
      "source": [
        "words: list[str] = ['campusxIs', 'bestFor', 'dataScientist']\n",
        "\n",
        "output_list: list[str] = []\n",
        "\n",
        "\n",
        "for i in words:\n",
        "    output_list.extend(i.split(i.isupper()))\n",
        "    print(i)\n",
        "\n",
        "output_list"
      ]
    },
    {
      "cell_type": "code",
      "execution_count": 235,
      "metadata": {
        "colab": {
          "base_uri": "https://localhost:8080/"
        },
        "id": "pltvqSXa2IxP",
        "outputId": "ced353f1-7a07-41e3-d44f-4bc4593216a4"
      },
      "outputs": [
        {
          "ename": "AttributeError",
          "evalue": "'str' object has no attribute 'extend'",
          "output_type": "error",
          "traceback": [
            "\u001b[1;31m---------------------------------------------------------------------------\u001b[0m",
            "\u001b[1;31mAttributeError\u001b[0m                            Traceback (most recent call last)",
            "Cell \u001b[1;32mIn[235], line 3\u001b[0m\n\u001b[0;32m      1\u001b[0m words: \u001b[38;5;28mlist\u001b[39m[\u001b[38;5;28mstr\u001b[39m] \u001b[38;5;241m=\u001b[39m [\u001b[38;5;124m'\u001b[39m\u001b[38;5;124mcampusxIs\u001b[39m\u001b[38;5;124m'\u001b[39m, \u001b[38;5;124m'\u001b[39m\u001b[38;5;124mbestFor\u001b[39m\u001b[38;5;124m'\u001b[39m, \u001b[38;5;124m'\u001b[39m\u001b[38;5;124mdataScientist\u001b[39m\u001b[38;5;124m'\u001b[39m]\n\u001b[1;32m----> 3\u001b[0m output_list: \u001b[38;5;28mlist\u001b[39m[\u001b[38;5;28mstr\u001b[39m] \u001b[38;5;241m=\u001b[39m [i \u001b[38;5;28;01mfor\u001b[39;00m i \u001b[38;5;129;01min\u001b[39;00m words \u001b[38;5;28;01mif\u001b[39;00m \u001b[43mi\u001b[49m\u001b[38;5;241;43m.\u001b[39;49m\u001b[43mextend\u001b[49m(i\u001b[38;5;241m.\u001b[39msplit(i\u001b[38;5;241m.\u001b[39misupper())) ]\n",
            "\u001b[1;31mAttributeError\u001b[0m: 'str' object has no attribute 'extend'"
          ]
        }
      ],
      "source": [
        "words: list[str] = ['campusxIs', 'bestFor', 'dataScientist']\n",
        "\n",
        "output_list: list[str] = [i for i in words if i.extend(i.split(i.isupper())) ]"
      ]
    },
    {
      "cell_type": "markdown",
      "metadata": {
        "id": "tnmBk1M52KXW"
      },
      "source": [
        "### `Problem 11:` Write a program that can perform union operation on 2 lists\n",
        "\n",
        "**Example:**\n",
        "\n",
        "Input:\n",
        "\n",
        "```bash\n",
        "[1,2,3,4,5,1]\n",
        "[2,3,5,7,8]\n",
        "```\n",
        "\n",
        "Output:\n",
        "```bash\n",
        "[1,2,3,4,5,7,8]\n",
        "```"
      ]
    },
    {
      "cell_type": "code",
      "execution_count": 300,
      "metadata": {},
      "outputs": [
        {
          "name": "stdout",
          "output_type": "stream",
          "text": [
            "[1, 2, 3, 5]\n"
          ]
        }
      ],
      "source": [
        "num_1: list[int] = [1, 2, 3]\n",
        "num_2: list[int] = [3, 4, 5]\n",
        "union_list: list[int] = []\n",
        "\n",
        "for i in num_1:\n",
        "    \n",
        "    if i not in union_list:\n",
        "        union_list.append(i)\n",
        "        union_list.sort()\n",
        "    \n",
        "    if j not in union_list:\n",
        "        union_list.append(j)\n",
        "        union_list.sort()\n",
        "        \n",
        "\n",
        "print(union_list)"
      ]
    },
    {
      "cell_type": "code",
      "execution_count": 293,
      "metadata": {},
      "outputs": [
        {
          "name": "stdout",
          "output_type": "stream",
          "text": [
            "[1, 2, 3, 3]\n"
          ]
        }
      ],
      "source": [
        "num_1: list[int] = [1, 2, 3]\n",
        "num_2: list[int] = [3, 4, 5]\n",
        "union_list: list[int] = []\n",
        "\n",
        "for i in num_1:\n",
        "    union_list.append(i)\n",
        "    for j in num_2:\n",
        "        if j in union_list:\n",
        "            union_list.append(j)\n",
        "\n",
        "print(union_list)"
      ]
    },
    {
      "cell_type": "code",
      "execution_count": null,
      "metadata": {
        "colab": {
          "base_uri": "https://localhost:8080/"
        },
        "id": "u0AgIToU2-Ht",
        "outputId": "e585a284-17e6-4344-8435-52759b4f968b"
      },
      "outputs": [
        {
          "name": "stdout",
          "output_type": "stream",
          "text": [
            "[3]\n"
          ]
        }
      ],
      "source": [
        "# Intersection of two matrix\n",
        "\n",
        "num_1: list[int] = [1, 2, 3]\n",
        "num_2: list[int] = [3, 4, 5]\n",
        "union_list: list[int] = []\n",
        "\n",
        "for i in num_1:\n",
        "    if i in num_2:\n",
        "        if i not in union_list:\n",
        "            union_list.append(i)\n",
        "            \n",
        "print(union_list)\n"
      ]
    },
    {
      "cell_type": "markdown",
      "metadata": {
        "id": "Yt8x67Ch3Ow1"
      },
      "source": [
        "### `Problem 12:` Write a program that can find the max number of each row of a matrix\n",
        "\n",
        "**Example:**\n",
        "\n",
        "Input:\n",
        "\n",
        "```bash\n",
        "[[1,2,3],[4,5,6],[7,8,9]]\n",
        "```\n",
        "\n",
        "Output:\n",
        "```bash\n",
        "[3,6,9]\n",
        "```"
      ]
    },
    {
      "cell_type": "code",
      "execution_count": 115,
      "metadata": {},
      "outputs": [
        {
          "name": "stdout",
          "output_type": "stream",
          "text": [
            "[3, 6, 9]\n"
          ]
        }
      ],
      "source": [
        "# Write code here\n",
        "L = [[1,2,3],[4,5,6],[7,8,9]]\n",
        "result = []\n",
        "\n",
        "for i in L:\n",
        "  result.append(max(i))\n",
        "\n",
        "print(result)"
      ]
    },
    {
      "cell_type": "code",
      "execution_count": 120,
      "metadata": {},
      "outputs": [
        {
          "name": "stdout",
          "output_type": "stream",
          "text": [
            "[3, 6, 9]\n"
          ]
        }
      ],
      "source": [
        "input_matrix: list[list[int]] = [ [1,2,3],[4,5,6],[7,8,9] ]\n",
        "output_list: list[int] = []\n",
        "\n",
        "\n",
        "for i in input_matrix:\n",
        "    output_list.append(max(i))\n",
        "    \n",
        "print(output_list)"
      ]
    },
    {
      "cell_type": "markdown",
      "metadata": {
        "id": "DBZlUmnt3pGT"
      },
      "source": [
        "### `Problem 13:` Write a list comprehension to print the following matrix\n",
        "\n",
        "[[0, 1, 2], [3, 4, 5], [6, 7, 8]]"
      ]
    },
    {
      "cell_type": "code",
      "execution_count": 90,
      "metadata": {},
      "outputs": [
        {
          "data": {
            "text/plain": [
              "[0, 1, 2]"
            ]
          },
          "execution_count": 90,
          "metadata": {},
          "output_type": "execute_result"
        }
      ],
      "source": [
        "[ i for i in range(0, 3)]"
      ]
    },
    {
      "cell_type": "code",
      "execution_count": 91,
      "metadata": {},
      "outputs": [
        {
          "data": {
            "text/plain": [
              "[3, 3, 3]"
            ]
          },
          "execution_count": 91,
          "metadata": {},
          "output_type": "execute_result"
        }
      ],
      "source": [
        "[ i for row in range(0, 3)]"
      ]
    },
    {
      "cell_type": "code",
      "execution_count": 105,
      "metadata": {},
      "outputs": [
        {
          "data": {
            "text/plain": [
              "[[0, 1, 2], [3, 4, 5], [6, 7, 8]]"
            ]
          },
          "execution_count": 105,
          "metadata": {},
          "output_type": "execute_result"
        }
      ],
      "source": [
        "[ [ 3*i + j for j in range(0, 3)] for i in range(0, 3)]"
      ]
    },
    {
      "cell_type": "markdown",
      "metadata": {
        "id": "j3vTuFC737kG"
      },
      "source": [
        "### `Problem 14:` Write a list comprehension that can transpose a given matrix\n",
        "\n",
        "matrix = [<br>\n",
        "  [1,2,3],<br>\n",
        "          [4,5,6],<br>\n",
        "          [7,8,9]<br>]<br>\n",
        "\n",
        "[1, 4, 7]<br>\n",
        "[2, 5, 8]<br>\n",
        "[3, 6, 9]<br>"
      ]
    },
    {
      "cell_type": "code",
      "execution_count": 73,
      "metadata": {},
      "outputs": [
        {
          "data": {
            "text/plain": [
              "[[1, 2, 3], [4, 5, 6], [7, 8, 9]]"
            ]
          },
          "execution_count": 73,
          "metadata": {},
          "output_type": "execute_result"
        }
      ],
      "source": [
        "input_matrix: list[list] = [ [1,2,3], [4,5,6], [7,8,9] ]\n",
        "\n",
        "output_list: list[int] = [ i for i in input_matrix]\n",
        "\n",
        "output_list"
      ]
    },
    {
      "cell_type": "code",
      "execution_count": 68,
      "metadata": {},
      "outputs": [
        {
          "data": {
            "text/plain": [
              "[3, 3, 3]"
            ]
          },
          "execution_count": 68,
          "metadata": {},
          "output_type": "execute_result"
        }
      ],
      "source": [
        "input_matrix: list[list] = [ [1,2,3], [4,5,6], [7,8,9] ]\n",
        "\n",
        "output_list: list[int] = [ i for row in input_matrix]\n",
        "\n",
        "output_list"
      ]
    },
    {
      "cell_type": "code",
      "execution_count": 65,
      "metadata": {},
      "outputs": [
        {
          "data": {
            "text/plain": [
              "[0, 1, 2, 0, 1, 2, 0, 1, 2]"
            ]
          },
          "execution_count": 65,
          "metadata": {},
          "output_type": "execute_result"
        }
      ],
      "source": [
        "input_matrix: list[list] = [ [1,2,3], [4,5,6], [7,8,9] ]\n",
        "\n",
        "output_list: list[int] = [ i for row in input_matrix for i in range(len(input_matrix))]\n",
        "\n",
        "output_list"
      ]
    },
    {
      "cell_type": "code",
      "execution_count": 67,
      "metadata": {},
      "outputs": [
        {
          "data": {
            "text/plain": [
              "[[0, 0, 0], [1, 1, 1], [2, 2, 2]]"
            ]
          },
          "execution_count": 67,
          "metadata": {},
          "output_type": "execute_result"
        }
      ],
      "source": [
        "input_matrix: list[list] = [ [1,2,3], [4,5,6], [7,8,9] ]\n",
        "\n",
        "output_list: list[int] = [ [i for row in input_matrix ]for i in range(len(input_matrix))]\n",
        "\n",
        "output_list"
      ]
    },
    {
      "cell_type": "code",
      "execution_count": 66,
      "metadata": {},
      "outputs": [
        {
          "data": {
            "text/plain": [
              "[[1, 4, 7], [2, 5, 8], [3, 6, 9]]"
            ]
          },
          "execution_count": 66,
          "metadata": {},
          "output_type": "execute_result"
        }
      ],
      "source": [
        "input_matrix: list[list] = [ [1,2,3], [4,5,6], [7,8,9] ]\n",
        "\n",
        "output_list: list[int] = [ [row[i] for row in input_matrix ] for i in range(len(input_matrix))]\n",
        "\n",
        "output_list"
      ]
    },
    {
      "cell_type": "markdown",
      "metadata": {
        "id": "wRkSWFb74eOt"
      },
      "source": [
        "### `Problem 15:` Write a list comprehension that can flatten a nested list\n",
        "\n",
        "Input<br>\n",
        "matrix = [<br>\n",
        "  [1,2,3],<br>\n",
        "          [4,5,6],<br>\n",
        "          [7,8,9]<br>]<br>\n",
        "\n",
        "Output:<br>\n",
        "[1, 2, 3, 4, 5, 6, 7, 8, 9]"
      ]
    },
    {
      "cell_type": "code",
      "execution_count": null,
      "metadata": {
        "colab": {
          "base_uri": "https://localhost:8080/"
        },
        "id": "jZGQ5el25HFr",
        "outputId": "79ee951f-19ca-4ef0-ca7d-0cfcedb010f4"
      },
      "outputs": [
        {
          "data": {
            "text/plain": [
              "[1, 2, 3, 4, 5, 6, 7, 8, 9]"
            ]
          },
          "execution_count": 9,
          "metadata": {},
          "output_type": "execute_result"
        }
      ],
      "source": [
        "\n",
        "input_matrix: list[list] = [ [1,2,3],[4,5,6],[7,8,9] ]\n",
        "output_list: list[int] = []\n",
        "\n",
        "for i in input_matrix:\n",
        "    output_list.extend(i)\n",
        "   \n",
        "output_list"
      ]
    },
    {
      "cell_type": "code",
      "execution_count": 16,
      "metadata": {
        "id": "eOF3v3tcNc0s"
      },
      "outputs": [
        {
          "data": {
            "text/plain": [
              "[1, 2, 3, 4, 5, 6, 7, 8, 9]"
            ]
          },
          "execution_count": 16,
          "metadata": {},
          "output_type": "execute_result"
        }
      ],
      "source": [
        "input_matrix: list[list] = [ [1,2,3],[4,5,6],[7,8,9] ]\n",
        "output_list: list[int] = [item for row in input_matrix for item in row]\n",
        "output_list"
      ]
    },
    {
      "cell_type": "code",
      "execution_count": null,
      "metadata": {},
      "outputs": [],
      "source": []
    }
  ],
  "metadata": {
    "colab": {
      "provenance": []
    },
    "kernelspec": {
      "display_name": "Python 3",
      "name": "python3"
    },
    "language_info": {
      "codemirror_mode": {
        "name": "ipython",
        "version": 3
      },
      "file_extension": ".py",
      "mimetype": "text/x-python",
      "name": "python",
      "nbconvert_exporter": "python",
      "pygments_lexer": "ipython3",
      "version": "3.12.3"
    }
  },
  "nbformat": 4,
  "nbformat_minor": 0
}
