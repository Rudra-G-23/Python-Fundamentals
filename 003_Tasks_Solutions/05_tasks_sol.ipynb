{
  "cells": [
    {
      "cell_type": "markdown",
      "metadata": {
        "id": "limD5IAfl-tz"
      },
      "source": [
        "# Tuple\n"
      ]
    },
    {
      "cell_type": "markdown",
      "metadata": {
        "id": "nSTn3CjbmB7q"
      },
      "source": [
        "### `Q1:` Join Tuples if similar initial element\n",
        "While working with Python tuples, we can have a problem in which we need to perform concatenation of records from the similarity of initial element. This problem can have applications in data domains such as Data Science.\n",
        "\n",
        "For eg.\n",
        "```\n",
        "Input  : test_list = [(5, 6), (5, 7), (5, 8), (6, 10), (7, 13)]\n",
        "Output : [(5, 6, 7, 8), (6, 10), (7, 13)]\n",
        "```"
      ]
    },
    {
      "cell_type": "code",
      "execution_count": 42,
      "metadata": {},
      "outputs": [
        {
          "name": "stdout",
          "output_type": "stream",
          "text": [
            "{5, 6, 7}\n",
            "[[5, 6, 7, 8], [6, 10], [7, 13]]\n",
            "[(5, 6, 7, 8), (6, 10), (7, 13)]\n"
          ]
        }
      ],
      "source": [
        "\n",
        "test_list = [(5, 6), (5, 7), (5, 8), (6, 10), (7, 13)]\n",
        "output_list = []\n",
        "unique = []\n",
        "\n",
        "for i in test_list:\n",
        "    unique.append(i[0])\n",
        "    \n",
        "unique = set(unique)\n",
        "\n",
        "\n",
        "for i in unique:\n",
        "    output_list.append([i])\n",
        "\n",
        "    for j in test_list:\n",
        "        if j[0] == i:\n",
        "            output_list[-1].append(j[1])\n",
        "\n",
        "print(unique)\n",
        "print(output_list)\n",
        "print(list(map(tuple, output_list)))"
      ]
    },
    {
      "cell_type": "markdown",
      "metadata": {
        "id": "ujQpZOFFmeha"
      },
      "source": [
        "### `Q2:` Multiply Adjacent elements (both side) and take sum of right and lest side multiplication result.\n",
        "\n",
        "\n",
        "For eg.\n",
        "```\n",
        "The original tuple : (1, 5, 7, 8, 10)\n",
        "Resultant tuple after multiplication :\n",
        "\n",
        "(1*5, 1*5+5*7, 7*5 + 7*8, 8*7 + 8*10, 10*8) -> (5, 40, 91, 136, 80)\n",
        "\n",
        "output-(5, 40, 91, 136, 80)\n",
        "```"
      ]
    },
    {
      "cell_type": "code",
      "execution_count": 61,
      "metadata": {},
      "outputs": [
        {
          "name": "stdout",
          "output_type": "stream",
          "text": [
            "(5, 40, 91, 136, 80)\n"
          ]
        }
      ],
      "source": [
        "# write your code here\n",
        "t = (1, 5, 7, 8, 10)\n",
        "\n",
        "L = []\n",
        "\n",
        "L.append(t[0]*t[1])\n",
        "\n",
        "for i in range(1,len(t)-1):\n",
        "  L.append(t[i]*t[i-1] + t[i]*t[i+1])\n",
        "\n",
        "L.append(t[-1]*t[-2])\n",
        "\n",
        "print(tuple(L))"
      ]
    },
    {
      "cell_type": "code",
      "execution_count": null,
      "metadata": {},
      "outputs": [
        {
          "name": "stdout",
          "output_type": "stream",
          "text": [
            "(2, 8, 6)\n"
          ]
        }
      ],
      "source": [
        "t:tuple[int] = (1, 2, 3)\n",
        "\n",
        "l: list[int] = []\n",
        "\n",
        "l.append(t[0]*t[1])\n",
        "\n",
        "for i in range(1, len(t)-1):\n",
        "    l.append(t[i]*t[i-1] + t[i]*t[i+1])\n",
        "    \n",
        "l.append(t[-1]*t[-2])\n",
        "\n",
        "print(tuple(l))"
      ]
    },
    {
      "cell_type": "markdown",
      "metadata": {
        "id": "x0psnUiu2ZVp"
      },
      "source": [
        "### `Q3`: Check is tuples are same or not?\n",
        "Two tuples would be same if both tuples have same element at same index\n",
        "```\n",
        "t1 = (1,2,3,0)\n",
        "t2 = (0,1,2,3)\n",
        "\n",
        "t1 and t2 are not same\n",
        "```"
      ]
    },
    {
      "cell_type": "code",
      "execution_count": 65,
      "metadata": {
        "colab": {
          "base_uri": "https://localhost:8080/"
        },
        "id": "JMVw9EhSrPEc",
        "outputId": "ee42ae4d-0994-4e62-96bc-f3167d944a5a"
      },
      "outputs": [
        {
          "name": "stdout",
          "output_type": "stream",
          "text": [
            "Same\n"
          ]
        }
      ],
      "source": [
        "# write your code here\n",
        "t1 = (1,2,3,0)\n",
        "t2 = (0,1,2,3)\n",
        "\n",
        "for i in t1:\n",
        "    if i in t2:\n",
        "        print('Same')\n",
        "    else:\n",
        "        print('Not Same')\n",
        "    break"
      ]
    },
    {
      "cell_type": "markdown",
      "metadata": {
        "id": "aZ4rObHK4fCN"
      },
      "source": [
        "### `Q4`: Count no of tuples, list and set from a list\n",
        "```\n",
        "list1 = [{'hi', 'bye'},{'Geeks', 'forGeeks'},('a', 'b'),['hi', 'bye'],['a', 'b']]\n",
        "\n",
        "```\n",
        "`Output:`\n",
        "\n",
        "```\n",
        "List-2\n",
        "Set-2\n",
        "Tuples-1\n",
        "```"
      ]
    },
    {
      "cell_type": "code",
      "execution_count": 8,
      "metadata": {
        "colab": {
          "base_uri": "https://localhost:8080/"
        },
        "id": "g_Bnuczk69tG",
        "outputId": "12c86ec0-b9ad-423c-9d68-7ecb98de682f"
      },
      "outputs": [
        {
          "name": "stdout",
          "output_type": "stream",
          "text": [
            "{'bye', 'hi'}\n",
            "{'forGeeks', 'Geeks'}\n",
            "('a', 'b')\n",
            "['hi', 'bye']\n",
            "['a', 'b']\n"
          ]
        }
      ],
      "source": [
        "list_1 = [{'hi', 'bye'},{'Geeks', 'forGeeks'},('a', 'b'),['hi', 'bye'],['a', 'b']]\n",
        "\n",
        "for i in list_1:\n",
        "    print(i)"
      ]
    },
    {
      "cell_type": "code",
      "execution_count": 18,
      "metadata": {},
      "outputs": [
        {
          "name": "stdout",
          "output_type": "stream",
          "text": [
            "No of Tuples : 1 \n",
            " No of Sets : 2 \n",
            " No of list : 2\n"
          ]
        }
      ],
      "source": [
        "list_1 = [{'hi', 'bye'},{'Geeks', 'forGeeks'},('a', 'b'),['hi', 'bye'],['a', 'b']]\n",
        "count_sets: int = 0\n",
        "count_lists: int = 0\n",
        "count_tuples: int = 0\n",
        "\n",
        "for i in list_1:\n",
        "    if type(i) == set:\n",
        "        count_sets += 1\n",
        "        \n",
        "    elif type(i) == list:\n",
        "        count_lists += 1\n",
        "    else:\n",
        "        count_tuples += 1\n",
        "        \n",
        "print(f'No of Tuples : {count_tuples} \\n No of Sets : {count_sets} \\n No of list : {count_lists}')"
      ]
    },
    {
      "cell_type": "markdown",
      "metadata": {
        "id": "jInFNuit8hf1"
      },
      "source": [
        "### `Q5`: Shortlist Students for a Job role\n",
        "Ask user to input students record and store in tuples for each record. Then Ask user to input three things he wants in the candidate- Primary Skill, Higher Education, Year of Graduation.\n",
        "\n",
        "Show every students record in form of tuples if matches all required criteria.\n",
        "\n",
        "It is assumed that there will be only one primry skill.\n",
        "\n",
        "If no such candidate found, print `No such candidate`\n",
        "\n",
        "`Input:`\n",
        "```\n",
        "Enter No of records- 2\n",
        "Enter Details of student-1\n",
        "Enter Student name- Manohar\n",
        "Enter Higher Education- B.Tech\n",
        "Enter Primary Skill- Python\n",
        "Enter Year of Graduation- 2022\n",
        "Enter Details of student-2\n",
        "Enter Student name- Ponian\n",
        "Enter Higher Education- B.Sc.\n",
        "Enter Primary Skill- C++\n",
        "Enter Year of Graduation- 2020\n",
        "\n",
        "Enter Job Role Requirement\n",
        "Enter Skill- Python\n",
        "Enter Higher Education- B.Tech\n",
        "Enter Year of Graduation- 2022\n",
        "```\n",
        "\n",
        "`Output`\n",
        "```\n",
        "('Manohar', 'B.tech', 'Python', '2022')\n",
        "```\n"
      ]
    },
    {
      "cell_type": "code",
      "execution_count": null,
      "metadata": {
        "colab": {
          "base_uri": "https://localhost:8080/"
        },
        "id": "erh9QZaerSHk",
        "outputId": "cc23c219-7c59-4371-b092-b314401be736"
      },
      "outputs": [
        {
          "name": "stdout",
          "output_type": "stream",
          "text": [
            "Enter details of 1 applicants. \n",
            "This is match\n",
            " students Name is rudra, skills are ml, Higher Education is b.tech, pass out in 2026\n"
          ]
        }
      ],
      "source": [
        "students_db: list[str | int] = []\n",
        "\n",
        "# how many records insert\n",
        "num: int = int(input('Enter the number of records : '))\n",
        "\n",
        "# insert into list\n",
        "for i in range(num):\n",
        "    print(f'Enter details of {i+1} applicants. ')\n",
        "    name: str = input('Enter the Name :')\n",
        "    h_edu: str = input('Enter the Higher Education : ')\n",
        "    p_skill: str = input('Enter the Primary skill : ') \n",
        "    year: int = input('Enter the year of Graduation :')\n",
        "    \n",
        "    students_db.append((name, h_edu, p_skill, year))\n",
        "   \n",
        "# requirement check \n",
        "rqd_skill: str = input('Enter required skill : ')\n",
        "rqd_h_edu: str = input('Enter required Higher Education :')\n",
        "rqd_year: int = input('Enter the year of Graduation :')\n",
        "\n",
        "flag = False\n",
        "for i in students_db:\n",
        "    if i[1] == rqd_h_edu and i[2] == rqd_skill and i[3] == rqd_year:\n",
        "        print(f'This is match\\n students Name is {name}, skills are {p_skill}, Higher Education is {h_edu}, pass out in {year}')\n",
        "    flag = True\n",
        "    \n",
        "if flag == False:\n",
        "    print('No such Candidates Found !')"
      ]
    },
    {
      "cell_type": "markdown",
      "metadata": {
        "id": "l4hLvwD2BeIN"
      },
      "source": [
        "# Set"
      ]
    },
    {
      "cell_type": "markdown",
      "metadata": {
        "id": "zCX0Sk2IBfu8"
      },
      "source": [
        "### `Q1:` Write a program to find set of common elements in three lists using sets.\n",
        "```\n",
        "Input : ar1 = [1, 5, 10, 20, 40, 80]\n",
        "        ar2 = [6, 7, 20, 80, 100]\n",
        "        ar3 = [3, 4, 15, 20, 30, 70, 80, 120]\n",
        "\n",
        "Output : [80, 20]\n",
        "```"
      ]
    },
    {
      "cell_type": "code",
      "execution_count": 85,
      "metadata": {
        "colab": {
          "base_uri": "https://localhost:8080/"
        },
        "id": "rqATYpBUrUQU",
        "outputId": "b0f3ef3a-216b-4373-ef7f-f7bf160b3e79"
      },
      "outputs": [
        {
          "data": {
            "text/plain": [
              "{20, 80}"
            ]
          },
          "execution_count": 85,
          "metadata": {},
          "output_type": "execute_result"
        }
      ],
      "source": [
        "ar1 = [1, 5, 10, 20, 40, 80]\n",
        "ar2 = [6, 7, 20, 80, 100]\n",
        "ar3 = [3, 4, 15, 20, 30, 70, 80, 120]\n",
        "\n",
        "\n",
        "ar1 = set(ar1)\n",
        "ar2 = set(ar2)\n",
        "ar3 = set(ar3)\n",
        "\n",
        "ar1.intersection(ar2).intersection(ar3)"
      ]
    },
    {
      "cell_type": "markdown",
      "metadata": {
        "id": "0gOVS-0yCYrK"
      },
      "source": [
        "### `Q2:` Write a program to count unique number of vowels using sets in a given string. Lowercase and upercase vowels will be taken as different.\n",
        "\n",
        "`Input:`\n",
        "```\n",
        "Str1 = \"hands-on data science mentorship progrAm with live classes at affordable fee only on CampusX\"\n",
        "```\n",
        "`Output:`\n",
        "```\n",
        "No of unique vowels-6\n",
        "```"
      ]
    },
    {
      "cell_type": "code",
      "execution_count": 137,
      "metadata": {},
      "outputs": [
        {
          "name": "stdout",
          "output_type": "stream",
          "text": [
            "Your Unique and Lower letters present in string is 2 \n",
            " \n",
            "Your Unique and Upper letters present in string is 2\n"
          ]
        }
      ],
      "source": [
        "str_1 = \"RuUdraA\"\n",
        "\n",
        "count_lower_unique_vowels =  0\n",
        "count_upper_unique_vowels =  0\n",
        "\n",
        "for i in str_1:\n",
        "    \n",
        "    if i.lower() and i in ['a','e', 'i', 'o', 'u']:\n",
        "        count_lower_unique_vowels += 1\n",
        "        \n",
        "    if i.upper() and i in ['A', 'E', 'I', 'O', 'U']:\n",
        "        count_upper_unique_vowels += 1\n",
        "        \n",
        "        \n",
        "print(f\"Your Unique and Lower letters present in string is {count_lower_unique_vowels} \\n \")\n",
        "\n",
        "print(f\"Your Unique and Upper letters present in string is {count_lower_unique_vowels}\")\n"
      ]
    },
    {
      "cell_type": "markdown",
      "metadata": {
        "id": "fqLZxiarEne5"
      },
      "source": [
        "### `Q3:` Write a program to Check if a given string is binary string of or not.\n",
        "\n",
        "A string is said to be binary if it's consists of only two unique characters.\n",
        "\n",
        "Take string input from user.\n",
        "\n",
        "```\n",
        "Input: str = \"01010101010\"\n",
        "Output: Yes\n",
        "\n",
        "Input: str = \"1222211\"\n",
        "Output: Yes\n",
        "\n",
        "Input: str = \"Campusx\"\n",
        "Output: No\n",
        "```"
      ]
    },
    {
      "cell_type": "code",
      "execution_count": 9,
      "metadata": {},
      "outputs": [
        {
          "name": "stdout",
          "output_type": "stream",
          "text": [
            "Binary\n"
          ]
        }
      ],
      "source": [
        "num = \"01010101\"\n",
        "\n",
        "if len(set(num)) == 2:\n",
        "    print('Binary')\n",
        "else:\n",
        "    print('Not a Binary')"
      ]
    },
    {
      "cell_type": "markdown",
      "metadata": {
        "id": "xXS8wYH1mDqx"
      },
      "source": [
        "### `Q4`: find union of n arrays.\n",
        "\n",
        "**Example 1:**\n",
        "\n",
        "Input:\n",
        "```bash\n",
        "[[1, 2, 2, 4, 3, 6],\n",
        " [5, 1, 3, 4],\n",
        " [9, 5, 7, 1],\n",
        " [2, 4, 1, 3]]\n",
        "```\n",
        "\n",
        "Output:\n",
        "\n",
        "```bash\n",
        "[1, 2, 3, 4, 5, 6, 7, 9]\n",
        "```"
      ]
    },
    {
      "cell_type": "code",
      "execution_count": 10,
      "metadata": {},
      "outputs": [
        {
          "name": "stdout",
          "output_type": "stream",
          "text": [
            "{1, 2, 3, 4, 5, 6, 7, 9}\n"
          ]
        }
      ],
      "source": [
        "matrix = [\n",
        "    [1, 2, 2, 4, 3, 6],\n",
        "    [5, 1, 3, 4],\n",
        "    [9, 5, 7, 1],\n",
        "    [2, 4, 1, 3]\n",
        " ]\n",
        "\n",
        "new = set()\n",
        "\n",
        "for i in matrix:\n",
        "    new.update(i)\n",
        "\n",
        "print(new)"
      ]
    },
    {
      "cell_type": "markdown",
      "metadata": {
        "id": "T_Re21BdndOz"
      },
      "source": [
        "### `Q5`: Intersection of two lists. Intersection of two list means we need to take all those elements which are common to both of the initial lists and store them into another list. Only use using **list-comprehension**.\n",
        "\n",
        "**Example 1:**\n",
        "\n",
        "Input:\n",
        "```bash\n",
        "lst1 = {15, 9, 10, 56, 23, 78, 5, 4, 9}\n",
        "lst2 = {9, 4, 5, 36, 47, 26, 10, 45, 87}\n",
        "```\n",
        "\n",
        "Output:\n",
        "```bash\n",
        "[9, 10, 4, 5]\n",
        "```\n",
        "\n",
        "**Example 2:**\n",
        "\n",
        "Input:\n",
        "```bash\n",
        "lst1 = {4, 9, 1, 17, 11, 26, 28, 54, 69}\n",
        "lst2 = {9, 9, 74, 21, 45, 11, 63, 28, 26}\n",
        "```\n",
        "\n",
        "Output:\n",
        "```bash\n",
        "[9, 11, 26, 28]\n",
        "```"
      ]
    },
    {
      "cell_type": "code",
      "execution_count": 12,
      "metadata": {
        "colab": {
          "base_uri": "https://localhost:8080/"
        },
        "id": "nWnL25ftoLVT",
        "outputId": "36a59ac6-4586-4613-8c9a-74f6a583ede9"
      },
      "outputs": [
        {
          "data": {
            "text/plain": [
              "[4, 5, 9, 10]"
            ]
          },
          "execution_count": 12,
          "metadata": {},
          "output_type": "execute_result"
        }
      ],
      "source": [
        "lst1 = {15, 9, 10, 56, 23, 78, 5, 4, 9}\n",
        "lst2 = {9, 4, 5, 36, 47, 26, 10, 45, 87}\n",
        " \n",
        "[ i for i in lst1 if i in lst2]"
      ]
    },
    {
      "cell_type": "markdown",
      "metadata": {
        "id": "tD2RSYn1a8oA"
      },
      "source": [
        "# Dictionary"
      ]
    },
    {
      "cell_type": "markdown",
      "metadata": {
        "id": "7tUjHhcPbQzQ"
      },
      "source": [
        "### `Q1`: Key with maximum unique values\n",
        "\n",
        "Given a dictionary with values list, extract key whose value has most unique values.\n",
        "\n",
        "**Example 1:**\n",
        "\n",
        "Input:\n",
        "\n",
        "```bash\n",
        "test_dict = {\"CampusX\" : [5, 7, 9, 4, 0], \"is\" : [6, 7, 4, 3, 3], \"Best\" : [9, 9, 6, 5, 5]}\n",
        "```\n",
        "\n",
        "Output:\n",
        "```bash\n",
        "CampusX\n",
        "```\n",
        "\n",
        "**Example 2:**\n",
        "\n",
        "Input:\n",
        "```bash\n",
        "test_dict = {\"CampusX\" : [5, 7, 7, 7, 7], \"is\" : [6, 7, 7, 7], \"Best\" : [9, 9, 6, 5, 5]}\n",
        "```\n",
        "\n",
        "Output:\n",
        "```bash\n",
        "Best\n",
        "```"
      ]
    },
    {
      "cell_type": "code",
      "execution_count": 17,
      "metadata": {
        "colab": {
          "base_uri": "https://localhost:8080/"
        },
        "id": "N8KHX863lNxL",
        "outputId": "48ab5031-bb36-4176-8d9e-c438f48832a4"
      },
      "outputs": [
        {
          "name": "stdout",
          "output_type": "stream",
          "text": [
            "CampusX\n"
          ]
        }
      ],
      "source": [
        "test_dict = {\n",
        "    \"CampusX\" : [5, 7, 9, 4, 0], \n",
        "    \"is\" : [6, 7, 4, 3, 3],\n",
        "    \"Best\" : [9, 9, 6, 5, 5]\n",
        "    }\n",
        "\n",
        "max_val = 0\n",
        "max_key = ''\n",
        "\n",
        "for i in test_dict:\n",
        "\n",
        "    if max_val < len(set(test_dict[i])):\n",
        "        max_val = len(set(test_dict[i]))\n",
        "        max_key = i\n",
        "        \n",
        "    \n",
        "\n",
        "print(max_key)"
      ]
    },
    {
      "cell_type": "markdown",
      "metadata": {
        "id": "_S5X6C84dWdJ"
      },
      "source": [
        "### `Q2`: Replace words from Dictionary. Given String, replace it’s words from lookup dictionary.\n",
        "\n",
        "**Example 1:**\n",
        "\n",
        "Input:\n",
        "\n",
        "```bash\n",
        "test_str = 'CampusX best for DS students.'\n",
        "repl_dict = {\"best\" : \"is the best channel\", \"DS\" : \"Data-Science\"}\n",
        "```\n",
        "\n",
        "Output:\n",
        "\n",
        "```bash\n",
        "CampusX is the best channel for Data-Science students.\n",
        "```\n",
        "\n",
        "**Example 2:**\n",
        "\n",
        "Input:\n",
        "```bash\n",
        "test_str = 'CampusX best for DS students.'\n",
        "repl_dict = {\"good\" : \"is the best channel\", \"ds\" : \"Data-Science\"}\n",
        "```\n",
        "\n",
        "Output:\n",
        "```bash\n",
        "CampusX best for DS students.\n",
        "```"
      ]
    },
    {
      "cell_type": "code",
      "execution_count": 10,
      "metadata": {
        "colab": {
          "base_uri": "https://localhost:8080/"
        },
        "id": "BTAQ8qnrlOxr",
        "outputId": "10060e67-b2c8-436f-9d53-eaf157719c92"
      },
      "outputs": [
        {
          "name": "stdout",
          "output_type": "stream",
          "text": [
            "CampusX is the best channel for Data-Science students.\n"
          ]
        }
      ],
      "source": [
        "test_str = 'CampusX best for DS students.'\n",
        "repl_dict = {\"best\" : \"is the best channel\", \"DS\" : \"Data-Science\"}\n",
        "\n",
        "temp = []\n",
        "\n",
        "for i in test_str.split():\n",
        "    if i in repl_dict:\n",
        "        temp.append(repl_dict[i])\n",
        "    else:\n",
        "        temp.append(i)\n",
        "        \n",
        "print(\" \".join(temp))"
      ]
    },
    {
      "cell_type": "markdown",
      "metadata": {
        "id": "55xgap3zfbcR"
      },
      "source": [
        "### `Q3`: Convert List to List of dictionaries. Given list values and keys list, convert these values to key value pairs in form of list of dictionaries.\n",
        "\n",
        "**Example 1:**\n",
        "\n",
        "Input:\n",
        "```bash\n",
        "test_list = [\"DataScience\", 3, \"is\", 8]\n",
        "key_list = [\"name\", \"id\"]\n",
        "```\n",
        "\n",
        "Output:\n",
        "\n",
        "```bash\n",
        "[{'name': 'DataScience', 'id': 3}, {'name': 'is', 'id': 8}]\n",
        "```\n",
        "\n",
        "**Example 2:**\n",
        "\n",
        "Input:\n",
        "```bash\n",
        "test_list = [\"CampusX\", 10]\n",
        "key_list = [\"name\", \"id\"]\n",
        "```\n",
        "\n",
        "Output:\n",
        "\n",
        "```bash\n",
        "[{'name': 'CampusX', 'id': 10}]\n",
        "```"
      ]
    },
    {
      "cell_type": "code",
      "execution_count": 13,
      "metadata": {
        "colab": {
          "base_uri": "https://localhost:8080/"
        },
        "id": "jbCajI87lQFr",
        "outputId": "c4349b1d-5e02-4758-e748-8fb2831cd9c8"
      },
      "outputs": [
        {
          "name": "stdout",
          "output_type": "stream",
          "text": [
            "[{'name': 'DataScience', 'id': 3}, {'name': 'is', 'id': 8}]\n"
          ]
        }
      ],
      "source": [
        "test_list = [\"DataScience\", 3, \"is\", 8]\n",
        "key_list = [\"name\", \"id\"]\n",
        "\n",
        "n = len(test_list)\n",
        "\n",
        "rev = []\n",
        "\n",
        "for i in range(0, n, 2):\n",
        "    rev.append({key_list[0]: test_list[i],\n",
        "                key_list[1]: test_list[i+1]})\n",
        "    \n",
        "print(rev)"
      ]
    },
    {
      "cell_type": "markdown",
      "metadata": {
        "id": "5RxBlLQahLkB"
      },
      "source": [
        "### `Q4`: Convert a list of Tuples into Dictionary.\n",
        "\n",
        "**Example 1:**\n",
        "\n",
        "Input:\n",
        "```bash\n",
        "[(\"akash\", 10), (\"gaurav\", 12), (\"anand\", 14), (\"suraj\", 20), (\"akhil\", 25), (\"ashish\", 30)]\n",
        "```\n",
        "\n",
        "Output:\n",
        "```bash\n",
        "{'akash': [10], 'gaurav': [12], 'anand': [14], 'suraj': [20], 'akhil': [25], 'ashish': [30]}\n",
        "```\n",
        "\n",
        "**Example 2:**\n",
        "\n",
        "Input:\n",
        "```bash\n",
        "[('A', 1), ('B', 2), ('C', 3)]\n",
        "```\n",
        "\n",
        "Output:\n",
        "```bash\n",
        "{'A': [1], 'B': [2], 'C': [3]}\n",
        "```"
      ]
    },
    {
      "cell_type": "code",
      "execution_count": 24,
      "metadata": {
        "colab": {
          "base_uri": "https://localhost:8080/"
        },
        "id": "f1yz7inMlQ5N",
        "outputId": "1a82c5b5-d076-4ffe-b323-56b471a06895"
      },
      "outputs": [
        {
          "name": "stdout",
          "output_type": "stream",
          "text": [
            "{'akash': 10, 'gaurav': 12, 'anand': 14, 'suraj': 20, 'akhil': 25, 'ashish': 30}\n"
          ]
        }
      ],
      "source": [
        "test_dict = [(\"akash\", 10), (\"gaurav\", 12), (\"anand\", 14),\n",
        "            (\"suraj\", 20), (\"akhil\", 25), (\"ashish\", 30)]\n",
        "\n",
        "new_dict = {}\n",
        "\n",
        "for i in test_dict:\n",
        "    new_dict.update(test_dict)\n",
        "\n",
        "print(new_dict)"
      ]
    },
    {
      "cell_type": "code",
      "execution_count": 14,
      "metadata": {},
      "outputs": [
        {
          "name": "stdout",
          "output_type": "stream",
          "text": [
            "{'A': [1], 'B': [2], 'C': [3]}\n"
          ]
        }
      ],
      "source": [
        "L1 = [(\"akash\", 10), (\"gaurav\", 12), (\"anand\", 14), (\"suraj\", 20), (\"akhil\", 25), (\"ashish\", 30)]\n",
        "L = [('A', 1), ('B', 2), ('C', 3)]\n",
        "\n",
        "d = {}\n",
        "\n",
        "for i,j in L:\n",
        "  d[i] = [j]\n",
        "\n",
        "print(d)"
      ]
    },
    {
      "cell_type": "markdown",
      "metadata": {
        "id": "Fz8EzJD-kBkS"
      },
      "source": [
        "### `Q5`: Sort Dictionary key and values List.\n",
        "\n",
        "**Example 1:**\n",
        "\n",
        "Input:\n",
        "\n",
        "```bash\n",
        "{'c': [3], 'b': [12, 10], 'a': [19, 4]}\n",
        "```\n",
        "\n",
        "Output:\n",
        "\n",
        "```bash\n",
        "{'a': [4, 19], 'b': [10, 12], 'c': [3]}\n",
        "```\n",
        "\n",
        "**Example 2:**\n",
        "\n",
        "Input:\n",
        "\n",
        "```bash\n",
        "{'c': [10, 34, 3]}\n",
        "```\n",
        "\n",
        "Output:\n",
        "\n",
        "```bash\n",
        "{'c': [3, 10, 34]}\n",
        "```"
      ]
    },
    {
      "cell_type": "code",
      "execution_count": 15,
      "metadata": {
        "colab": {
          "base_uri": "https://localhost:8080/"
        },
        "id": "x9UmJ4EQk7Pp",
        "outputId": "bcc8e8e9-7670-40c2-d2d0-6a2340ee713b"
      },
      "outputs": [
        {
          "name": "stdout",
          "output_type": "stream",
          "text": [
            "{'a': [4, 19], 'b': [10, 12], 'c': [3]}\n"
          ]
        }
      ],
      "source": [
        "test_dict = {'c': [3], 'b': [12, 10], 'a': [19, 4]}\n",
        "\n",
        "rev = {}\n",
        "\n",
        "for i in sorted(test_dict):\n",
        "    rev[i] = sorted(test_dict[i])\n",
        "\n",
        "print(rev)"
      ]
    }
  ],
  "metadata": {
    "colab": {
      "provenance": []
    },
    "kernelspec": {
      "display_name": "Python 3",
      "name": "python3"
    },
    "language_info": {
      "codemirror_mode": {
        "name": "ipython",
        "version": 3
      },
      "file_extension": ".py",
      "mimetype": "text/x-python",
      "name": "python",
      "nbconvert_exporter": "python",
      "pygments_lexer": "ipython3",
      "version": "3.12.3"
    }
  },
  "nbformat": 4,
  "nbformat_minor": 0
}
