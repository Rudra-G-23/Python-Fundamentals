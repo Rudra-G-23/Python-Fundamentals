{
  "cells": [
    {
      "cell_type": "markdown",
      "metadata": {
        "id": "Rw0ro4PSduYH"
      },
      "source": [
        "Hello Data points 😄\n",
        "\n",
        "\n",
        "# My Class Notes\n",
        "\n",
        "**By Rudra**\n",
        "\n",
        "> Hi everyone, these are my class notes from one of my favorite teachers, Nitesh sir.\n",
        "\n",
        "\n",
        "\n",
        "Class- [Link](#https://www.youtube.com/live/JCkIrdrZEE8?si=won2bqyqVwctdlZf)"
      ]
    },
    {
      "cell_type": "code",
      "execution_count": 3,
      "metadata": {
        "colab": {
          "base_uri": "https://localhost:8080/"
        },
        "id": "rlN_ODj0d8Kp",
        "outputId": "91a094b6-c627-49c5-cf0a-9f43edcda060"
      },
      "outputs": [
        {
          "name": "stdout",
          "output_type": "stream",
          "text": [
            "Arithmetic Operators:\n",
            "+ Addition\n",
            "- Subtraction\n",
            "* Multiplication\n",
            "/ Division\n",
            "// Floor Division\n",
            "% Modulus\n",
            "** Exponentiation\n",
            "\n",
            "Comparison Operators:\n",
            "== Equal to\n",
            "!= Not equal to\n",
            "> Greater than\n",
            "< Less than\n",
            ">= Greater than or equal to\n",
            "<= Less than or equal to\n",
            "\n",
            "Logical Operators:\n",
            "and Logical AND\n",
            "or Logical OR\n",
            "not Logical NOT\n",
            "\n",
            "Bitwise Operators:\n",
            "& Bitwise AND\n",
            "| Bitwise OR\n",
            "^ Bitwise XOR\n",
            "~ Bitwise NOT\n",
            "<< Left shift\n",
            ">> Right shift\n",
            "\n",
            "Assignment Operators:\n",
            "= Assignment\n",
            "+= Add and assign\n",
            "-= Subtract and assign\n",
            "*= Multiply and assign\n",
            "/= Divide and assign\n",
            "//= Floor divide and assign\n",
            "%= Modulus and assign\n",
            "**= Exponentiate and assign\n",
            "&= Bitwise AND and assign\n",
            "|= Bitwise OR and assign\n",
            "^= Bitwise XOR and assign\n",
            "<<= Left shift and assign\n",
            ">>= Right shift and assign\n",
            "\n",
            "Identity Operators:\n",
            "is Returns True if both variables are the same object\n",
            "is not Returns True if both variables are not the same object\n"
          ]
        }
      ],
      "source": [
        "print(\"Arithmetic Operators:\")\n",
        "print(\"+ Addition\")\n",
        "print(\"- Subtraction\")\n",
        "print(\"* Multiplication\")\n",
        "print(\"/ Division\")\n",
        "print(\"// Floor Division\")\n",
        "print(\"% Modulus\")\n",
        "print(\"** Exponentiation\")\n",
        "\n",
        "print(\"\\nComparison Operators:\")\n",
        "print(\"== Equal to\")\n",
        "print(\"!= Not equal to\")\n",
        "print(\"> Greater than\")\n",
        "print(\"< Less than\")\n",
        "print(\">= Greater than or equal to\")\n",
        "print(\"<= Less than or equal to\")\n",
        "\n",
        "print(\"\\nLogical Operators:\")\n",
        "print(\"and Logical AND\")\n",
        "print(\"or Logical OR\")\n",
        "print(\"not Logical NOT\")\n",
        "\n",
        "print(\"\\nBitwise Operators:\")\n",
        "print(\"& Bitwise AND\")\n",
        "print(\"| Bitwise OR\")\n",
        "print(\"^ Bitwise XOR\")\n",
        "print(\"~ Bitwise NOT\")\n",
        "print(\"<< Left shift\")\n",
        "print(\">> Right shift\")\n",
        "\n",
        "print(\"\\nAssignment Operators:\")\n",
        "print(\"= Assignment\")\n",
        "print(\"+= Add and assign\")\n",
        "print(\"-= Subtract and assign\")\n",
        "print(\"*= Multiply and assign\")\n",
        "print(\"/= Divide and assign\")\n",
        "print(\"//= Floor divide and assign\")\n",
        "print(\"%= Modulus and assign\")\n",
        "print(\"**= Exponentiate and assign\")\n",
        "print(\"&= Bitwise AND and assign\")\n",
        "print(\"|= Bitwise OR and assign\")\n",
        "print(\"^= Bitwise XOR and assign\")\n",
        "print(\"<<= Left shift and assign\")\n",
        "print(\">>= Right shift and assign\")\n",
        "\n",
        "print(\"\\nIdentity Operators:\")\n",
        "print(\"is Returns True if both variables are the same object\")\n",
        "print(\"is not Returns True if both variables are not the same object\")\n",
        "\n"
      ]
    },
    {
      "cell_type": "code",
      "execution_count": 4,
      "metadata": {
        "colab": {
          "base_uri": "https://localhost:8080/"
        },
        "id": "Qu7zQjh7e-S2",
        "outputId": "251ea197-675d-4086-a8c9-fdb0ca99fa2f"
      },
      "outputs": [
        {
          "name": "stdout",
          "output_type": "stream",
          "text": [
            "7\n",
            "7\n",
            "24\n",
            "3.75\n",
            "3\n",
            "3\n",
            "8\n"
          ]
        }
      ],
      "source": [
        "# Arithmetic Operators\n",
        "\n",
        "print(5 + 2)\n",
        "print(10 - 3)\n",
        "print(4 * 6)\n",
        "print(15 / 4)\n",
        "print(15 // 4)\n",
        "print(15 % 4)\n",
        "print(2 ** 3)"
      ]
    },
    {
      "cell_type": "code",
      "execution_count": 5,
      "metadata": {
        "colab": {
          "base_uri": "https://localhost:8080/"
        },
        "id": "fe4l9MyHfNIS",
        "outputId": "e851769f-d789-4314-b906-8fb2a3779f6c"
      },
      "outputs": [
        {
          "name": "stdout",
          "output_type": "stream",
          "text": [
            "False\n",
            "True\n",
            "True\n",
            "True\n",
            "True\n",
            "True\n"
          ]
        }
      ],
      "source": [
        "# Reakational Oprators\n",
        "\n",
        "print(5 == 9)\n",
        "\n",
        "print(5 != 3)\n",
        "\n",
        "print(8 > 3)\n",
        "\n",
        "print(2 < 7)\n",
        "\n",
        "print(6 >= 5)\n",
        "\n",
        "print(4 <= 7)"
      ]
    },
    {
      "cell_type": "code",
      "execution_count": 6,
      "metadata": {
        "colab": {
          "base_uri": "https://localhost:8080/"
        },
        "id": "7X8mobkDf64x",
        "outputId": "f23474f4-21e7-4d89-f69c-3668ab529456"
      },
      "outputs": [
        {
          "name": "stdout",
          "output_type": "stream",
          "text": [
            "0\n",
            "1\n",
            "False\n"
          ]
        }
      ],
      "source": [
        "# Logic Oprators\n",
        "\n",
        "print( 1 and 0)\n",
        "\n",
        "print(1 or 0)\n",
        "\n",
        "print(not 1)"
      ]
    },
    {
      "cell_type": "code",
      "execution_count": 7,
      "metadata": {
        "colab": {
          "base_uri": "https://localhost:8080/"
        },
        "id": "PXDSVG4qgOow",
        "outputId": "072ca4e3-52ee-4263-cac8-6203aff6616b"
      },
      "outputs": [
        {
          "name": "stdout",
          "output_type": "stream",
          "text": [
            "2\n",
            "3\n",
            "1\n",
            "-3\n",
            "4\n",
            "4\n"
          ]
        }
      ],
      "source": [
        "# Bitwise Oprators -- it operate on binary code\n",
        "\n",
        "# bitwise and\n",
        "print(2 & 3)\n",
        "\n",
        "# bitwise or\n",
        "print(2 | 3)\n",
        "\n",
        "# bitwise xor\n",
        "# if both same then 1 otherwise 0\n",
        "print(2 ^ 3)\n",
        "\n",
        "print(~2)\n",
        "\n",
        "print(2 << 1)\n",
        "\n",
        "print(8 >> 1)"
      ]
    },
    {
      "cell_type": "markdown",
      "metadata": {
        "id": "ykuzHNp3gPi4"
      },
      "source": [
        "check and search"
      ]
    },
    {
      "cell_type": "code",
      "execution_count": 8,
      "metadata": {
        "colab": {
          "base_uri": "https://localhost:8080/"
        },
        "id": "MFciZQKZiC2d",
        "outputId": "de71c9ee-55a1-49ac-897b-c2285cedbf88"
      },
      "outputs": [
        {
          "name": "stdout",
          "output_type": "stream",
          "text": [
            "15\n"
          ]
        }
      ],
      "source": [
        "# Assigment Oprators\n",
        "\n",
        "x = 10\n",
        "\n",
        "# x = x + 2\n",
        "x += 5\n",
        "\n",
        "print(x)"
      ]
    },
    {
      "cell_type": "code",
      "execution_count": 9,
      "metadata": {
        "colab": {
          "base_uri": "https://localhost:8080/"
        },
        "id": "i4d7epmviUg3",
        "outputId": "9eb101a2-a6d0-4811-d1eb-8829e526f6f9"
      },
      "outputs": [
        {
          "name": "stdout",
          "output_type": "stream",
          "text": [
            "True\n",
            "False \n",
            "\n",
            "True\n",
            "False\n"
          ]
        }
      ],
      "source": [
        "# Membership Operators\n",
        "\n",
        "# in/not in\n",
        "print('d' in 'Odisha')\n",
        "print('d' not in 'Odisha', '\\n')\n",
        "\n",
        "print(1 in [1,2,3])\n",
        "print(1 not in [1,2,3])"
      ]
    },
    {
      "cell_type": "markdown",
      "metadata": {
        "id": "n3j624jyj-Ri"
      },
      "source": [
        " Program\n",
        "\n",
        "- fing the sum of a 3 digit number entered by the user"
      ]
    },
    {
      "cell_type": "code",
      "execution_count": 10,
      "metadata": {
        "colab": {
          "base_uri": "https://localhost:8080/"
        },
        "id": "H-4R3idHi43q",
        "outputId": "22b51b76-0f31-451a-aecd-3acf27b536a9"
      },
      "outputs": [
        {
          "name": "stdout",
          "output_type": "stream",
          "text": [
            "6 9 5 \n",
            "\n",
            "Sum of 3 digit numbers is : 20\n"
          ]
        }
      ],
      "source": [
        "num = int( input(\"Enter the 3 digit numbers :\"))\n",
        "\n",
        "a = num % 10\n",
        "num = num//10\n",
        "\n",
        "b = num % 10\n",
        "num= num //10\n",
        "\n",
        "c = num % 10\n",
        "num = num//10\n",
        "print(a, b, c, '\\n')\n",
        "\n",
        "sum = a+b+c\n",
        "print(\"Sum of 3 digit numbers is :\", sum)"
      ]
    },
    {
      "cell_type": "markdown",
      "metadata": {
        "id": "7tExZSELmfVB"
      },
      "source": [
        " # if-else in Python\n",
        " **Program** - `Make a login page `\n",
        " - check the gmail and password is correct\n",
        " - email -> rudraprasadbhuyan000@gmail.com\n",
        " - password -> 1234"
      ]
    },
    {
      "cell_type": "code",
      "execution_count": 15,
      "metadata": {
        "colab": {
          "base_uri": "https://localhost:8080/"
        },
        "id": "2sHKrG00lPZj",
        "outputId": "12af35e8-191e-4e33-ad94-61e8ab982be1"
      },
      "outputs": [
        {
          "name": "stdout",
          "output_type": "stream",
          "text": [
            "Welcome ! \n"
          ]
        }
      ],
      "source": [
        "email = input(\"Enter the Email :\")\n",
        "password = input(\"Enter Password :\")\n",
        "\n",
        "if email =='rudraprasadbhuyan000@gmail.com'and password == '1234':\n",
        "  print('Welcome ! ')\n",
        "elif email =='rudraprasadbhuyan000@gmail.com'and password != '1234':\n",
        "  print('password is incorrect ...')\n",
        "  password = input('Enter the password again :')\n",
        "  if password == '1234':\n",
        "    print('Welcome !finally ! ')\n",
        "  else:\n",
        "    print('Go and sleep... !')\n",
        "else:\n",
        "  print('Not correct ...')"
      ]
    },
    {
      "cell_type": "markdown",
      "metadata": {
        "id": "A1a6CyWm9T_h"
      },
      "source": [
        "**Program** - `Min number given by the user  `"
      ]
    },
    {
      "cell_type": "code",
      "execution_count": 16,
      "metadata": {
        "colab": {
          "base_uri": "https://localhost:8080/"
        },
        "id": "3_SZ430koVWi",
        "outputId": "34b064b1-7669-4b5d-e2d5-f6eec2ea38a4"
      },
      "outputs": [
        {
          "name": "stdout",
          "output_type": "stream",
          "text": [
            "Smallest is : 16\n"
          ]
        }
      ],
      "source": [
        "a = int(input('First number :'))\n",
        "b = int(input('Second number :'))\n",
        "c = int(input('Third number :'))\n",
        "\n",
        "if a<b and a<c:\n",
        "  print('Smallest num is :', a)\n",
        "elif b<a and b<c:\n",
        "  print('Smallest is :',b)\n",
        "else:\n",
        "  print('Smallest is :',c)"
      ]
    },
    {
      "cell_type": "markdown",
      "metadata": {
        "id": "kduDpCE1-2EL"
      },
      "source": [
        "**Program :** - Menu driven Calculator"
      ]
    },
    {
      "cell_type": "code",
      "execution_count": 17,
      "metadata": {
        "colab": {
          "base_uri": "https://localhost:8080/"
        },
        "id": "Y7wC5MYC-1vi",
        "outputId": "61c84a53-ee2c-46f8-9857-d19ee9b326fd"
      },
      "outputs": [
        {
          "name": "stdout",
          "output_type": "stream",
          "text": [
            "1.0\n"
          ]
        }
      ],
      "source": [
        "fnum = int(input('Enter the 1st number :'))\n",
        "snum = int(input('Enter the 2nd number :'))\n",
        "\n",
        "op = input('Enter the operation :')\n",
        "\n",
        "if op == '+':\n",
        "  print(fnum + snum)\n",
        "elif op == '-':\n",
        "  print(fnum - snum)\n",
        "elif op == '*':\n",
        "  print(fnum * snum)\n",
        "else:\n",
        "  print(fnum / snum)"
      ]
    },
    {
      "cell_type": "markdown",
      "metadata": {
        "id": "Ao7OGQ2NCBFS"
      },
      "source": [
        "# Modules"
      ]
    },
    {
      "cell_type": "code",
      "execution_count": 18,
      "metadata": {
        "colab": {
          "base_uri": "https://localhost:8080/"
        },
        "id": "ZTWa4Yoa_f8S",
        "outputId": "42daca9a-3b4b-42e7-f31e-f18a960bd950"
      },
      "outputs": [
        {
          "name": "stdout",
          "output_type": "stream",
          "text": [
            "14.0\n"
          ]
        }
      ],
      "source": [
        "# Math\n",
        "\n",
        "import math\n",
        "\n",
        "print(math.sqrt(196))"
      ]
    },
    {
      "cell_type": "code",
      "execution_count": 19,
      "metadata": {
        "colab": {
          "base_uri": "https://localhost:8080/"
        },
        "id": "KHo-ytC1CdkW",
        "outputId": "815ac707-2727-49b4-c9ba-7a56dd8bac76"
      },
      "outputs": [
        {
          "name": "stdout",
          "output_type": "stream",
          "text": [
            "['False', 'None', 'True', 'and', 'as', 'assert', 'async', 'await', 'break', 'class', 'continue', 'def', 'del', 'elif', 'else', 'except', 'finally', 'for', 'from', 'global', 'if', 'import', 'in', 'is', 'lambda', 'nonlocal', 'not', 'or', 'pass', 'raise', 'return', 'try', 'while', 'with', 'yield']\n"
          ]
        }
      ],
      "source": [
        "import keyword\n",
        "print(keyword.kwlist)"
      ]
    },
    {
      "cell_type": "code",
      "execution_count": null,
      "metadata": {
        "colab": {
          "base_uri": "https://localhost:8080/"
        },
        "id": "Y9TZz3tZCmRN",
        "outputId": "633c583e-dc3e-45f5-8ce3-f6aaadd540e9"
      },
      "outputs": [
        {
          "name": "stdout",
          "output_type": "stream",
          "text": [
            "16\n"
          ]
        }
      ],
      "source": [
        "# random\n",
        "import random\n",
        "print(random.randint(1, 20)) # only one number it show "
      ]
    },
    {
      "cell_type": "code",
      "execution_count": 22,
      "metadata": {
        "colab": {
          "base_uri": "https://localhost:8080/"
        },
        "id": "8okk4QNvCtUW",
        "outputId": "2d694bea-10cd-4d28-c2e8-1ccf6f5f592c"
      },
      "outputs": [
        {
          "name": "stdout",
          "output_type": "stream",
          "text": [
            "2025-03-26 19:24:21.585281\n"
          ]
        }
      ],
      "source": [
        "# datetime\n",
        "\n",
        "import datetime\n",
        "print(datetime.datetime.now())"
      ]
    },
    {
      "cell_type": "code",
      "execution_count": null,
      "metadata": {
        "colab": {
          "base_uri": "https://localhost:8080/",
          "height": 1000
        },
        "collapsed": true,
        "id": "EVwfE-uZEUPl",
        "outputId": "da8ea04f-a1b9-4b97-fd4b-9e569c97bdea"
      },
      "outputs": [],
      "source": [
        "help('modules') \n",
        "# this code help me the to understand how many modules in our computer"
      ]
    },
    {
      "cell_type": "markdown",
      "metadata": {
        "id": "RqTLdQ1zE2Fc"
      },
      "source": [
        "# Loops in Python\n",
        "\n",
        "\n",
        "1.   While Loop\n",
        "2.   For Loop\n",
        "\n"
      ]
    },
    {
      "cell_type": "markdown",
      "metadata": {},
      "source": [
        "## while loop"
      ]
    },
    {
      "cell_type": "code",
      "execution_count": 7,
      "metadata": {},
      "outputs": [
        {
          "name": "stdout",
          "output_type": "stream",
          "text": [
            "10 * 1 = 10\n",
            "10 * 3 = 10\n",
            "10 * 5 = 10\n"
          ]
        }
      ],
      "source": [
        "num = 10\n",
        "\n",
        "i = 1\n",
        "\n",
        "while i < 6:\n",
        "    print( num, '*', i, '=', num * 1 )\n",
        "    i += 2"
      ]
    },
    {
      "cell_type": "code",
      "execution_count": null,
      "metadata": {
        "colab": {
          "base_uri": "https://localhost:8080/"
        },
        "id": "t5HgpsVkE4sh",
        "outputId": "f8287166-ab8f-4caf-b277-43d5085caaad"
      },
      "outputs": [
        {
          "name": "stdout",
          "output_type": "stream",
          "text": [
            "Enter the number :2\n",
            "2 1 * = 2\n",
            "2 2 * = 4\n",
            "2 3 * = 6\n",
            "2 4 * = 8\n",
            "2 5 * = 10\n",
            "2 6 * = 12\n",
            "2 7 * = 14\n",
            "2 8 * = 16\n",
            "2 9 * = 18\n",
            "2 10 * = 20\n"
          ]
        }
      ],
      "source": [
        "num = int(input('Enter the number :'))\n",
        "\n",
        "i = 1\n",
        "\n",
        "while i<11:\n",
        "  print(num, '*', i, '=', num * i)\n",
        "  i +=1"
      ]
    },
    {
      "cell_type": "markdown",
      "metadata": {
        "id": "AklgsNo6IdBF"
      },
      "source": [
        "https://pythontutor.com/visualize.html#mode=edit\n",
        "- visiual the code"
      ]
    },
    {
      "cell_type": "code",
      "execution_count": null,
      "metadata": {
        "colab": {
          "base_uri": "https://localhost:8080/"
        },
        "id": "z4Y2hg6rF8M-",
        "outputId": "9b6f7cf8-563a-4822-d92f-f74aafa5a02c"
      },
      "outputs": [
        {
          "name": "stdout",
          "output_type": "stream",
          "text": [
            "1\n",
            "2\n",
            "Limit Crossed ...\n"
          ]
        }
      ],
      "source": [
        "# while with else\n",
        "\n",
        "x = 1\n",
        "\n",
        "while x < 3:\n",
        "  print(x)\n",
        "  x+=1\n",
        "\n",
        "else:\n",
        "  print('Limit Crossed ...')"
      ]
    },
    {
      "cell_type": "markdown",
      "metadata": {
        "id": "gJBOxErKJCGp"
      },
      "source": [
        "**Program :** - Guessing game\n"
      ]
    },
    {
      "cell_type": "code",
      "execution_count": null,
      "metadata": {
        "colab": {
          "base_uri": "https://localhost:8080/"
        },
        "id": "nS3zedy_I8lZ",
        "outputId": "3fa761a7-28a1-4f4c-c1a3-593b651cd7b2"
      },
      "outputs": [
        {
          "name": "stdout",
          "output_type": "stream",
          "text": [
            "Enter the Number  :10\n",
            "Guess Higher ...\n",
            " Again Enter the Number  :30\n",
            "Guess Higher ...\n",
            " Again Enter the Number  :40\n",
            "Guess Higher ...\n",
            " Again Enter the Number  :50\n",
            "Guess Higher ...\n",
            " Again Enter the Number  :60\n",
            "Guess Higher ...\n",
            " Again Enter the Number  :70\n",
            "Guess Lower ...\n",
            " Again Enter the Number  :69\n",
            "Guess Lower ...\n",
            " Again Enter the Number  :68\n",
            "Guess Lower ...\n",
            " Again Enter the Number  :67\n",
            "Guess Lower ...\n",
            " Again Enter the Number  :66\n",
            "Correct Guess ...\n",
            "You took 10 attempts\n"
          ]
        }
      ],
      "source": [
        "import random\n",
        "jackpot =  random.randint(1, 100)\n",
        "\n",
        "guess = int(input('Enter the Number  :'))\n",
        "\n",
        "count = 1\n",
        "\n",
        "while guess != jackpot:\n",
        "  if guess < jackpot:\n",
        "    print('Guess Higher ...')\n",
        "  else:\n",
        "    print('Guess Lower ...')\n",
        "\n",
        "  guess = int(input(' Again Enter the Number  :'))\n",
        "  count +=1\n",
        "\n",
        "else:\n",
        "  print('Correct Guess ...')\n",
        "  print('You took', count, 'attempts')"
      ]
    },
    {
      "cell_type": "code",
      "execution_count": null,
      "metadata": {},
      "outputs": [
        {
          "name": "stdout",
          "output_type": "stream",
          "text": [
            "Your Number is 5\n",
            "\n",
            "Wrong ! Guess Lower . . .\n",
            "Your Number is 5\n",
            "\n",
            "Right ... \n",
            "\n",
            "You Attempted :2\n"
          ]
        }
      ],
      "source": [
        "# random integer from (1 to 100)\n",
        "import random \n",
        "jackpot = random.randint(1, 10)\n",
        "\n",
        "# user input\n",
        "guess = int(input('Enter a Number :'))\n",
        "print(f'Your Number is {guess}\\n')\n",
        "\n",
        "# Count the attempts \n",
        "# why one -> because we already take one attempts from starting \n",
        "count = 1\n",
        "\n",
        "# loops\n",
        "while guess != jackpot:\n",
        "    # guess is higher or lower \n",
        "    if guess < jackpot:\n",
        "        print('Wrong ! Guess Higher . . . ')\n",
        "        print(f'Your Number is {guess}\\n')\n",
        "    else:\n",
        "        print('Wrong ! Guess Lower . . .')\n",
        "        print(f'Your Number is {guess}\\n')\n",
        "    \n",
        "    # more chance to attempt \n",
        "    guess = int(input('Enter a Number :\\n'))\n",
        "    count += 1\n",
        "    \n",
        "else:\n",
        "    print('Right ... \\n')   \n",
        "    print(f'You Attempted : {count}')"
      ]
    },
    {
      "cell_type": "markdown",
      "metadata": {},
      "source": [
        "## for loops"
      ]
    },
    {
      "cell_type": "code",
      "execution_count": 19,
      "metadata": {},
      "outputs": [
        {
          "name": "stdout",
          "output_type": "stream",
          "text": [
            "67\n",
            "2\n",
            "3\n"
          ]
        }
      ],
      "source": [
        "for i in 67, 2, 3:\n",
        "    print(i)"
      ]
    },
    {
      "cell_type": "code",
      "execution_count": 15,
      "metadata": {},
      "outputs": [
        {
          "name": "stdout",
          "output_type": "stream",
          "text": [
            "1\n",
            "2\n",
            "3\n"
          ]
        }
      ],
      "source": [
        "for i in range(1, 4):\n",
        "    print(i)"
      ]
    },
    {
      "cell_type": "code",
      "execution_count": 16,
      "metadata": {
        "colab": {
          "base_uri": "https://localhost:8080/"
        },
        "id": "LJ-ZiFsxMuPK",
        "outputId": "f8a77a47-6257-48ce-ba98-2d035fffab42"
      },
      "outputs": [
        {
          "name": "stdout",
          "output_type": "stream",
          "text": [
            "1\n",
            "3\n",
            "5\n",
            "7\n",
            "9\n"
          ]
        }
      ],
      "source": [
        "for i in range (1, 11, 2): #(star, end , steps)\n",
        "  print(i)"
      ]
    },
    {
      "cell_type": "code",
      "execution_count": 20,
      "metadata": {
        "id": "GthV8cdeNYyh"
      },
      "outputs": [
        {
          "name": "stdout",
          "output_type": "stream",
          "text": [
            "10\n",
            "9\n",
            "8\n",
            "7\n",
            "6\n",
            "5\n",
            "4\n",
            "3\n",
            "2\n"
          ]
        }
      ],
      "source": [
        "for i in range (10, 1, -1):\n",
        "  print(i)"
      ]
    },
    {
      "cell_type": "code",
      "execution_count": 24,
      "metadata": {},
      "outputs": [
        {
          "name": "stdout",
          "output_type": "stream",
          "text": [
            "O-d-i-s-h-a-"
          ]
        }
      ],
      "source": [
        "for i in 'Odisha':\n",
        "    print(i, end='-')"
      ]
    },
    {
      "cell_type": "markdown",
      "metadata": {
        "id": "CzYPGTXzN54F"
      },
      "source": [
        "**Program :** - The current population of a town is 10,000. The population of the town is increasing at the rate of 10% per year. You have write a program to find out the population at the end of each of the last 10 year."
      ]
    },
    {
      "cell_type": "markdown",
      "metadata": {},
      "source": [
        "pervious_year_population = current_year_population / 1.1 "
      ]
    },
    {
      "cell_type": "code",
      "execution_count": 1,
      "metadata": {},
      "outputs": [
        {
          "name": "stdout",
          "output_type": "stream",
          "text": [
            "In Year 10 the current population is : 10000\n",
            "In Year 9 the current population is : 9090.90909090909\n",
            "In Year 8 the current population is : 8264.462809917353\n",
            "In Year 7 the current population is : 7513.148009015775\n",
            "In Year 6 the current population is : 6830.134553650703\n",
            "In Year 5 the current population is : 6209.213230591548\n",
            "In Year 4 the current population is : 5644.739300537771\n",
            "In Year 3 the current population is : 5131.5811823070635\n",
            "In Year 2 the current population is : 4665.07380209733\n",
            "In Year 1 the current population is : 4240.976183724845\n"
          ]
        }
      ],
      "source": [
        "current_pop = 10000\n",
        "\n",
        "for i in range(10, 0, -1):\n",
        "    print(f'In Year {i} the current population is : {current_pop}')\n",
        "    current_pop = current_pop/1.1"
      ]
    },
    {
      "cell_type": "markdown",
      "metadata": {},
      "source": [
        "# Thank you\n",
        "20:10 pm<br>\n",
        "26-03-2025"
      ]
    }
  ],
  "metadata": {
    "colab": {
      "cell_execution_strategy": "setup",
      "provenance": []
    },
    "kernelspec": {
      "display_name": "Python 3",
      "name": "python3"
    },
    "language_info": {
      "codemirror_mode": {
        "name": "ipython",
        "version": 3
      },
      "file_extension": ".py",
      "mimetype": "text/x-python",
      "name": "python",
      "nbconvert_exporter": "python",
      "pygments_lexer": "ipython3",
      "version": "3.12.3"
    }
  },
  "nbformat": 4,
  "nbformat_minor": 0
}
