{
  "cells": [
    {
      "cell_type": "markdown",
      "metadata": {
        "id": "5x1MGKpFd_Bh"
      },
      "source": [
        "Hello Data points 😄\n",
        "\n",
        "\n",
        "# My Class Notes\n",
        "\n",
        "**By Rudra**\n",
        "\n",
        "> Hi everyone, these are my class notes from one of my favorite teachers, Nitesh sir.\n",
        "\n",
        "\n",
        "\n",
        "Class- [Link](#https://www.youtube.com/live/WmbU3WBaoR0?si=mGcik_2LAEoTRO1h)\n"
      ]
    },
    {
      "cell_type": "markdown",
      "metadata": {
        "id": "neAznpt3WGXK"
      },
      "source": [
        "# 1. Lists\n",
        "\n",
        "\n",
        "\n",
        "list is a data type where you can store multiple items in a single variable.dynamic array.\n",
        "\n",
        "\n",
        "**Arry vs lists**\n",
        "\n",
        "pro:\n",
        "- fixed vs Dynamic\n",
        "- Convienace -> heterogeneous\n",
        "\n",
        "cons:\n",
        "- speed of Execution\n",
        "- Memory\n"
      ]
    },
    {
      "cell_type": "code",
      "execution_count": 1,
      "metadata": {
        "colab": {
          "base_uri": "https://localhost:8080/"
        },
        "id": "0pFyjkPrbkz_",
        "outputId": "fd493c15-4eee-4a57-a782-c62be99ef68a"
      },
      "outputs": [
        {
          "name": "stdout",
          "output_type": "stream",
          "text": [
            "1539262111744\n",
            "140733521926584\n",
            "140733521926616\n",
            "140733521926648\n",
            "140733521926584\n",
            "140733521926616\n",
            "140733521926648\n"
          ]
        }
      ],
      "source": [
        "l = [1, 2, 3]\n",
        "# id helps to print the  memory\n",
        "# referential array\n",
        "\n",
        "print(id(l))\n",
        "print(id(l[0]))\n",
        "print(id(l[1]))\n",
        "print(id(l[2]))\n",
        "\n",
        "print(id(1))\n",
        "print(id(2))\n",
        "print(id(3))"
      ]
    },
    {
      "cell_type": "markdown",
      "metadata": {
        "id": "eZjmsiQAeCtf"
      },
      "source": [
        "**Characterstics of a List**\n",
        "\n",
        "\n",
        "- Ordered\n",
        "- Changeable/Mutable\n",
        "- Hetrogeneous\n",
        "- Can be duplicated\n",
        "- are Dynamic\n",
        "- can be nested\n",
        "- items can be accessed by index\n",
        "- can contain any datatype in python"
      ]
    },
    {
      "cell_type": "markdown",
      "metadata": {
        "id": "fEYAEzi9gS2i"
      },
      "source": [
        "# Creating a lists\n"
      ]
    },
    {
      "cell_type": "code",
      "execution_count": 3,
      "metadata": {
        "colab": {
          "base_uri": "https://localhost:8080/"
        },
        "id": "0zS0_AxFgX7h",
        "outputId": "4d83cd76-0dac-41af-8279-738f1872219a"
      },
      "outputs": [
        {
          "name": "stdout",
          "output_type": "stream",
          "text": [
            "[]\n",
            "[]\n",
            "[1, 2, 3, 4, 5]\n",
            "[1, 2, 3, [4, 5, 6]]\n",
            "[[[1, 2], [3, 4]], [[5, 6], [7, 8]]]\n",
            "1 True 5.9 (5+3j) z\n",
            "['h', 'e', 'l', 'l', 'o']\n",
            "[1, 2, 3]\n"
          ]
        }
      ],
      "source": [
        "# empty\n",
        "print([])\n",
        "L= []\n",
        "print(L)\n",
        "\n",
        "\n",
        "# 1D ->\n",
        "L = [1, 2, 3, 4, 5]\n",
        "print(L)\n",
        "\n",
        "# 2D ->\n",
        "L = [1, 2, 3, [4, 5, 6]]\n",
        "print(L)\n",
        "\n",
        "# 3D ->\n",
        "L = [[[1, 2], [3, 4]], [[5, 6], [7, 8]]]\n",
        "print(L)\n",
        "\n",
        "# Heterogenous\n",
        "print(1, True, 5.9, 5+3j, 'z')\n",
        "\n",
        "# using type conversion\n",
        "print(list('hello'))\n",
        "print(list({1, 2, 3}))\n",
        "\n"
      ]
    },
    {
      "cell_type": "markdown",
      "metadata": {
        "id": "r1YgsR__hXL4"
      },
      "source": [
        "# Accessing items from a List\n",
        "- Indexing\n",
        "- Slicing"
      ]
    },
    {
      "cell_type": "code",
      "execution_count": 4,
      "metadata": {
        "colab": {
          "base_uri": "https://localhost:8080/"
        },
        "id": "at8_73MChRS6",
        "outputId": "41366fd5-f0a6-4fad-e73d-5bc57c50ec6e"
      },
      "outputs": [
        {
          "name": "stdout",
          "output_type": "stream",
          "text": [
            "1\n",
            "2\n",
            "3\n",
            "4\n",
            "5\n"
          ]
        }
      ],
      "source": [
        "l = [1, 2, 3, 4, 5]\n",
        "print(l[0])\n",
        "print(l[1])\n",
        "print(l[2])\n",
        "print(l[3])\n",
        "print(l[4])"
      ]
    },
    {
      "cell_type": "markdown",
      "metadata": {
        "id": "1IdzXfQRgLkM"
      },
      "source": [
        "# Accessing items from a lists"
      ]
    },
    {
      "cell_type": "code",
      "execution_count": 6,
      "metadata": {
        "colab": {
          "base_uri": "https://localhost:8080/"
        },
        "id": "nztYeUjlhpUH",
        "outputId": "e93da45f-7a5e-4619-af9e-6b519115ce7e"
      },
      "outputs": [
        {
          "name": "stdout",
          "output_type": "stream",
          "text": [
            "9\n"
          ]
        }
      ],
      "source": [
        "k = [1, 3, 5, 7, 9]\n",
        "print(k[4])"
      ]
    },
    {
      "cell_type": "code",
      "execution_count": 7,
      "metadata": {
        "colab": {
          "base_uri": "https://localhost:8080/"
        },
        "id": "8KuO4uvWgPeI",
        "outputId": "d3463b75-a9d1-4f27-b299-e8a2c3a6fca8"
      },
      "outputs": [
        {
          "name": "stdout",
          "output_type": "stream",
          "text": [
            "6\n"
          ]
        }
      ],
      "source": [
        "w =  [1, 2, 3 ,4, [5, 6]]\n",
        "print(w[-1][-1])"
      ]
    },
    {
      "cell_type": "code",
      "execution_count": 8,
      "metadata": {
        "colab": {
          "base_uri": "https://localhost:8080/"
        },
        "id": "tmJSpaILgexT",
        "outputId": "ba2bdc10-0dcd-477c-95c3-2be89de7be6e"
      },
      "outputs": [
        {
          "name": "stdout",
          "output_type": "stream",
          "text": [
            "69\n"
          ]
        }
      ],
      "source": [
        "o = [[12, 4, 5 ],\n",
        "     [24, 5, 9, 0],\n",
        "      [ [45, 67],\n",
        "        [24, 69] ]\n",
        "     ]\n",
        "\n",
        "print(o[2][1][1])"
      ]
    },
    {
      "cell_type": "code",
      "execution_count": 9,
      "metadata": {
        "colab": {
          "base_uri": "https://localhost:8080/"
        },
        "id": "FBTa7b0thQop",
        "outputId": "265dfd3b-fa8a-47b4-e29f-b7e03cad8e36"
      },
      "outputs": [
        {
          "name": "stdout",
          "output_type": "stream",
          "text": [
            "[3, 5, 8, 9, 2]\n"
          ]
        }
      ],
      "source": [
        "v = [1, 3, 5, 8, 9, 2]\n",
        "print(v[1::1])"
      ]
    },
    {
      "cell_type": "markdown",
      "metadata": {
        "id": "XyEM48WsixPX"
      },
      "source": [
        "# Adding items to a List\n"
      ]
    },
    {
      "cell_type": "code",
      "execution_count": 98,
      "metadata": {
        "colab": {
          "base_uri": "https://localhost:8080/"
        },
        "id": "RQcEQWYjiuTU",
        "outputId": "84945280-7cf0-436a-94e1-4a512f7496c3"
      },
      "outputs": [
        {
          "name": "stdout",
          "output_type": "stream",
          "text": [
            "[2, 3, 4, True]\n"
          ]
        }
      ],
      "source": [
        "v.append(True)\n",
        "print(v)"
      ]
    },
    {
      "cell_type": "code",
      "execution_count": 99,
      "metadata": {
        "colab": {
          "base_uri": "https://localhost:8080/"
        },
        "id": "p2Ny0K0ai4sO",
        "outputId": "4e88fba8-e51a-472d-a8c9-70362807cea6"
      },
      "outputs": [
        {
          "name": "stdout",
          "output_type": "stream",
          "text": [
            "[2, 3, 4, True, 2, 4, 5, 6, 9]\n"
          ]
        }
      ],
      "source": [
        "v.extend([2, 4, 5, 6, 9])\n",
        "print(v)"
      ]
    },
    {
      "cell_type": "code",
      "execution_count": 100,
      "metadata": {
        "colab": {
          "base_uri": "https://localhost:8080/"
        },
        "id": "qxMPpScgjCTg",
        "outputId": "c94816d1-00a4-44c4-e1a2-45fb35213b29"
      },
      "outputs": [
        {
          "name": "stdout",
          "output_type": "stream",
          "text": [
            "[2, 3, 4, True, 2, 4, 5, 6, 9, [3, 56, 67]]\n"
          ]
        }
      ],
      "source": [
        "v.append([3, 56, 67])\n",
        "print(v)"
      ]
    },
    {
      "cell_type": "code",
      "execution_count": 101,
      "metadata": {
        "colab": {
          "base_uri": "https://localhost:8080/"
        },
        "id": "aCTTUuoSjaq6",
        "outputId": "45cf1b5e-e2bd-4988-cb5f-1c6dc67855c2"
      },
      "outputs": [
        {
          "name": "stdout",
          "output_type": "stream",
          "text": [
            "[2, 3, 4, True, 2, 4, 5, 6, 9, [3, 56, 67], 'O', 'd', 'i', 's', 'h', 'a']\n"
          ]
        }
      ],
      "source": [
        "v.extend('Odisha')\n",
        "print(v)"
      ]
    },
    {
      "cell_type": "code",
      "execution_count": 102,
      "metadata": {},
      "outputs": [
        {
          "name": "stdout",
          "output_type": "stream",
          "text": [
            "[2, 3, 4, True, 2, 4, 5, 6, 9, [3, 56, 67], 'O', 'd', 'i', 's', 'h', 'a', ['Odisha']]\n"
          ]
        }
      ],
      "source": [
        "v.append([\"Odisha\"])\n",
        "print(v)"
      ]
    },
    {
      "cell_type": "code",
      "execution_count": 103,
      "metadata": {
        "colab": {
          "base_uri": "https://localhost:8080/"
        },
        "id": "Z8ZLVlRCjuqk",
        "outputId": "a29d6b5e-0549-4979-854f-cbdeb50e9993"
      },
      "outputs": [
        {
          "name": "stdout",
          "output_type": "stream",
          "text": [
            "['hello', 2, 3, 4, True, 2, 4, 5, 6, 9, [3, 56, 67], 'O', 'd', 'i', 's', 'h', 'a', ['Odisha']]\n"
          ]
        }
      ],
      "source": [
        "# insert\n",
        "# index place, what to place\n",
        "\n",
        "v.insert(0, 'hello')\n",
        "print(v)"
      ]
    },
    {
      "cell_type": "markdown",
      "metadata": {
        "id": "o-fOVoKfkuo9"
      },
      "source": [
        "# Editing"
      ]
    },
    {
      "cell_type": "code",
      "execution_count": 19,
      "metadata": {
        "colab": {
          "base_uri": "https://localhost:8080/"
        },
        "id": "lgtoe25vj6E0",
        "outputId": "07f102ad-b5c9-4563-a209-d2adb2b3dcc3"
      },
      "outputs": [
        {
          "name": "stdout",
          "output_type": "stream",
          "text": [
            "['hello', 'Rudra', 3, 5, 8, 9, 2, True, 2, 4, 5, 6, 9, [3, 56, 67], 'O', 'd', 'i', 's', 'h', 'a', ['Odisha'], ['Odisha'], 'O', 'd', 'i', 's', 'h', 'a', ['Odisha']]\n"
          ]
        }
      ],
      "source": [
        "v[1] = 'Rudra'\n",
        "print(v)"
      ]
    },
    {
      "cell_type": "code",
      "execution_count": 20,
      "metadata": {
        "colab": {
          "base_uri": "https://localhost:8080/"
        },
        "id": "nqWRiFbokBcN",
        "outputId": "93b8bf2e-4a94-4b49-8dc3-4aabfc7f7277"
      },
      "outputs": [
        {
          "name": "stdout",
          "output_type": "stream",
          "text": [
            "['hello', 'Rudra', 3, 300, 400, 500, 9, 2, True, 2, 4, 5, 6, 9, [3, 56, 67], 'O', 'd', 'i', 's', 'h', 'a', ['Odisha'], ['Odisha'], 'O', 'd', 'i', 's', 'h', 'a', ['Odisha']]\n"
          ]
        }
      ],
      "source": [
        "v[3:5] = [300, 400, 500]\n",
        "print(v)"
      ]
    },
    {
      "cell_type": "code",
      "execution_count": null,
      "metadata": {
        "id": "M9k9A8JWkjKT"
      },
      "outputs": [],
      "source": []
    },
    {
      "cell_type": "markdown",
      "metadata": {
        "id": "jJTKAtV2kxDd"
      },
      "source": [
        "# deleting items\n",
        "- del\n",
        "- reomve\n",
        "- pop\n",
        "- clear"
      ]
    },
    {
      "cell_type": "code",
      "execution_count": 21,
      "metadata": {
        "colab": {
          "base_uri": "https://localhost:8080/"
        },
        "id": "hlAPTL8dkzHJ",
        "outputId": "ee122d39-ee6e-4dbd-c325-cc39f7d03bbb"
      },
      "outputs": [
        {
          "name": "stdout",
          "output_type": "stream",
          "text": [
            "[2, 3, 4, 5, 6, 7, 8, 9]\n"
          ]
        }
      ],
      "source": [
        "h = [1,2,3,4,5,6,7,8,9]\n",
        "del h[0]\n",
        "print(h)"
      ]
    },
    {
      "cell_type": "code",
      "execution_count": 22,
      "metadata": {
        "colab": {
          "base_uri": "https://localhost:8080/"
        },
        "id": "_UJwChi6lChT",
        "outputId": "84875811-b3b5-48c3-9aea-821436d4aad9"
      },
      "outputs": [
        {
          "name": "stdout",
          "output_type": "stream",
          "text": [
            "[5, 6, 7, 8, 9]\n"
          ]
        }
      ],
      "source": [
        "del h[:3]\n",
        "print(h)"
      ]
    },
    {
      "cell_type": "code",
      "execution_count": 23,
      "metadata": {
        "colab": {
          "base_uri": "https://localhost:8080/"
        },
        "id": "ROyJvUU1lJBg",
        "outputId": "50223ac3-8b05-4a2b-90fe-13e588e8ceff"
      },
      "outputs": [
        {
          "name": "stdout",
          "output_type": "stream",
          "text": [
            "[5, 6, 7, 9]\n"
          ]
        }
      ],
      "source": [
        "# reomve\n",
        "\n",
        "h.remove(8)\n",
        "print(h)"
      ]
    },
    {
      "cell_type": "code",
      "execution_count": 24,
      "metadata": {
        "colab": {
          "base_uri": "https://localhost:8080/"
        },
        "id": "jhxRpIOhlU4a",
        "outputId": "28690aeb-6278-4386-d015-bc5298e3cdc4"
      },
      "outputs": [
        {
          "name": "stdout",
          "output_type": "stream",
          "text": [
            "[6, 7, 9]\n"
          ]
        }
      ],
      "source": [
        "# pop\n",
        "\n",
        "h.pop(0)\n",
        "print(h)"
      ]
    },
    {
      "cell_type": "code",
      "execution_count": 25,
      "metadata": {
        "colab": {
          "base_uri": "https://localhost:8080/"
        },
        "id": "c69GHLHtlh-D",
        "outputId": "f3df8a41-c856-42e4-9d2e-f995e39fe6be"
      },
      "outputs": [
        {
          "name": "stdout",
          "output_type": "stream",
          "text": [
            "[6, 7]\n"
          ]
        }
      ],
      "source": [
        "# del last value\n",
        "# deflut is -1 (Last is deleted)\n",
        "h.pop()\n",
        "print(h)"
      ]
    },
    {
      "cell_type": "code",
      "execution_count": 26,
      "metadata": {
        "colab": {
          "base_uri": "https://localhost:8080/"
        },
        "id": "ePfSeZ5mlt4G",
        "outputId": "e3807f2a-0ec3-42d6-9115-d1e7ce0b80c3"
      },
      "outputs": [
        {
          "name": "stdout",
          "output_type": "stream",
          "text": [
            "[]\n"
          ]
        }
      ],
      "source": [
        "# clear\n",
        "# empty the list\n",
        "\n",
        "h.clear()\n",
        "print(h)"
      ]
    },
    {
      "cell_type": "markdown",
      "metadata": {
        "id": "_2Q7Oatel-GE"
      },
      "source": [
        "# Operations on Lists\n",
        "- Arithmetic\n",
        "- Membership\n",
        "- Loop"
      ]
    },
    {
      "cell_type": "code",
      "execution_count": 27,
      "metadata": {
        "colab": {
          "base_uri": "https://localhost:8080/"
        },
        "id": "duNu_Jg_mIFI",
        "outputId": "2ddd3831-6055-4679-ef78-fd5bc23d4ced"
      },
      "outputs": [
        {
          "name": "stdout",
          "output_type": "stream",
          "text": [
            "[1, 2, 3, 4, 5, 6]\n",
            "[1, 2, 3, 1, 2, 3, 1, 2, 3]\n"
          ]
        }
      ],
      "source": [
        "# Arithmetic ( +, *)\n",
        "\n",
        "l1 = [1, 2, 3]\n",
        "l2 = [4, 5, 6]\n",
        "\n",
        "print(l1 + l2)\n",
        "print(l1 * 3)\n"
      ]
    },
    {
      "cell_type": "code",
      "execution_count": 28,
      "metadata": {
        "colab": {
          "base_uri": "https://localhost:8080/"
        },
        "id": "5gKo__FUmQT5",
        "outputId": "e7188f60-25b0-44a6-f952-f97f8c19207b"
      },
      "outputs": [
        {
          "name": "stdout",
          "output_type": "stream",
          "text": [
            "True\n",
            "False\n"
          ]
        }
      ],
      "source": [
        "# Membership\n",
        "\n",
        "print(1 in l1)\n",
        "print(1 not in l1)\n"
      ]
    },
    {
      "cell_type": "code",
      "execution_count": 29,
      "metadata": {
        "colab": {
          "base_uri": "https://localhost:8080/"
        },
        "id": "EP3MtU_tmgIU",
        "outputId": "ebbbc039-c6c5-4976-94d8-f131b4abdf2f"
      },
      "outputs": [
        {
          "name": "stdout",
          "output_type": "stream",
          "text": [
            "True\n"
          ]
        }
      ],
      "source": [
        "\n",
        "k = [1, 2, 3, [4, 5, 6]]\n",
        "print([4, 5, 6] in k)"
      ]
    },
    {
      "cell_type": "code",
      "execution_count": 30,
      "metadata": {
        "colab": {
          "base_uri": "https://localhost:8080/"
        },
        "id": "hr4jL546m5lU",
        "outputId": "1b0b5f22-e4d4-4003-a0b9-2e467d0c538b"
      },
      "outputs": [
        {
          "name": "stdout",
          "output_type": "stream",
          "text": [
            "1\n",
            "2\n",
            "3\n",
            "[4, 5, 6]\n"
          ]
        }
      ],
      "source": [
        "# loop\n",
        "\n",
        "for i in k:\n",
        "  print(i)"
      ]
    },
    {
      "cell_type": "code",
      "execution_count": 33,
      "metadata": {
        "colab": {
          "base_uri": "https://localhost:8080/"
        },
        "id": "B3DTUnTQnPRv",
        "outputId": "71582e9f-626e-4f41-d2d3-6c463f5ca278"
      },
      "outputs": [
        {
          "name": "stdout",
          "output_type": "stream",
          "text": [
            "[12, 4, 5]\n",
            "[24, 5, 9, 0]\n",
            "[[45, 67], [24, 69]]\n"
          ]
        }
      ],
      "source": [
        "o = [\n",
        "     [12, 4, 5 ],\n",
        "     [24, 5, 9, 0],\n",
        "     [ [45, 67],\n",
        "       [24, 69] ]\n",
        "     ]\n",
        "\n",
        "for i in o:\n",
        "  print(i)"
      ]
    },
    {
      "cell_type": "markdown",
      "metadata": {
        "id": "jSs0hC-TmiZK"
      },
      "source": [
        "# List Function\n",
        "- len/ min/ max/ sorted\n",
        "- count\n",
        "- reverse\n",
        "- sort (vs sorted )\n",
        "- copy\n",
        "-"
      ]
    },
    {
      "cell_type": "code",
      "execution_count": 34,
      "metadata": {
        "colab": {
          "base_uri": "https://localhost:8080/"
        },
        "id": "rNFhDGxXmlsj",
        "outputId": "0be818cb-9f35-4edd-e4c9-92231695314b"
      },
      "outputs": [
        {
          "name": "stdout",
          "output_type": "stream",
          "text": [
            "Length of the function is : 5\n",
            "Minimum item in the function is : 1\n",
            "Maximum item in  the function is : 5\n",
            "Sorted of the function is : [1, 2, 3, 4, 5]\n"
          ]
        }
      ],
      "source": [
        "r1 = [1, 2, 3, 4, 5]\n",
        "print('Length of the function is :', len(r1))\n",
        "print('Minimum item in the function is :', min(r1))\n",
        "print('Maximum item in  the function is :', max(r1))\n",
        "print('Sorted of the function is :', sorted(r1)) # reverse = True (parameter)"
      ]
    },
    {
      "cell_type": "code",
      "execution_count": 35,
      "metadata": {
        "colab": {
          "base_uri": "https://localhost:8080/"
        },
        "id": "36skJHGknxX2",
        "outputId": "fbcdaf1c-38bb-4d81-d472-e07b1cdce222"
      },
      "outputs": [
        {
          "name": "stdout",
          "output_type": "stream",
          "text": [
            "4\n",
            "3\n"
          ]
        }
      ],
      "source": [
        "# count\n",
        "r2 = [2, 3, 4, 5, 2, 4, 2, 3, 2, 1, 3]\n",
        "print(r2.count(2))\n",
        "print(r2.count(3))"
      ]
    },
    {
      "cell_type": "code",
      "execution_count": 36,
      "metadata": {
        "colab": {
          "base_uri": "https://localhost:8080/"
        },
        "id": "T8eAFuu3olGY",
        "outputId": "1acb10d1-f14c-4287-e8c0-67f0061d5a90"
      },
      "outputs": [
        {
          "data": {
            "text/plain": [
              "5"
            ]
          },
          "execution_count": 36,
          "metadata": {},
          "output_type": "execute_result"
        }
      ],
      "source": [
        "r3 = [1, 2, 3, 4, 1, 5,  5]\n",
        "r3.index(2)\n",
        "r3.index(5) # first occurrence"
      ]
    },
    {
      "cell_type": "code",
      "execution_count": 37,
      "metadata": {
        "colab": {
          "base_uri": "https://localhost:8080/"
        },
        "id": "uhCSKtamoaNL",
        "outputId": "5899935d-6c1c-4a14-c386-ee35522fb9c9"
      },
      "outputs": [
        {
          "name": "stdout",
          "output_type": "stream",
          "text": [
            "[5, 4, 3, 2, 1]\n"
          ]
        }
      ],
      "source": [
        "r4 = [1, 2, 3, 4, 5]\n",
        "r4.reverse() # permanent \n",
        "print(r4)"
      ]
    },
    {
      "cell_type": "code",
      "execution_count": 59,
      "metadata": {
        "colab": {
          "base_uri": "https://localhost:8080/"
        },
        "id": "bUoRpD1moaT_",
        "outputId": "29bfe6a6-a1ad-4661-89a1-a94043768983"
      },
      "outputs": [
        {
          "name": "stdout",
          "output_type": "stream",
          "text": [
            "[1, 2, 3, 4, 5]\n",
            "[1, 2, 3, 4, 5]\n",
            "[1, 2, 3, 4, 5]\n",
            "[1, 2, 3, 4, 5]\n"
          ]
        }
      ],
      "source": [
        "# sorted -> permanent\n",
        "# sort -> temporary\n",
        "\n",
        "r5 = [1, 2, 3, 4, 5]\n",
        "print(r5)\n",
        "print(sorted(r5))\n",
        "print(r5)\n",
        "\n",
        "r5.sort()\n",
        "print(r5)"
      ]
    },
    {
      "cell_type": "code",
      "execution_count": 60,
      "metadata": {
        "colab": {
          "base_uri": "https://localhost:8080/"
        },
        "id": "-xoBHVCZpSks",
        "outputId": "b77cad9a-e1fa-450c-cb23-bd761b135e35"
      },
      "outputs": [
        {
          "name": "stdout",
          "output_type": "stream",
          "text": [
            "[1, 2, 3, 4, 5]\n",
            "[1, 2, 3, 4, 5]\n"
          ]
        }
      ],
      "source": [
        "# copy\n",
        "# deep copu / shallow copy\n",
        "r6 = [1, 2, 3, 4, 5]\n",
        "r7 = r6.copy()\n",
        "print(r6)\n",
        "print(r7)"
      ]
    },
    {
      "cell_type": "markdown",
      "metadata": {
        "id": "YgkTVgngp5h9"
      },
      "source": [
        "# List Comperehension\n",
        "```\n",
        "new_list = [ Expression for item in iterable if condition == True ]\n",
        "```\n",
        "it provie a consie way of creting lists."
      ]
    },
    {
      "cell_type": "code",
      "execution_count": 67,
      "metadata": {},
      "outputs": [
        {
          "name": "stdout",
          "output_type": "stream",
          "text": [
            "[1, 2, 3, 4, 5, 6, 7, 8, 9, 10]\n"
          ]
        }
      ],
      "source": [
        "l1: list[int] = []\n",
        "\n",
        "for i in range(1, 11):\n",
        "    l1.append(i)\n",
        "\n",
        "print(l1)"
      ]
    },
    {
      "cell_type": "code",
      "execution_count": 70,
      "metadata": {},
      "outputs": [
        {
          "data": {
            "text/plain": [
              "[1, 2, 3, 4, 5, 6, 7, 8, 9, 10]"
            ]
          },
          "execution_count": 70,
          "metadata": {},
          "output_type": "execute_result"
        }
      ],
      "source": [
        "l: list[int] = [ i for i in range(1, 11)]\n",
        "l"
      ]
    },
    {
      "cell_type": "code",
      "execution_count": 71,
      "metadata": {},
      "outputs": [
        {
          "data": {
            "text/plain": [
              "[1, 4, 9, 16, 25, 36, 49, 64, 81, 100]"
            ]
          },
          "execution_count": 71,
          "metadata": {},
          "output_type": "execute_result"
        }
      ],
      "source": [
        "l: list[int] = [ i**2 for i in range(1, 11)]\n",
        "l"
      ]
    },
    {
      "cell_type": "code",
      "execution_count": 64,
      "metadata": {
        "colab": {
          "base_uri": "https://localhost:8080/"
        },
        "id": "bK8VjRMSrEH5",
        "outputId": "6858cff9-0f4e-423b-8085-8b94d687a134"
      },
      "outputs": [
        {
          "name": "stdout",
          "output_type": "stream",
          "text": [
            "[-6, -9, -12]\n"
          ]
        }
      ],
      "source": [
        "v = [2, 3, 4 ]\n",
        "s = -3\n",
        "l3 = [i*s for i in v]\n",
        "print(l3)"
      ]
    },
    {
      "cell_type": "code",
      "execution_count": 74,
      "metadata": {},
      "outputs": [
        {
          "data": {
            "text/plain": [
              "[-10, -15, -20]"
            ]
          },
          "execution_count": 74,
          "metadata": {},
          "output_type": "execute_result"
        }
      ],
      "source": [
        "v: list[int]= [2, 3, 4]\n",
        "s: int = -5\n",
        "\n",
        "l3 = [i*s for i in v]\n",
        "l3"
      ]
    },
    {
      "cell_type": "code",
      "execution_count": 75,
      "metadata": {
        "colab": {
          "base_uri": "https://localhost:8080/"
        },
        "id": "uESx8GONrOyZ",
        "outputId": "6859b1ef-4784-47ee-dd1a-043cd5229a1d"
      },
      "outputs": [
        {
          "name": "stdout",
          "output_type": "stream",
          "text": [
            "[1, 4, 9, 16, 25]\n"
          ]
        }
      ],
      "source": [
        "# add square\n",
        "\n",
        "l4 = [i**2 for i in range(1, 6)]\n",
        "print(l4)"
      ]
    },
    {
      "cell_type": "code",
      "execution_count": 76,
      "metadata": {},
      "outputs": [
        {
          "data": {
            "text/plain": [
              "[5, 10, 15, 20, 25, 30, 35, 40, 45, 50]"
            ]
          },
          "execution_count": 76,
          "metadata": {},
          "output_type": "execute_result"
        }
      ],
      "source": [
        "l5: list[int] = [i for i in range(1, 52) if i % 5== 0]\n",
        "l5"
      ]
    },
    {
      "cell_type": "code",
      "execution_count": 80,
      "metadata": {},
      "outputs": [
        {
          "data": {
            "text/plain": [
              "['python', 'php', 'pandas']"
            ]
          },
          "execution_count": 80,
          "metadata": {},
          "output_type": "execute_result"
        }
      ],
      "source": [
        "# words start with p\n",
        "words: list[str] = ['apple', 'banana', 'cherry', 'date', 'elderberry', 'python', 'php', 'pandas']\n",
        "l6 = [ i for i in words if i.startswith('p')]\n",
        "l6"
      ]
    },
    {
      "cell_type": "code",
      "execution_count": 81,
      "metadata": {},
      "outputs": [
        {
          "data": {
            "text/plain": [
              "[40, 80]"
            ]
          },
          "execution_count": 81,
          "metadata": {},
          "output_type": "execute_result"
        }
      ],
      "source": [
        "# nested if\n",
        "\n",
        "l7 = [ i for i in range(1, 101) if i%5 == 0 if i%8 == 0]\n",
        "l7"
      ]
    },
    {
      "cell_type": "code",
      "execution_count": 47,
      "metadata": {
        "colab": {
          "base_uri": "https://localhost:8080/"
        },
        "id": "Naq1W4ofsUE1",
        "outputId": "0a39d57a-7036-4da5-be9d-574b4de66a2f"
      },
      "outputs": [
        {
          "name": "stdout",
          "output_type": "stream",
          "text": [
            "[35, 70]\n"
          ]
        }
      ],
      "source": [
        "# nested if\n",
        "\n",
        "l7 = [i for i in range(1, 101) if i%5 == 0 if i%7 == 0]\n",
        "print(l7)"
      ]
    },
    {
      "cell_type": "code",
      "execution_count": 85,
      "metadata": {},
      "outputs": [
        {
          "data": {
            "text/plain": [
              "[[1, 2], [2, 4]]"
            ]
          },
          "execution_count": 85,
          "metadata": {},
          "output_type": "execute_result"
        }
      ],
      "source": [
        "[[i*j for i in range(1, 3)] for j in range(1, 3)]"
      ]
    },
    {
      "cell_type": "code",
      "execution_count": 86,
      "metadata": {
        "colab": {
          "base_uri": "https://localhost:8080/"
        },
        "id": "LCtbcLn_tXyj",
        "outputId": "a6970494-a7eb-462d-befb-3c5e0649bfd1"
      },
      "outputs": [
        {
          "data": {
            "text/plain": [
              "[[1, 2, 3], [2, 4, 6], [3, 6, 9]]"
            ]
          },
          "execution_count": 86,
          "metadata": {},
          "output_type": "execute_result"
        }
      ],
      "source": [
        "# matrix\n",
        "\n",
        "[ [i*j for i in range(1, 4)] for j in range(1, 4)]"
      ]
    },
    {
      "cell_type": "code",
      "execution_count": 90,
      "metadata": {},
      "outputs": [
        {
          "data": {
            "text/plain": [
              "[(1, 5), (1, 9), (2, 5), (2, 9)]"
            ]
          },
          "execution_count": 90,
          "metadata": {},
          "output_type": "execute_result"
        }
      ],
      "source": [
        "# pair\n",
        "\n",
        "h: list[int] = [1, 2]\n",
        "k: list[int] = [5, 9]\n",
        "\n",
        "l8 = [(i, j) for i in h for j in k]\n",
        "l8"
      ]
    },
    {
      "cell_type": "code",
      "execution_count": 49,
      "metadata": {
        "colab": {
          "base_uri": "https://localhost:8080/"
        },
        "id": "vYJDJoUYtp8m",
        "outputId": "d593a823-3b0e-42a5-b02f-ea2aeee9bbf6"
      },
      "outputs": [
        {
          "name": "stdout",
          "output_type": "stream",
          "text": [
            "[(1, 4), (1, 5), (1, 6), (2, 4), (2, 5), (2, 6), (3, 4), (3, 5), (3, 6)]\n"
          ]
        }
      ],
      "source": [
        "# pairing\n",
        "g = [1, 2, 3]\n",
        "h = [4, 5, 6]\n",
        "l8 = [(i, j) for i in g for j in h]\n",
        "print(l8)"
      ]
    },
    {
      "cell_type": "code",
      "execution_count": 50,
      "metadata": {
        "colab": {
          "base_uri": "https://localhost:8080/"
        },
        "id": "5XWzMIbBuEkT",
        "outputId": "97697d65-c17b-4468-8c6e-320b686474cc"
      },
      "outputs": [
        {
          "name": "stdout",
          "output_type": "stream",
          "text": [
            "[4, 5, 6, 8, 10, 12, 12, 15, 18]\n"
          ]
        }
      ],
      "source": [
        "# cartesian product\n",
        "\n",
        "g = [1, 2, 3]\n",
        "h = [4, 5, 6]\n",
        "l9 = [ i*j for i in g for j in h]\n",
        "print(l9)"
      ]
    },
    {
      "cell_type": "code",
      "execution_count": null,
      "metadata": {
        "id": "yU3Pe0_UuZd2"
      },
      "outputs": [],
      "source": []
    },
    {
      "cell_type": "markdown",
      "metadata": {
        "id": "CHi_fGZ9un04"
      },
      "source": [
        "# 2 way to traverse a list\n",
        "- iteam-wise\n",
        "- index-wise"
      ]
    },
    {
      "cell_type": "code",
      "execution_count": 51,
      "metadata": {
        "colab": {
          "base_uri": "https://localhost:8080/"
        },
        "id": "TwkwinMIvORc",
        "outputId": "ab1af331-8db5-40fd-c760-111929bdb9d7"
      },
      "outputs": [
        {
          "name": "stdout",
          "output_type": "stream",
          "text": [
            "4\n",
            "5\n",
            "6\n",
            "8\n",
            "10\n",
            "12\n",
            "12\n",
            "15\n",
            "18\n"
          ]
        }
      ],
      "source": [
        "# item wise\n",
        "\n",
        "for l in l9:\n",
        "  print(l)"
      ]
    },
    {
      "cell_type": "code",
      "execution_count": 91,
      "metadata": {
        "colab": {
          "base_uri": "https://localhost:8080/"
        },
        "id": "ObZKuI2QvRCE",
        "outputId": "af6257e2-1d45-4f17-e140-18541ece5bb1"
      },
      "outputs": [
        {
          "name": "stdout",
          "output_type": "stream",
          "text": [
            "1\n",
            "2\n",
            "3\n",
            "4\n",
            "5\n"
          ]
        }
      ],
      "source": [
        "# idexwise\n",
        "y = [1, 2, 3, 4, 5]\n",
        "\n",
        "for i in range(0, len(y)):\n",
        "  print(y[i])"
      ]
    },
    {
      "cell_type": "code",
      "execution_count": 53,
      "metadata": {
        "colab": {
          "base_uri": "https://localhost:8080/"
        },
        "id": "F06P6AQDvmxv",
        "outputId": "55d81163-aac3-4b63-ed3a-6388d1a7544c"
      },
      "outputs": [
        {
          "name": "stdout",
          "output_type": "stream",
          "text": [
            "[1, 2, 3, 4, 5]\n",
            "[1, 2, 3, 4, 5]\n",
            "[1, 2, 3, 4, 5]\n",
            "[1, 2, 3, 4, 5]\n",
            "[1, 2, 3, 4, 5]\n"
          ]
        }
      ],
      "source": [
        "# idexwise\n",
        "y = [1, 2, 3, 4, 5]\n",
        "\n",
        "for i in range(len(y)):\n",
        "  print(y)"
      ]
    },
    {
      "cell_type": "markdown",
      "metadata": {
        "id": "CYdd0-Ggv-j3"
      },
      "source": [
        "# Zip"
      ]
    },
    {
      "cell_type": "markdown",
      "metadata": {},
      "source": [
        "- The zip function returns a zip object, which is an iterator of tuples where the first item in each passed iterator is paired together.\n",
        "  \n",
        "- Then the second item in each passed iterator are paired together\n",
        "and then the second item in each passed iterator are paired together etc.\n",
        "\n",
        "- If the passed iterators have different lengths, the iterator with the least items decides the length of the new iterator."
      ]
    },
    {
      "cell_type": "code",
      "execution_count": 93,
      "metadata": {
        "colab": {
          "base_uri": "https://localhost:8080/"
        },
        "id": "X2Ip9vkLwcKr",
        "outputId": "98e52e22-de34-4ee3-c1fc-b41c16c8cddd"
      },
      "outputs": [
        {
          "name": "stdout",
          "output_type": "stream",
          "text": [
            "[(1, 4), (2, 5), (3, 6)]\n"
          ]
        }
      ],
      "source": [
        "b1 = [1, 2, 3]\n",
        "b2 = [4, 5, 6, 4]\n",
        "\n",
        "print(list(zip(b1, b2)))"
      ]
    },
    {
      "cell_type": "code",
      "execution_count": 56,
      "metadata": {
        "colab": {
          "base_uri": "https://localhost:8080/"
        },
        "id": "VK3vmJbnwpw-",
        "outputId": "b79383e5-82b0-436c-8690-2e197a5043ee"
      },
      "outputs": [
        {
          "data": {
            "text/plain": [
              "[5, 7, 9]"
            ]
          },
          "execution_count": 56,
          "metadata": {},
          "output_type": "execute_result"
        }
      ],
      "source": [
        "[i+j for i,j in zip(b1, b2)]"
      ]
    },
    {
      "cell_type": "code",
      "execution_count": 96,
      "metadata": {},
      "outputs": [
        {
          "data": {
            "text/plain": [
              "[1, 32, 729]"
            ]
          },
          "execution_count": 96,
          "metadata": {},
          "output_type": "execute_result"
        }
      ],
      "source": [
        "[i**j for i, j in zip(b1, b2)]"
      ]
    },
    {
      "cell_type": "code",
      "execution_count": 97,
      "metadata": {
        "colab": {
          "base_uri": "https://localhost:8080/"
        },
        "id": "VuisK4yUw2Sa",
        "outputId": "8d252d5b-e007-4e28-b459-5fff474559db"
      },
      "outputs": [
        {
          "name": "stdout",
          "output_type": "stream",
          "text": [
            "[1, 7, True, (5+3j), <bound method Kernel.raw_input of <ipykernel.ipkernel.IPythonKernel object at 0x0000016661C77170>>, 'hello', <built-in function print>, 'print']\n"
          ]
        }
      ],
      "source": [
        "m = [1, 7, True, 5+3j, input, 'hello', print, 'print']\n",
        "print(m)"
      ]
    },
    {
      "cell_type": "code",
      "execution_count": 58,
      "metadata": {
        "colab": {
          "base_uri": "https://localhost:8080/"
        },
        "id": "ObSTQVFfeost",
        "outputId": "bc5d2823-da3d-49bc-f47d-b9604052ca54"
      },
      "outputs": [
        {
          "name": "stdout",
          "output_type": "stream",
          "text": [
            "[1, 2, 3]\n",
            "[1, 2, 3]\n",
            "[1, 2, 3, 4]\n",
            "[1, 2, 3]\n"
          ]
        }
      ],
      "source": [
        "a = [1, 2, 3]\n",
        "b = a.copy()\n",
        "\n",
        "print(a)\n",
        "print(b)\n",
        "\n",
        "a.append(4)\n",
        "print(a)\n",
        "print(b)"
      ]
    }
  ],
  "metadata": {
    "colab": {
      "provenance": []
    },
    "kernelspec": {
      "display_name": "Python 3",
      "name": "python3"
    },
    "language_info": {
      "codemirror_mode": {
        "name": "ipython",
        "version": 3
      },
      "file_extension": ".py",
      "mimetype": "text/x-python",
      "name": "python",
      "nbconvert_exporter": "python",
      "pygments_lexer": "ipython3",
      "version": "3.12.3"
    }
  },
  "nbformat": 4,
  "nbformat_minor": 0
}
