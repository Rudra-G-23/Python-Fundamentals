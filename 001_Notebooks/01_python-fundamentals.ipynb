{
 "cells": [
  {
   "cell_type": "markdown",
   "metadata": {
    "id": "Tz7tlnyfbOFz"
   },
   "source": [
    "Hello Data points 😄\n",
    "\n",
    "# My Class Notes\n",
    "\n",
    "**By Rudra**\n",
    "\n",
    "> Hi everyone, these are my class notes from one of my favorite teachers, Nitesh sir.\n",
    "\n",
    "Class- [Link](#https://www.youtube.com/live/1z5-O7-5AXk?si=sNzNJbgThpzOkPg9)\n",
    "\n"
   ]
  },
  {
   "cell_type": "markdown",
   "metadata": {
    "id": "sKPngcb3AN3a"
   },
   "source": [
    "# 1. Python Output\n",
    "\n",
    "Say hello 👋 to the world in code language.\n",
    "This is our first code.\n",
    "What you think ?"
   ]
  },
  {
   "cell_type": "markdown",
   "metadata": {
    "colab": {
     "base_uri": "https://localhost:8080/"
    },
    "executionInfo": {
     "elapsed": 516,
     "status": "ok",
     "timestamp": 1721929749012,
     "user": {
      "displayName": "Rudra prasad bhuyan",
      "userId": "16853032764813875497"
     },
     "user_tz": -330
    },
    "id": "FXQsJRd1_0s7",
    "outputId": "a6c68f5c-4aa6-4368-e6cc-6304bb5d437e"
   },
   "source": [
    "print('Hello World')"
   ]
  },
  {
   "cell_type": "code",
   "execution_count": 1,
   "metadata": {},
   "outputs": [
    {
     "name": "stdout",
     "output_type": "stream",
     "text": [
      "Hello World\n"
     ]
    }
   ],
   "source": [
    "print('Hello World')"
   ]
  },
  {
   "cell_type": "code",
   "execution_count": 2,
   "metadata": {
    "colab": {
     "base_uri": "https://localhost:8080/"
    },
    "executionInfo": {
     "elapsed": 508,
     "status": "ok",
     "timestamp": 1721929829779,
     "user": {
      "displayName": "Rudra prasad bhuyan",
      "userId": "16853032764813875497"
     },
     "user_tz": -330
    },
    "id": "QMsaI7yEA0Iq",
    "outputId": "7d3151ae-d967-4517-d370-83917eafea72"
   },
   "outputs": [
    {
     "name": "stdout",
     "output_type": "stream",
     "text": [
      "Rudra \n"
     ]
    }
   ],
   "source": [
    "print('Rudra ')"
   ]
  },
  {
   "cell_type": "code",
   "execution_count": 3,
   "metadata": {
    "colab": {
     "base_uri": "https://localhost:8080/"
    },
    "executionInfo": {
     "elapsed": 483,
     "status": "ok",
     "timestamp": 1721930034741,
     "user": {
      "displayName": "Rudra prasad bhuyan",
      "userId": "16853032764813875497"
     },
     "user_tz": -330
    },
    "id": "2nsi7zvqBn15",
    "outputId": "8221cfea-3bbd-4edf-9163-d3f115c8a103"
   },
   "outputs": [
    {
     "name": "stdout",
     "output_type": "stream",
     "text": [
      "7\n"
     ]
    }
   ],
   "source": [
    "print(7) # print a number "
   ]
  },
  {
   "cell_type": "code",
   "execution_count": 4,
   "metadata": {
    "id": "vSjkExvcBn5j"
   },
   "outputs": [
    {
     "name": "stdout",
     "output_type": "stream",
     "text": [
      "7.7\n"
     ]
    }
   ],
   "source": [
    "print(7.7) # decimal "
   ]
  },
  {
   "cell_type": "code",
   "execution_count": 5,
   "metadata": {
    "colab": {
     "base_uri": "https://localhost:8080/"
    },
    "executionInfo": {
     "elapsed": 472,
     "status": "ok",
     "timestamp": 1721930037370,
     "user": {
      "displayName": "Rudra prasad bhuyan",
      "userId": "16853032764813875497"
     },
     "user_tz": -330
    },
    "id": "U82qnF4TBoGh",
    "outputId": "8e97ae89-943f-44d6-af57-e6520e045ec2"
   },
   "outputs": [
    {
     "name": "stdout",
     "output_type": "stream",
     "text": [
      "True\n"
     ]
    }
   ],
   "source": [
    "print(True) # boolean "
   ]
  },
  {
   "cell_type": "code",
   "execution_count": 7,
   "metadata": {
    "colab": {
     "base_uri": "https://localhost:8080/"
    },
    "executionInfo": {
     "elapsed": 6,
     "status": "ok",
     "timestamp": 1721930197340,
     "user": {
      "displayName": "Rudra prasad bhuyan",
      "userId": "16853032764813875497"
     },
     "user_tz": -330
    },
    "id": "GaTOYn25B0Ri",
    "outputId": "a7a074ed-7916-43ad-eaee-2cda711ec4db"
   },
   "outputs": [
    {
     "name": "stdout",
     "output_type": "stream",
     "text": [
      "India 7 7.7 True\n"
     ]
    }
   ],
   "source": [
    "print('India', 7, 7.7, True)  # print a bunch of text by comma separated "
   ]
  },
  {
   "cell_type": "code",
   "execution_count": 8,
   "metadata": {
    "colab": {
     "base_uri": "https://localhost:8080/"
    },
    "executionInfo": {
     "elapsed": 642,
     "status": "ok",
     "timestamp": 1721930289393,
     "user": {
      "displayName": "Rudra prasad bhuyan",
      "userId": "16853032764813875497"
     },
     "user_tz": -330
    },
    "id": "lPfY9HDgCbk2",
    "outputId": "219adffa-fcfe-4a21-e086-364b32e7a300"
   },
   "outputs": [
    {
     "name": "stdout",
     "output_type": "stream",
     "text": [
      "India|7|7.7|True\n"
     ]
    }
   ],
   "source": [
    "print('India', 7, 7.7, True, sep='|') # 'sep=' help to create own separator in output"
   ]
  },
  {
   "cell_type": "code",
   "execution_count": null,
   "metadata": {
    "colab": {
     "base_uri": "https://localhost:8080/"
    },
    "executionInfo": {
     "elapsed": 496,
     "status": "ok",
     "timestamp": 1721930369078,
     "user": {
      "displayName": "Rudra prasad bhuyan",
      "userId": "16853032764813875497"
     },
     "user_tz": -330
    },
    "id": "vS4_PPfXC1oC",
    "outputId": "92772eec-1764-424a-be57-8b944b9563aa"
   },
   "outputs": [
    {
     "name": "stdout",
     "output_type": "stream",
     "text": [
      "hello\n",
      "world\n"
     ]
    }
   ],
   "source": [
    "print('hello')  # 'end=' parameter is '\\n'\n",
    "print('world') "
   ]
  },
  {
   "cell_type": "code",
   "execution_count": null,
   "metadata": {},
   "outputs": [
    {
     "name": "stdout",
     "output_type": "stream",
     "text": [
      "Hello \n",
      " World\n"
     ]
    }
   ],
   "source": [
    "print('Hello \\n World') # \\n -> next line "
   ]
  },
  {
   "cell_type": "code",
   "execution_count": null,
   "metadata": {
    "colab": {
     "base_uri": "https://localhost:8080/"
    },
    "executionInfo": {
     "elapsed": 525,
     "status": "ok",
     "timestamp": 1721930469415,
     "user": {
      "displayName": "Rudra prasad bhuyan",
      "userId": "16853032764813875497"
     },
     "user_tz": -330
    },
    "id": "1m4g-x1HDEnC",
    "outputId": "c633b152-a431-4cc7-ee4f-7e5d8d8dd6ea"
   },
   "outputs": [
    {
     "name": "stdout",
     "output_type": "stream",
     "text": [
      "hello---world\n"
     ]
    }
   ],
   "source": [
    "print('hello', end='---')\n",
    "print('world')\n"
   ]
  },
  {
   "cell_type": "markdown",
   "metadata": {},
   "source": [
    "You can see the documentation to know about more. "
   ]
  },
  {
   "cell_type": "markdown",
   "metadata": {
    "id": "0uqIj2sJAyii"
   },
   "source": [
    "# 2. Data Types"
   ]
  },
  {
   "cell_type": "code",
   "execution_count": 11,
   "metadata": {
    "colab": {
     "base_uri": "https://localhost:8080/"
    },
    "executionInfo": {
     "elapsed": 496,
     "status": "ok",
     "timestamp": 1721930694542,
     "user": {
      "displayName": "Rudra prasad bhuyan",
      "userId": "16853032764813875497"
     },
     "user_tz": -330
    },
    "id": "movm82UL_-yy",
    "outputId": "b17f5799-604f-43fe-f92f-0c3552a1281c"
   },
   "outputs": [
    {
     "name": "stdout",
     "output_type": "stream",
     "text": [
      "8\n",
      "inf\n"
     ]
    }
   ],
   "source": [
    "# integer\n",
    "\n",
    "print(8)\n",
    "# 1*10^308\n",
    "print(1e309)"
   ]
  },
  {
   "cell_type": "code",
   "execution_count": 12,
   "metadata": {
    "colab": {
     "base_uri": "https://localhost:8080/"
    },
    "executionInfo": {
     "elapsed": 584,
     "status": "ok",
     "timestamp": 1721930751898,
     "user": {
      "displayName": "Rudra prasad bhuyan",
      "userId": "16853032764813875497"
     },
     "user_tz": -330
    },
    "id": "5mPH3XYkETqW",
    "outputId": "070d89a2-2cec-4195-894e-9632686683d6"
   },
   "outputs": [
    {
     "name": "stdout",
     "output_type": "stream",
     "text": [
      "8.55\n",
      "inf\n"
     ]
    }
   ],
   "source": [
    "# Decimal / float\n",
    "\n",
    "print(8.55)\n",
    "print(1.7e309)"
   ]
  },
  {
   "cell_type": "code",
   "execution_count": 13,
   "metadata": {
    "colab": {
     "base_uri": "https://localhost:8080/"
    },
    "executionInfo": {
     "elapsed": 480,
     "status": "ok",
     "timestamp": 1721930777746,
     "user": {
      "displayName": "Rudra prasad bhuyan",
      "userId": "16853032764813875497"
     },
     "user_tz": -330
    },
    "id": "rYYTD5OoEduH",
    "outputId": "8c95417a-2b98-47fa-ac11-4d7270f8b277"
   },
   "outputs": [
    {
     "name": "stdout",
     "output_type": "stream",
     "text": [
      "True\n",
      "False\n"
     ]
    }
   ],
   "source": [
    "# Boolean\n",
    "\n",
    "print(True)\n",
    "print(False)"
   ]
  },
  {
   "cell_type": "code",
   "execution_count": 14,
   "metadata": {
    "colab": {
     "base_uri": "https://localhost:8080/"
    },
    "executionInfo": {
     "elapsed": 475,
     "status": "ok",
     "timestamp": 1721930808929,
     "user": {
      "displayName": "Rudra prasad bhuyan",
      "userId": "16853032764813875497"
     },
     "user_tz": -330
    },
    "id": "1kwvjutTEn_Y",
    "outputId": "35adacd0-d7d3-4739-ef6d-40af0afef83a"
   },
   "outputs": [
    {
     "name": "stdout",
     "output_type": "stream",
     "text": [
      "Hello World\n"
     ]
    }
   ],
   "source": [
    "# Text / String\n",
    "\n",
    "print('Hello World')"
   ]
  },
  {
   "cell_type": "code",
   "execution_count": 15,
   "metadata": {
    "colab": {
     "base_uri": "https://localhost:8080/"
    },
    "executionInfo": {
     "elapsed": 467,
     "status": "ok",
     "timestamp": 1721930828405,
     "user": {
      "displayName": "Rudra prasad bhuyan",
      "userId": "16853032764813875497"
     },
     "user_tz": -330
    },
    "id": "SWGMacTiEvmp",
    "outputId": "208327c5-87d2-4d6a-878b-f517dc3f99d3"
   },
   "outputs": [
    {
     "name": "stdout",
     "output_type": "stream",
     "text": [
      "(5+6j)\n"
     ]
    }
   ],
   "source": [
    "# complex\n",
    "\n",
    "print(5+6j)"
   ]
  },
  {
   "cell_type": "code",
   "execution_count": 16,
   "metadata": {
    "colab": {
     "base_uri": "https://localhost:8080/"
    },
    "executionInfo": {
     "elapsed": 488,
     "status": "ok",
     "timestamp": 1721930850357,
     "user": {
      "displayName": "Rudra prasad bhuyan",
      "userId": "16853032764813875497"
     },
     "user_tz": -330
    },
    "id": "xSTVNLOCE0XT",
    "outputId": "c6175fa2-74b1-497d-d721-91fc6396c49e"
   },
   "outputs": [
    {
     "name": "stdout",
     "output_type": "stream",
     "text": [
      "[1, 2, 3, 4, 5]\n"
     ]
    }
   ],
   "source": [
    "# List\n",
    "\n",
    "print([1,2,3,4,5])"
   ]
  },
  {
   "cell_type": "code",
   "execution_count": 17,
   "metadata": {
    "colab": {
     "base_uri": "https://localhost:8080/"
    },
    "executionInfo": {
     "elapsed": 704,
     "status": "ok",
     "timestamp": 1721930879043,
     "user": {
      "displayName": "Rudra prasad bhuyan",
      "userId": "16853032764813875497"
     },
     "user_tz": -330
    },
    "id": "G9q9Ld8SE5uK",
    "outputId": "3af8e33d-9550-4aa5-fe3f-641280224036"
   },
   "outputs": [
    {
     "name": "stdout",
     "output_type": "stream",
     "text": [
      "(1, 2, 3, 4, 5)\n"
     ]
    }
   ],
   "source": [
    "# Tuple\n",
    "\n",
    "print( (1, 2, 3, 4, 5) )"
   ]
  },
  {
   "cell_type": "code",
   "execution_count": 18,
   "metadata": {
    "colab": {
     "base_uri": "https://localhost:8080/"
    },
    "executionInfo": {
     "elapsed": 593,
     "status": "ok",
     "timestamp": 1721930892633,
     "user": {
      "displayName": "Rudra prasad bhuyan",
      "userId": "16853032764813875497"
     },
     "user_tz": -330
    },
    "id": "3CQtRZZFFAqs",
    "outputId": "0e355587-a42d-48ef-b5fc-ebf397b5afb4"
   },
   "outputs": [
    {
     "name": "stdout",
     "output_type": "stream",
     "text": [
      "{1, 2, 3, 4, 5}\n"
     ]
    }
   ],
   "source": [
    "# Sets\n",
    "\n",
    "print({1,2,3,4,5})"
   ]
  },
  {
   "cell_type": "code",
   "execution_count": 19,
   "metadata": {
    "colab": {
     "base_uri": "https://localhost:8080/"
    },
    "executionInfo": {
     "elapsed": 568,
     "status": "ok",
     "timestamp": 1721930935496,
     "user": {
      "displayName": "Rudra prasad bhuyan",
      "userId": "16853032764813875497"
     },
     "user_tz": -330
    },
    "id": "HPwdUz2uFEBD",
    "outputId": "59c02d0e-29eb-40c0-8189-532003c8a5c8"
   },
   "outputs": [
    {
     "name": "stdout",
     "output_type": "stream",
     "text": [
      "{'name': 'Rudra', 'gender': 'Male', 'weight': 65}\n"
     ]
    }
   ],
   "source": [
    "# Dictionary\n",
    "\n",
    "print({'name':'Rudra', 'gender':'Male', 'weight':65})"
   ]
  },
  {
   "cell_type": "code",
   "execution_count": null,
   "metadata": {
    "colab": {
     "base_uri": "https://localhost:8080/"
    },
    "executionInfo": {
     "elapsed": 474,
     "status": "ok",
     "timestamp": 1721931178040,
     "user": {
      "displayName": "Rudra prasad bhuyan",
      "userId": "16853032764813875497"
     },
     "user_tz": -330
    },
    "id": "TaYWlXElGE5t",
    "outputId": "9f719cb4-d60b-40d9-f899-c645b179652f"
   },
   "outputs": [
    {
     "data": {
      "text/plain": [
       "list"
      ]
     },
     "execution_count": 20,
     "metadata": {},
     "output_type": "execute_result"
    }
   ],
   "source": [
    "# tyoe function -- it helps to know the data type inside the print functions  \n",
    "\n",
    "type([1,2,3])"
   ]
  },
  {
   "cell_type": "markdown",
   "metadata": {
    "id": "Giwl48DRFW3H"
   },
   "source": [
    "# 3. Variables\n",
    "- They are container for future"
   ]
  },
  {
   "cell_type": "code",
   "execution_count": 21,
   "metadata": {
    "colab": {
     "base_uri": "https://localhost:8080/"
    },
    "executionInfo": {
     "elapsed": 551,
     "status": "ok",
     "timestamp": 1721931594398,
     "user": {
      "displayName": "Rudra prasad bhuyan",
      "userId": "16853032764813875497"
     },
     "user_tz": -330
    },
    "id": "r_EQA9eoFV6H",
    "outputId": "b0d18c02-41f5-4185-9d62-d08ca97b478f"
   },
   "outputs": [
    {
     "name": "stdout",
     "output_type": "stream",
     "text": [
      "Rudra\n",
      "11\n"
     ]
    }
   ],
   "source": [
    "\n",
    "name = 'Rudra'\n",
    "print(name)\n",
    "\n",
    "a = 5\n",
    "b = 6\n",
    "\n",
    "print(a + b)"
   ]
  },
  {
   "cell_type": "code",
   "execution_count": 22,
   "metadata": {
    "id": "WCdrp7RXHvVs"
   },
   "outputs": [],
   "source": [
    "# Dynamic Typing\n",
    "\n",
    "a = 5\n",
    "# var can change through out the code\n",
    "\n",
    "# Static Binding\n",
    "a = 10"
   ]
  },
  {
   "cell_type": "code",
   "execution_count": 23,
   "metadata": {
    "colab": {
     "base_uri": "https://localhost:8080/"
    },
    "executionInfo": {
     "elapsed": 480,
     "status": "ok",
     "timestamp": 1721931891498,
     "user": {
      "displayName": "Rudra prasad bhuyan",
      "userId": "16853032764813875497"
     },
     "user_tz": -330
    },
    "id": "G7wB8hp6ID7J",
    "outputId": "738c3dd1-df9b-4d8c-d09d-4d2211655df5"
   },
   "outputs": [
    {
     "name": "stdout",
     "output_type": "stream",
     "text": [
      "12\n"
     ]
    }
   ],
   "source": [
    "a = 5\n",
    "b = 2\n",
    "c = 5\n",
    "\n",
    "print(a + b + c)"
   ]
  },
  {
   "cell_type": "code",
   "execution_count": 24,
   "metadata": {
    "colab": {
     "base_uri": "https://localhost:8080/"
    },
    "executionInfo": {
     "elapsed": 648,
     "status": "ok",
     "timestamp": 1721931910885,
     "user": {
      "displayName": "Rudra prasad bhuyan",
      "userId": "16853032764813875497"
     },
     "user_tz": -330
    },
    "id": "WN8aK1q-I5EA",
    "outputId": "a599e950-2a5f-4f52-9c19-b0e9c525d9fa"
   },
   "outputs": [
    {
     "name": "stdout",
     "output_type": "stream",
     "text": [
      "15\n",
      "5 5 5\n"
     ]
    }
   ],
   "source": [
    "a = b = c = 5\n",
    "print(a + b + c)\n",
    "print(a, b, c)"
   ]
  },
  {
   "cell_type": "markdown",
   "metadata": {
    "id": "b7IWHz4SJhCw"
   },
   "source": [
    "# comments\n",
    "\n",
    "- it is very useful \n",
    "- This comments say to the terminal don't eacute "
   ]
  },
  {
   "cell_type": "code",
   "execution_count": null,
   "metadata": {
    "id": "opi2iOEOJk1U"
   },
   "outputs": [],
   "source": [
    "# single line by line code write\n",
    "\n",
    "/*\n",
    "    This is a multi-line comment.\n",
    "    It can span several lines.\n",
    "*/\n"
   ]
  },
  {
   "cell_type": "markdown",
   "metadata": {
    "id": "79lEg0sUJqum"
   },
   "source": [
    "# 4. Keywords & Identifiiers\n",
    "\n",
    "https://www.geeksforgeeks.org/python-keywords-and-identifiers/"
   ]
  },
  {
   "cell_type": "code",
   "execution_count": null,
   "metadata": {
    "id": "lw4ugW97KFbQ"
   },
   "outputs": [],
   "source": [
    "# compilation - it is language to convert your word into binary\n",
    "# compile - all in directly\n",
    "# interposer - one by one"
   ]
  },
  {
   "cell_type": "code",
   "execution_count": 27,
   "metadata": {
    "colab": {
     "base_uri": "https://localhost:8080/"
    },
    "executionInfo": {
     "elapsed": 521,
     "status": "ok",
     "timestamp": 1721932408359,
     "user": {
      "displayName": "Rudra prasad bhuyan",
      "userId": "16853032764813875497"
     },
     "user_tz": -330
    },
    "id": "pQmepQ61KFqK",
    "outputId": "db1e3806-cffc-4cc3-ed85-3f22ca360992"
   },
   "outputs": [
    {
     "name": "stdout",
     "output_type": "stream",
     "text": [
      "['False', 'None', 'True', 'and', 'as', 'assert', 'async', 'await', 'break', 'class', 'continue', 'def', 'del', 'elif', 'else', 'except', 'finally', 'for', 'from', 'global', 'if', 'import', 'in', 'is', 'lambda', 'nonlocal', 'not', 'or', 'pass', 'raise', 'return', 'try', 'while', 'with', 'yield']\n"
     ]
    }
   ],
   "source": [
    "import keyword\n",
    "print(keyword.kwlist)\n"
   ]
  },
  {
   "cell_type": "code",
   "execution_count": 28,
   "metadata": {
    "id": "SOXlsHMKun8Z"
   },
   "outputs": [
    {
     "name": "stdout",
     "output_type": "stream",
     "text": [
      "Rudra\n",
      "Rudra_Prasad_bhuyan\n"
     ]
    }
   ],
   "source": [
    "# Identifiers\n",
    "\n",
    "# you can't start with a digit\n",
    "namw1 = 'Rudra'\n",
    "print(namw1)\n",
    "\n",
    "# you can use only underscore\n",
    "name2 = 'Rudra_Prasad_bhuyan'\n",
    "print(name2)\n",
    "\n",
    "# you can't use special symbols\n",
    "# case sensitive"
   ]
  },
  {
   "cell_type": "markdown",
   "metadata": {
    "id": "fEWjs6nBu1si"
   },
   "source": [
    "# 5. User Heading"
   ]
  },
  {
   "cell_type": "code",
   "execution_count": 29,
   "metadata": {
    "colab": {
     "base_uri": "https://localhost:8080/",
     "height": 53
    },
    "executionInfo": {
     "elapsed": 19792,
     "status": "ok",
     "timestamp": 1721959345166,
     "user": {
      "displayName": "Rudra prasad bhuyan",
      "userId": "16853032764813875497"
     },
     "user_tz": -330
    },
    "id": "4kR5hRWKwsGl",
    "outputId": "114baa04-2bd2-4922-c45b-b612eae42367"
   },
   "outputs": [
    {
     "data": {
      "text/plain": [
       "'rudra@gmail.com'"
      ]
     },
     "execution_count": 29,
     "metadata": {},
     "output_type": "execute_result"
    }
   ],
   "source": [
    "input('Enter Your Email :')"
   ]
  },
  {
   "cell_type": "code",
   "execution_count": null,
   "metadata": {
    "colab": {
     "base_uri": "https://localhost:8080/"
    },
    "executionInfo": {
     "elapsed": 7703,
     "status": "ok",
     "timestamp": 1721960249606,
     "user": {
      "displayName": "Rudra prasad bhuyan",
      "userId": "16853032764813875497"
     },
     "user_tz": -330
    },
    "id": "QS5POP1exoyg",
    "outputId": "a1d65d4a-3d89-4145-c2c3-2e67038181fb"
   },
   "outputs": [
    {
     "name": "stdout",
     "output_type": "stream",
     "text": [
      "enter first number :100\n",
      "enter second number :25\n",
      "125\n",
      "<class 'str'>\n"
     ]
    }
   ],
   "source": [
    "# Take input from user and store them in a variable\n",
    "fnum = input('enter first number :')\n",
    "snum = input('enter second number :')\n",
    "\n",
    "# add tow variables\n",
    "result = int(fnum) + int(snum)\n",
    "\n",
    "# print the result\n",
    "print(result)\n",
    "\n",
    "print(type(fnum))\n",
    "# it doesnot change the original data type"
   ]
  },
  {
   "cell_type": "markdown",
   "metadata": {
    "id": "8fOaLHbHxArI"
   },
   "source": [
    "# 6. Type conversion"
   ]
  },
  {
   "cell_type": "markdown",
   "metadata": {
    "id": "T7eyxtJGza7N"
   },
   "source": [
    "- Implicit Type Conversion: This is done automatically by Python.\n",
    "\n",
    "- Explicit Type Conversion: This is done by the programmer using predefined functions"
   ]
  },
  {
   "cell_type": "code",
   "execution_count": 30,
   "metadata": {
    "colab": {
     "base_uri": "https://localhost:8080/",
     "height": 211
    },
    "executionInfo": {
     "elapsed": 568,
     "status": "error",
     "timestamp": 1721959913042,
     "user": {
      "displayName": "Rudra prasad bhuyan",
      "userId": "16853032764813875497"
     },
     "user_tz": -330
    },
    "id": "6ybPgViRxmco",
    "outputId": "64f1199b-db93-4651-fef1-e818fb88d2b1"
   },
   "outputs": [
    {
     "name": "stdout",
     "output_type": "stream",
     "text": [
      "10.6\n",
      "<class 'int'> <class 'float'>\n"
     ]
    }
   ],
   "source": [
    "# implicit\n",
    "print(5+5.6)\n",
    "print(type(5), type(5.6))"
   ]
  },
  {
   "cell_type": "code",
   "execution_count": 31,
   "metadata": {},
   "outputs": [
    {
     "ename": "TypeError",
     "evalue": "unsupported operand type(s) for +: 'int' and 'str'",
     "output_type": "error",
     "traceback": [
      "\u001b[1;31m---------------------------------------------------------------------------\u001b[0m",
      "\u001b[1;31mTypeError\u001b[0m                                 Traceback (most recent call last)",
      "Cell \u001b[1;32mIn[31], line 1\u001b[0m\n\u001b[1;32m----> 1\u001b[0m \u001b[38;5;28mprint\u001b[39m(\u001b[38;5;241;43m4\u001b[39;49m\u001b[43m \u001b[49m\u001b[38;5;241;43m+\u001b[39;49m\u001b[43m \u001b[49m\u001b[38;5;124;43m'\u001b[39;49m\u001b[38;5;124;43m4\u001b[39;49m\u001b[38;5;124;43m'\u001b[39;49m) \u001b[38;5;66;03m# this show an error\u001b[39;00m\n",
      "\u001b[1;31mTypeError\u001b[0m: unsupported operand type(s) for +: 'int' and 'str'"
     ]
    }
   ],
   "source": [
    "print(4 + '4') # this show an error"
   ]
  },
  {
   "cell_type": "code",
   "execution_count": 32,
   "metadata": {
    "colab": {
     "base_uri": "https://localhost:8080/"
    },
    "executionInfo": {
     "elapsed": 530,
     "status": "ok",
     "timestamp": 1721960065178,
     "user": {
      "displayName": "Rudra prasad bhuyan",
      "userId": "16853032764813875497"
     },
     "user_tz": -330
    },
    "id": "iwo5XXo1zxDG",
    "outputId": "6fe16727-9fd2-4620-afa8-5578f94a9365"
   },
   "outputs": [
    {
     "name": "stdout",
     "output_type": "stream",
     "text": [
      "<class 'int'>\n",
      "4\n",
      "4.0\n"
     ]
    }
   ],
   "source": [
    "# Explicit\n",
    "# str -> int\n",
    "print(type(int('4')))\n",
    "\n",
    "# float -> int\n",
    "print(int(4.5))\n",
    "\n",
    "# int -> float\n",
    "print(float(4))"
   ]
  },
  {
   "cell_type": "markdown",
   "metadata": {
    "id": "LBHvtgvf1enm"
   },
   "source": [
    "# 7. Literals"
   ]
  },
  {
   "cell_type": "code",
   "execution_count": 36,
   "metadata": {
    "colab": {
     "base_uri": "https://localhost:8080/"
    },
    "executionInfo": {
     "elapsed": 550,
     "status": "ok",
     "timestamp": 1721960692347,
     "user": {
      "displayName": "Rudra prasad bhuyan",
      "userId": "16853032764813875497"
     },
     "user_tz": -330
    },
    "id": "47Ovkv8o1uOD",
    "outputId": "2eac035a-f014-4b60-e1f0-24a0f539f551"
   },
   "outputs": [
    {
     "name": "stdout",
     "output_type": "stream",
     "text": [
      "10 100 200 300\n",
      "10.5 150.0 0.0015\n",
      "3.14j 3.14 0.0\n"
     ]
    }
   ],
   "source": [
    "# integer\n",
    "a = 0b1010 # Binary Literals\n",
    "b = 100 # Decimal Literal\n",
    "c = 0o310 # Octal Literal\n",
    "d = 0x12c # Hexadecimal Literal\n",
    "\n",
    "#float Literal\n",
    "float_1 = 10.5\n",
    "float_2 = 1.5e2 #1.5 * 1o^2  --> Very big\n",
    "float_3 = 1.5e-3 #1.5 * 1o^-3 -->Very small\n",
    "\n",
    "# complex Literal\n",
    "x = 3.14j\n",
    "\n",
    "print(a, b, c, d)\n",
    "print(float_1, float_2, float_3)\n",
    "print(x, x.imag, x.real)"
   ]
  },
  {
   "cell_type": "code",
   "execution_count": 37,
   "metadata": {
    "colab": {
     "base_uri": "https://localhost:8080/"
    },
    "executionInfo": {
     "elapsed": 585,
     "status": "ok",
     "timestamp": 1721961042153,
     "user": {
      "displayName": "Rudra prasad bhuyan",
      "userId": "16853032764813875497"
     },
     "user_tz": -330
    },
    "id": "7x4yOkw52vUt",
    "outputId": "97969023-b742-45d2-be18-97287d3e437e"
   },
   "outputs": [
    {
     "name": "stdout",
     "output_type": "stream",
     "text": [
      "This is Python\n",
      "This is Python\n",
      "Python\n",
      "Hello Data Points\n",
      "raw \\n string\n",
      "🙂❤😆\n"
     ]
    }
   ],
   "source": [
    "string = 'This is Python' # single quotation\n",
    "strings = \"This is Python\" # double quotation\n",
    "\n",
    "char = 'Python'\n",
    "multieple_line = '''Hello Data Points'''\n",
    "raw_str = r\"raw \\n string\"\n",
    "\n",
    "unicode = u\"\\U0001F642\\u2764\\U0001F606\"\n",
    "\n",
    "print(string)\n",
    "print(strings)\n",
    "print(char)\n",
    "print(multieple_line)\n",
    "print(raw_str)\n",
    "print(unicode)"
   ]
  },
  {
   "cell_type": "code",
   "execution_count": 38,
   "metadata": {
    "colab": {
     "base_uri": "https://localhost:8080/"
    },
    "executionInfo": {
     "elapsed": 818,
     "status": "ok",
     "timestamp": 1721961062361,
     "user": {
      "displayName": "Rudra prasad bhuyan",
      "userId": "16853032764813875497"
     },
     "user_tz": -330
    },
    "id": "0qc4Te1K3LpL",
    "outputId": "59700d51-b6c7-458c-aa18-984086722ed7"
   },
   "outputs": [
    {
     "name": "stdout",
     "output_type": "stream",
     "text": [
      "Smile: 🙂\n",
      "Laugh: 😂\n",
      "Laughing: 😆\n",
      "Clapping: 👏\n",
      "Dancing: 💃\n",
      "Heart: ❤\n"
     ]
    }
   ],
   "source": [
    "# Unicode characters\n",
    "\n",
    "smile = \"\\U0001F642\"  # 🙂\n",
    "laugh = \"\\U0001F602\"  # 😂\n",
    "laughing = \"\\U0001F606\"  # 😆\n",
    "clapping = \"\\U0001F44F\"  # 👏\n",
    "dancing = \"\\U0001F483\"  # 💃\n",
    "heart = \"\\u2764\"  # ❤️\n",
    "\n",
    "print(\"Smile:\", smile)\n",
    "print(\"Laugh:\", laugh)\n",
    "print(\"Laughing:\", laughing)\n",
    "print(\"Clapping:\", clapping)\n",
    "print(\"Dancing:\", dancing)\n",
    "print(\"Heart:\", heart)"
   ]
  },
  {
   "cell_type": "code",
   "execution_count": 39,
   "metadata": {
    "colab": {
     "base_uri": "https://localhost:8080/"
    },
    "executionInfo": {
     "elapsed": 548,
     "status": "ok",
     "timestamp": 1721961121453,
     "user": {
      "displayName": "Rudra prasad bhuyan",
      "userId": "16853032764813875497"
     },
     "user_tz": -330
    },
    "id": "wIKBDjNO4Kyy",
    "outputId": "d73b78d1-adbf-417d-d5b5-1b37793867f2"
   },
   "outputs": [
    {
     "name": "stdout",
     "output_type": "stream",
     "text": [
      "a: 5\n",
      "b: 10\n"
     ]
    }
   ],
   "source": [
    "# internal python think True = 1 & False = 0\n",
    "\n",
    "a = True + 4\n",
    "b = False + 10\n",
    "\n",
    "print(\"a:\", a)\n",
    "print(\"b:\", b)"
   ]
  },
  {
   "cell_type": "code",
   "execution_count": 40,
   "metadata": {
    "colab": {
     "base_uri": "https://localhost:8080/"
    },
    "executionInfo": {
     "elapsed": 610,
     "status": "ok",
     "timestamp": 1721961240951,
     "user": {
      "displayName": "Rudra prasad bhuyan",
      "userId": "16853032764813875497"
     },
     "user_tz": -330
    },
    "id": "VAYd2_UU4YEZ",
    "outputId": "86628ffd-8b06-462c-ee8e-a628ca84432e"
   },
   "outputs": [
    {
     "name": "stdout",
     "output_type": "stream",
     "text": [
      "None\n",
      "Program exe\n"
     ]
    }
   ],
   "source": [
    "R = None\n",
    "print(R)\n",
    "\n",
    "a = 5\n",
    "b = 6\n",
    "print('Program exe')"
   ]
  },
  {
   "cell_type": "markdown",
   "metadata": {
    "id": "nC-R6mO74nsj"
   },
   "source": [
    "Opraters and if-else in next notebook\n",
    "\n",
    "21:06 pm \n",
    "25-03-20025"
   ]
  },
  {
   "cell_type": "markdown",
   "metadata": {},
   "source": [
    "# Thank you "
   ]
  }
 ],
 "metadata": {
  "colab": {
   "authorship_tag": "ABX9TyOARpKbJ3xAbKensAYbl+GW",
   "provenance": []
  },
  "kernelspec": {
   "display_name": "Python 3",
   "name": "python3"
  },
  "language_info": {
   "codemirror_mode": {
    "name": "ipython",
    "version": 3
   },
   "file_extension": ".py",
   "mimetype": "text/x-python",
   "name": "python",
   "nbconvert_exporter": "python",
   "pygments_lexer": "ipython3",
   "version": "3.12.3"
  }
 },
 "nbformat": 4,
 "nbformat_minor": 0
}
